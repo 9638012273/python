{
 "cells": [
  {
   "cell_type": "code",
   "execution_count": null,
   "metadata": {},
   "outputs": [],
   "source": [
    "# labwork-10.2 #\n",
    "#=============#\n",
    "\n",
    "#Question bank link\n",
    "\n",
    "#https://docs.google.com/document/d/1sY651X5pFw4-qjFh2Z0SXh8o0ahacf9LZ-jukDO0r6A/edit?tab=t.0"
   ]
  },
  {
   "cell_type": "code",
   "execution_count": 10,
   "metadata": {},
   "outputs": [
    {
     "name": "stdout",
     "output_type": "stream",
     "text": [
      "['ABOVE_NORMAL_PRIORITY_CLASS', 'BELOW_NORMAL_PRIORITY_CLASS', 'CREATE_BREAKAWAY_FROM_JOB', 'CREATE_DEFAULT_ERROR_MODE', 'CREATE_NEW_CONSOLE', 'CREATE_NEW_PROCESS_GROUP', 'CREATE_NO_WINDOW', 'CalledProcessError', 'CompletedProcess', 'DETACHED_PROCESS', 'DEVNULL', 'HIGH_PRIORITY_CLASS', 'Handle', 'IDLE_PRIORITY_CLASS', 'NORMAL_PRIORITY_CLASS', 'PIPE', 'Popen', 'REALTIME_PRIORITY_CLASS', 'STARTF_FORCEOFFFEEDBACK', 'STARTF_FORCEONFEEDBACK', 'STARTF_USESHOWWINDOW', 'STARTF_USESTDHANDLES', 'STARTUPINFO', 'STDOUT', 'STD_ERROR_HANDLE', 'STD_INPUT_HANDLE', 'STD_OUTPUT_HANDLE', 'SW_HIDE', 'SubprocessError', 'TimeoutExpired', '_HAVE_POSIX_SPAWN_CLOSEFROM', '_USE_POSIX_SPAWN', '_USE_VFORK', '__all__', '__builtins__', '__cached__', '__doc__', '__file__', '__loader__', '__name__', '__package__', '__spec__', '_active', '_args_from_interpreter_flags', '_can_fork_exec', '_cleanup', '_mswindows', '_optim_args_from_interpreter_flags', '_text_encoding', '_time', '_use_posix_spawn', '_winapi', 'builtins', 'call', 'check_call', 'check_output', 'contextlib', 'errno', 'fcntl', 'getoutput', 'getstatusoutput', 'io', 'list2cmdline', 'locale', 'msvcrt', 'os', 'run', 'signal', 'sys', 'threading', 'time', 'types', 'warnings']\n",
      "f:\\Github_Desktop\\PYTHON\\10.OS_&_Sub_Process Modules\n"
     ]
    },
    {
     "data": {
      "text/plain": [
       "1"
      ]
     },
     "execution_count": 10,
     "metadata": {},
     "output_type": "execute_result"
    }
   ],
   "source": [
    "#que-2\n",
    "#make directory using call\n",
    "\n",
    "import subprocess as sub\n",
    "import os\n",
    "list=dir(sub)\n",
    "print(list)\n",
    "\n",
    "curr_path=os.path.join(os.getcwd(),\"taskbar\")\n",
    "os.mkdir(curr_path)\n",
    "\n",
    "print(os.getcwd())\n",
    "\n",
    "sub.call([\"python\", \"F:\\\\Github_Desktop\\\\PYTHON\\\\10.OS_&_Sub_Process Modules\\\\taskbar\"])\n"
   ]
  },
  {
   "cell_type": "code",
   "execution_count": 2,
   "metadata": {},
   "outputs": [
    {
     "name": "stdout",
     "output_type": "stream",
     "text": [
      "C:\\Program Files\\Google\\Chrome\\Application\\chrome.exe\n",
      "None\n"
     ]
    },
    {
     "name": "stderr",
     "output_type": "stream",
     "text": [
      "<>:4: SyntaxWarning: invalid escape sequence '\\G'\n",
      "<>:4: SyntaxWarning: invalid escape sequence '\\G'\n",
      "C:\\Users\\HP\\AppData\\Local\\Temp\\ipykernel_15876\\1465434833.py:4: SyntaxWarning: invalid escape sequence '\\G'\n",
      "  result  = sp.Popen(\"C:\\\\Program Files\\Google\\\\Chrome\\\\Application\\\\chrome.exe\")\n"
     ]
    }
   ],
   "source": [
    "#que-3\n",
    "#script for popen\n",
    "import subprocess as sp\n",
    "result  = sp.Popen(\"C:\\\\Program Files\\Google\\\\Chrome\\\\Application\\\\chrome.exe\")\n",
    "\n",
    "print(result.args)\n",
    "print(result.returncode)"
   ]
  },
  {
   "cell_type": "code",
   "execution_count": 4,
   "metadata": {},
   "outputs": [
    {
     "data": {
      "text/plain": [
       "<Popen: returncode: None args: 'notepad.exe'>"
      ]
     },
     "execution_count": 4,
     "metadata": {},
     "output_type": "execute_result"
    }
   ],
   "source": [
    "#que-4\n",
    "#open notped using popen\n",
    "\n",
    "sp.Popen(\"notepad.exe\")"
   ]
  },
  {
   "cell_type": "code",
   "execution_count": 8,
   "metadata": {},
   "outputs": [
    {
     "name": "stdout",
     "output_type": "stream",
     "text": [
      "hello my name is python\n"
     ]
    },
    {
     "data": {
      "text/plain": [
       "0"
      ]
     },
     "execution_count": 8,
     "metadata": {},
     "output_type": "execute_result"
    }
   ],
   "source": [
    "#que-5\n",
    "#read file\n",
    "\n",
    "import subprocess\n",
    "\n",
    "# Open the file using subprocess\n",
    "process = subprocess.Popen([\"notepad.exe\", \"python.txt\"])\n",
    "\n",
    "# Read the file line by line\n",
    "with open(\"python.txt\", \"r\") as file:\n",
    "    for line in file:\n",
    "        print(line.strip())  # Print each line without extra spaces\n",
    "\n",
    "# Wait for the Notepad process to finish (optional)\n",
    "process.wait()\n"
   ]
  },
  {
   "cell_type": "code",
   "execution_count": null,
   "metadata": {},
   "outputs": [],
   "source": []
  }
 ],
 "metadata": {
  "kernelspec": {
   "display_name": "MIT_PYTHON",
   "language": "python",
   "name": "python3"
  },
  "language_info": {
   "codemirror_mode": {
    "name": "ipython",
    "version": 3
   },
   "file_extension": ".py",
   "mimetype": "text/x-python",
   "name": "python",
   "nbconvert_exporter": "python",
   "pygments_lexer": "ipython3",
   "version": "3.13.1"
  }
 },
 "nbformat": 4,
 "nbformat_minor": 2
}
