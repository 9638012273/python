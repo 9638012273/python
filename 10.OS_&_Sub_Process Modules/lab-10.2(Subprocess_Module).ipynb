{
 "cells": [
  {
   "cell_type": "code",
   "execution_count": null,
   "metadata": {},
   "outputs": [],
   "source": [
    "# labwork-10.2 #\n",
    "#=============#\n",
    "\n",
    "#Question bank link\n",
    "\n",
    "#https://docs.google.com/document/d/1sY651X5pFw4-qjFh2Z0SXh8o0ahacf9LZ-jukDO0r6A/edit?tab=t.0"
   ]
  },
  {
   "cell_type": "code",
   "execution_count": 10,
   "metadata": {},
   "outputs": [
    {
     "name": "stdout",
     "output_type": "stream",
     "text": [
      "['ABOVE_NORMAL_PRIORITY_CLASS', 'BELOW_NORMAL_PRIORITY_CLASS', 'CREATE_BREAKAWAY_FROM_JOB', 'CREATE_DEFAULT_ERROR_MODE', 'CREATE_NEW_CONSOLE', 'CREATE_NEW_PROCESS_GROUP', 'CREATE_NO_WINDOW', 'CalledProcessError', 'CompletedProcess', 'DETACHED_PROCESS', 'DEVNULL', 'HIGH_PRIORITY_CLASS', 'Handle', 'IDLE_PRIORITY_CLASS', 'NORMAL_PRIORITY_CLASS', 'PIPE', 'Popen', 'REALTIME_PRIORITY_CLASS', 'STARTF_FORCEOFFFEEDBACK', 'STARTF_FORCEONFEEDBACK', 'STARTF_USESHOWWINDOW', 'STARTF_USESTDHANDLES', 'STARTUPINFO', 'STDOUT', 'STD_ERROR_HANDLE', 'STD_INPUT_HANDLE', 'STD_OUTPUT_HANDLE', 'SW_HIDE', 'SubprocessError', 'TimeoutExpired', '_HAVE_POSIX_SPAWN_CLOSEFROM', '_USE_POSIX_SPAWN', '_USE_VFORK', '__all__', '__builtins__', '__cached__', '__doc__', '__file__', '__loader__', '__name__', '__package__', '__spec__', '_active', '_args_from_interpreter_flags', '_can_fork_exec', '_cleanup', '_mswindows', '_optim_args_from_interpreter_flags', '_text_encoding', '_time', '_use_posix_spawn', '_winapi', 'builtins', 'call', 'check_call', 'check_output', 'contextlib', 'errno', 'fcntl', 'getoutput', 'getstatusoutput', 'io', 'list2cmdline', 'locale', 'msvcrt', 'os', 'run', 'signal', 'sys', 'threading', 'time', 'types', 'warnings']\n",
      "f:\\Github_Desktop\\PYTHON\\10.OS_&_Sub_Process Modules\n"
     ]
    },
    {
     "data": {
      "text/plain": [
       "1"
      ]
     },
     "execution_count": 10,
     "metadata": {},
     "output_type": "execute_result"
    }
   ],
   "source": [
    "#que-2\n",
    "#make directory using call\n",
    "\n",
    "import subprocess as sub\n",
    "import os\n",
    "list=dir(sub)\n",
    "print(list)\n",
    "\n",
    "curr_path=os.path.join(os.getcwd(),\"taskbar\")\n",
    "os.mkdir(curr_path)\n",
    "\n",
    "print(os.getcwd())\n",
    "\n",
    "sub.call([\"python\", \"F:\\\\Github_Desktop\\\\PYTHON\\\\10.OS_&_Sub_Process Modules\\\\taskbar\"])\n"
   ]
  },
  {
   "cell_type": "code",
   "execution_count": 2,
   "metadata": {},
   "outputs": [
    {
     "name": "stdout",
     "output_type": "stream",
     "text": [
      "C:\\Program Files\\Google\\Chrome\\Application\\chrome.exe\n",
      "None\n"
     ]
    },
    {
     "name": "stderr",
     "output_type": "stream",
     "text": [
      "<>:4: SyntaxWarning: invalid escape sequence '\\G'\n",
      "<>:4: SyntaxWarning: invalid escape sequence '\\G'\n",
      "C:\\Users\\HP\\AppData\\Local\\Temp\\ipykernel_15876\\1465434833.py:4: SyntaxWarning: invalid escape sequence '\\G'\n",
      "  result  = sp.Popen(\"C:\\\\Program Files\\Google\\\\Chrome\\\\Application\\\\chrome.exe\")\n"
     ]
    }
   ],
   "source": [
    "#que-3\n",
    "#script for popen\n",
    "import subprocess as sp\n",
    "result  = sp.Popen(\"C:\\\\Program Files\\Google\\\\Chrome\\\\Application\\\\chrome.exe\")\n",
    "\n",
    "print(result.args)\n",
    "print(result.returncode)"
   ]
  },
  {
   "cell_type": "code",
   "execution_count": 4,
   "metadata": {},
   "outputs": [
    {
     "data": {
      "text/plain": [
       "<Popen: returncode: None args: 'notepad.exe'>"
      ]
     },
     "execution_count": 4,
     "metadata": {},
     "output_type": "execute_result"
    }
   ],
   "source": [
    "#que-4\n",
    "#open notped using popen\n",
    "\n",
    "sp.Popen(\"notepad.exe\")"
   ]
  },
  {
   "cell_type": "code",
   "execution_count": 3,
   "metadata": {},
   "outputs": [
    {
     "data": {
      "text/plain": [
       "0"
      ]
     },
     "execution_count": 3,
     "metadata": {},
     "output_type": "execute_result"
    }
   ],
   "source": [
    "#que-5\n",
    "#read file\n",
    "\n",
    "import subprocess\n",
    "\n",
    "# Open the file using subprocess\n",
    "process = subprocess.Popen([\"notepad.exe\", \"python.txt\"])\n",
    "\n",
    "# Read the file line by line\n",
    "with open(\"python.txt\", \"r\") as file:\n",
    "    for line in file:\n",
    "        print(line.strip())  # Print each line without extra spaces\n",
    "\n",
    "# Wait for the Notepad process to finish (optional)\n",
    "process.wait()\n"
   ]
  },
  {
   "cell_type": "code",
   "execution_count": 6,
   "metadata": {},
   "outputs": [
    {
     "name": "stdout",
     "output_type": "stream",
     "text": [
      "Output:\n",
      "'Hello, World!'\n",
      "\n",
      "Error:\n",
      "b''\n"
     ]
    }
   ],
   "source": [
    "#que-6\n",
    "#read file\n",
    "import subprocess\n",
    "\n",
    "# Command to be executed\n",
    "command = \"echo 'Hello, World!'\"\n",
    "\n",
    "# Open the process\n",
    "process = subprocess.Popen(command, shell=True, stdout=subprocess.PIPE,stderr=subprocess.PIPE)\n",
    "\n",
    "# Capture the output and errors\n",
    "stdout,stderr= process.communicate()\n",
    "\n",
    "# Decode the output and errors\n",
    "output = stdout.decode('utf-8')\n",
    "\n",
    "\n",
    "print(\"Output:\")\n",
    "print(output)\n",
    "\n",
    "print(\"Error:\")\n",
    "print(stderr)\n",
    "\n",
    "\n"
   ]
  },
  {
   "cell_type": "code",
   "execution_count": 17,
   "metadata": {},
   "outputs": [
    {
     "name": "stdout",
     "output_type": "stream",
     "text": [
      "Number of files: 16\n"
     ]
    }
   ],
   "source": [
    "#que-7\n",
    "#count the elements of list using pipe\n",
    "\n",
    "import subprocess\n",
    "\n",
    "def count_files(directory):\n",
    "    # Use 'ls' to list files and 'wc -l' to count the lines\n",
    "    cmd = f\"ls -1 {directory} | wc -l\"\n",
    "    process = subprocess.Popen(cmd, shell=True, stdout=subprocess.PIPE, stderr=subprocess.PIPE)\n",
    "    stdout, stderr = process.communicate()\n",
    "    \n",
    "    if process.returncode != 0:\n",
    "        # If there was an error, print the error message\n",
    "        print(f\"Error: {stderr.decode().strip()}\")\n",
    "    else:\n",
    "        # Convert the output to an integer and print the count\n",
    "        count = int(stdout.decode().strip())\n",
    "        print(f\"Number of files: {count}\")\n",
    "\n",
    "# Replace 'your_directory_path' with the actual path of the directory you want to count files in\n",
    "directory_path = \"F:\\\\Github_Desktop\\\\PYTHON\"\n",
    "count_files(directory_path)\n",
    "\n",
    "\n",
    "\n"
   ]
  },
  {
   "cell_type": "code",
   "execution_count": 22,
   "metadata": {},
   "outputs": [
    {
     "name": "stdout",
     "output_type": "stream",
     "text": [
      "[(1, 'apple'), (2, 'banana'), (3, 'chery')]\n"
     ]
    }
   ],
   "source": [
    "#que-8\n",
    "#list sorting\n",
    "\n",
    "mylist=[(3,'chery'),(1,'apple'),(2,'banana')]\n",
    "\n",
    "print(sorted(mylist))\n"
   ]
  },
  {
   "cell_type": "code",
   "execution_count": 1,
   "metadata": {},
   "outputs": [
    {
     "name": "stdout",
     "output_type": "stream",
     "text": [
      "[('age', 18), ('cource', 'aiml'), ('id', 1), ('name', 'abcd'), ('school', 'Rnw')]\n"
     ]
    }
   ],
   "source": [
    "#que-9\n",
    "#dictionary sorting\n",
    "\n",
    "mydict={\n",
    "    \"id\":1,\n",
    "    \"name\":\"abcd\",\n",
    "    \"age\":18,\n",
    "    \"school\":\"Rnw\",\n",
    "    \"cource\":\"aiml\",\n",
    "}\n",
    "\n",
    "print(sorted(mydict.items()))"
   ]
  },
  {
   "cell_type": "code",
   "execution_count": 12,
   "metadata": {},
   "outputs": [
    {
     "name": "stdout",
     "output_type": "stream",
     "text": [
      "Original: [1, 42]\n",
      "Square:   [1, 1764]\n"
     ]
    }
   ],
   "source": [
    "#que-10\n",
    "#list to square\n",
    "\n",
    "mylist=[]\n",
    "\n",
    "mylist_ele=input(\"Enter list elements:\").split()\n",
    "\n",
    "for i in mylist_ele:\n",
    "    mylist.append(int(i))\n",
    "\n",
    "print(f\"Original: {mylist}\")\n",
    "\n",
    "def square(n):\n",
    "    return n**2\n",
    "\n",
    "maping=list(map(square,mylist))\n",
    "\n",
    "print(f\"Square:   {maping}\")\n"
   ]
  },
  {
   "cell_type": "code",
   "execution_count": 14,
   "metadata": {},
   "outputs": [
    {
     "name": "stdout",
     "output_type": "stream",
     "text": [
      "string: ['1', '2', '3', '4', '5', '6', '7', '8', '9', '10']\n",
      "String to int:   [1, 2, 3, 4, 5, 6, 7, 8, 9, 10]\n"
     ]
    }
   ],
   "source": [
    "#que-11\n",
    "#string ti integer using map\n",
    "\n",
    "lst=['1','2','3','4','5','6','7','8','9','10']\n",
    "\n",
    "def integer(n):\n",
    "    return int(n)\n",
    "\n",
    "maping=list(map(integer,lst))\n",
    "\n",
    "print(\"string:\",lst)\n",
    "print(f\"String to int:   {maping}\")\n"
   ]
  },
  {
   "cell_type": "code",
   "execution_count": 16,
   "metadata": {},
   "outputs": [
    {
     "name": "stdout",
     "output_type": "stream",
     "text": [
      "[2, 4, 6, 8, 10]\n"
     ]
    }
   ],
   "source": [
    "#que-12\n",
    "#list of even numbers\n",
    "lst=[1,2,3,4,5,6,7,8,9,10]\n",
    "\n",
    "def filter_functios(n):\n",
    "    if n % 2 == 0:\n",
    "        return n \n",
    "\n",
    "print(list(filter(filter_functios ,lst)))"
   ]
  },
  {
   "cell_type": "code",
   "execution_count": 25,
   "metadata": {},
   "outputs": [
    {
     "name": "stdout",
     "output_type": "stream",
     "text": [
      "['this', 'is', 'my', 'file']\n"
     ]
    }
   ],
   "source": [
    "#que-13\n",
    "#list of 4 char number using filter\n",
    "\n",
    "lst=[\"hello\",\"this\",\"is\",\"my\",\"python\",\"file\"]\n",
    "\n",
    "def filter_functios(n):\n",
    "    if len(n) <=4 :\n",
    "        return n \n",
    "\n",
    "print(list(filter(filter_functios ,lst)))"
   ]
  },
  {
   "cell_type": "code",
   "execution_count": 22,
   "metadata": {},
   "outputs": [
    {
     "name": "stdout",
     "output_type": "stream",
     "text": [
      "120\n"
     ]
    }
   ],
   "source": [
    "#que-14\n",
    "#product of elements\n",
    "\n",
    "from functools import reduce\n",
    "num=[1,2,3,4,5]\n",
    "\n",
    "def multply(x,y):\n",
    "    # return x+y\n",
    "    return x*y\n",
    "\n",
    "print(reduce(multply,num))"
   ]
  },
  {
   "cell_type": "code",
   "execution_count": 1,
   "metadata": {},
   "outputs": [
    {
     "name": "stdout",
     "output_type": "stream",
     "text": [
      "10\n"
     ]
    }
   ],
   "source": [
    "#que-15\n",
    "#find largest number using reduce\n",
    "\n",
    "from functools import reduce\n",
    "num=[1,2,3,4,5,10]\n",
    "\n",
    "def multply(x,y):\n",
    "    return x if x>y else y\n",
    "\n",
    "print(reduce(multply,num))"
   ]
  },
  {
   "cell_type": "code",
   "execution_count": 2,
   "metadata": {},
   "outputs": [
    {
     "name": "stdout",
     "output_type": "stream",
     "text": [
      "Original: [1, 2, 3, 4, 5, 6, 7, 8, 9, 10]\n",
      "Even list: [2, 4, 6, 8, 10]\n",
      "Square:[1, 4, 9, 16, 25, 36, 49, 64, 81, 100]\n",
      "sum os squared list: 385\n"
     ]
    }
   ],
   "source": [
    "#que-16\n",
    "#all functions\n",
    "\n",
    "lst=[1,2,3,4,5,6,7,8,9,10]\n",
    "\n",
    "def filter_functios(n):\n",
    "    if n % 2 == 0:\n",
    "        return n \n",
    "\n",
    "all_even=list(filter(filter_functios ,lst))\n",
    "print(f\"Original:\",lst)\n",
    "print(f\"Even list:\",all_even)\n",
    "\n",
    "\n",
    "def square(n):\n",
    "    return n**2\n",
    "\n",
    "maping=list(map(square,lst))\n",
    "print(f\"Square:{maping}\")\n",
    "\n",
    "\n",
    "from functools import reduce\n",
    "\n",
    "def multply(x,y):\n",
    "    return x+y\n",
    "\n",
    "print(f\"sum os squared list:\",reduce(multply,maping))\n"
   ]
  },
  {
   "cell_type": "code",
   "execution_count": 9,
   "metadata": {},
   "outputs": [
    {
     "name": "stdout",
     "output_type": "stream",
     "text": [
      "Chose an option:\n",
      "1. google\n",
      "2. microsoft edge\n"
     ]
    }
   ],
   "source": [
    "#que-17\n",
    "#used to call function\n",
    "import subprocess\n",
    "\n",
    "print(\"Chose an option:\")\n",
    "print(\"1. google\")\n",
    "print(\"2. microsoft edge\")\n",
    "\n",
    "ch=int(input(\"Enter choise:\"))\n",
    "if ch==1:\n",
    "    subprocess.call(\"C:\\\\Program Files\\\\Google\\\\Chrome\\\\Application\\\\chrome.exe\")\n",
    "\n",
    "elif ch==2:\n",
    "    subprocess.call(\"C:\\\\Program Files (x86)\\\\Microsoft\\\\Edge\\\\Application\\\\msedge.exe\")\n",
    "\n",
    "else:\n",
    "    print(\"Invelid choise...\")"
   ]
  },
  {
   "cell_type": "code",
   "execution_count": null,
   "metadata": {},
   "outputs": [
    {
     "name": "stdout",
     "output_type": "stream",
     "text": [
      "1\n",
      "Error: \n"
     ]
    }
   ],
   "source": [
    "#que-18\n",
    "#used to popen function \n",
    "\n",
    "#que-6\n",
    "#read file\n",
    "import subprocess\n",
    "\n",
    "# Command to be executed\n",
    "command = \"echo 'Hello, World!'\"\n",
    "\n",
    "# Open the process\n",
    "process = subprocess.Popen(command, shell=True, stdout=subprocess.PIPE,stderr=subprocess.PIPE)\n",
    "\n",
    "# Capture the output and errors\n",
    "stdout,stderr= process.communicate()\n",
    "\n",
    "# Decode the output and errors\n",
    "output = stdout.decode('utf-8')\n",
    "\n",
    "\n",
    "print(\"Output:\")\n",
    "print(output)\n",
    "\n",
    "print(\"Error:\")\n",
    "print(stderr)\n",
    "\n",
    "\n",
    "\n"
   ]
  },
  {
   "cell_type": "code",
   "execution_count": 13,
   "metadata": {},
   "outputs": [
    {
     "name": "stdout",
     "output_type": "stream",
     "text": [
      "['this', 'is', 'my', 'file']\n",
      "Upper case:['HELLO', 'THIS', 'IS', 'MY', 'PYTHON', 'FILE']\n",
      "find char:[None, 'this', None, None, 'python', None]\n"
     ]
    }
   ],
   "source": [
    "#que-18\n",
    "#all functions for string\n",
    "\n",
    "lst=[\"hello\",\"this\",\"is\",\"my\",\"python\",\"file\"]\n",
    "\n",
    "def filter_functios(n):\n",
    "    if len(n) <=4 :\n",
    "        return n \n",
    "\n",
    "print(list(filter(filter_functios ,lst)))\n",
    "\n",
    "\n",
    "def upper(n):\n",
    "    return n.upper()\n",
    "\n",
    "maping=list(map(upper,lst))\n",
    "print(f\"Upper case:{maping}\")\n",
    "\n",
    "\n",
    "def find(n):\n",
    "    if 't' in n:\n",
    "        return n\n",
    "    else:\n",
    "        return None\n",
    "\n",
    "maping=list(map(find,lst))\n",
    "print(f\"find char:{maping}\")\n"
   ]
  },
  {
   "cell_type": "code",
   "execution_count": null,
   "metadata": {},
   "outputs": [],
   "source": []
  },
  {
   "cell_type": "code",
   "execution_count": null,
   "metadata": {},
   "outputs": [],
   "source": []
  }
 ],
 "metadata": {
  "kernelspec": {
   "display_name": "MIT_PYTHON",
   "language": "python",
   "name": "python3"
  },
  "language_info": {
   "codemirror_mode": {
    "name": "ipython",
    "version": 3
   },
   "file_extension": ".py",
   "mimetype": "text/x-python",
   "name": "python",
   "nbconvert_exporter": "python",
   "pygments_lexer": "ipython3",
   "version": "3.13.1"
  }
 },
 "nbformat": 4,
 "nbformat_minor": 2
}
