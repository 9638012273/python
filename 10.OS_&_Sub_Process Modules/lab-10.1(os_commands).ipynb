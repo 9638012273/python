{
 "cells": [
  {
   "cell_type": "code",
   "execution_count": null,
   "metadata": {},
   "outputs": [],
   "source": [
    "# labwork-10.1 #\n",
    "#=============#\n",
    "\n",
    "#Question bank link\n",
    "\n",
    "#https://docs.google.com/document/d/1x-OfYhAWga3y8ccs3JwYfzi7pvFng4s_wjoiAuoN-eM/edit?tab=t.0 "
   ]
  },
  {
   "cell_type": "code",
   "execution_count": 46,
   "metadata": {},
   "outputs": [
    {
     "name": "stdout",
     "output_type": "stream",
     "text": [
      "f:\\Github_Desktop\\PYTHON\\10.OS_&_Sub_Process Modules\n",
      "['DirEntry', 'EX_OK', 'F_OK', 'GenericAlias', 'Mapping', 'MutableMapping', 'O_APPEND', 'O_BINARY', 'O_CREAT', 'O_EXCL', 'O_NOINHERIT', 'O_RANDOM', 'O_RDONLY', 'O_RDWR', 'O_SEQUENTIAL', 'O_SHORT_LIVED', 'O_TEMPORARY', 'O_TEXT', 'O_TRUNC', 'O_WRONLY', 'P_DETACH', 'P_NOWAIT', 'P_NOWAITO', 'P_OVERLAY', 'P_WAIT', 'PathLike', 'R_OK', 'SEEK_CUR', 'SEEK_END', 'SEEK_SET', 'TMP_MAX', 'W_OK', 'X_OK', '_AddedDllDirectory', '_Environ', '__all__', '__builtins__', '__doc__', '__file__', '__loader__', '__name__', '__package__', '__spec__', '_check_methods', '_execvpe', '_exists', '_exit', '_fspath', '_get_exports_list', '_walk_symlinks_as_files', '_wrap_close', 'abc', 'abort', 'access', 'add_dll_directory', 'altsep', 'chdir', 'chmod', 'close', 'closerange', 'cpu_count', 'curdir', 'defpath', 'device_encoding', 'devnull', 'dup', 'dup2', 'environ', 'error', 'execl', 'execle', 'execlp', 'execlpe', 'execv', 'execve', 'execvp', 'execvpe', 'extsep', 'fchmod', 'fdopen', 'fsdecode', 'fsencode', 'fspath', 'fstat', 'fsync', 'ftruncate', 'get_blocking', 'get_exec_path', 'get_handle_inheritable', 'get_inheritable', 'get_terminal_size', 'getcwd', 'getcwdb', 'getenv', 'getlogin', 'getpid', 'getppid', 'isatty', 'kill', 'lchmod', 'linesep', 'link', 'listdir', 'listdrives', 'listmounts', 'listvolumes', 'lseek', 'lstat', 'makedirs', 'mkdir', 'name', 'open', 'pardir', 'path', 'pathsep', 'pipe', 'popen', 'process_cpu_count', 'putenv', 'read', 'readlink', 'remove', 'removedirs', 'rename', 'renames', 'replace', 'rmdir', 'scandir', 'sep', 'set_blocking', 'set_handle_inheritable', 'set_inheritable', 'spawnl', 'spawnle', 'spawnv', 'spawnve', 'st', 'startfile', 'stat', 'stat_result', 'statvfs_result', 'strerror', 'supports_bytes_environ', 'supports_dir_fd', 'supports_effective_ids', 'supports_fd', 'supports_follow_symlinks', 'symlink', 'sys', 'system', 'terminal_size', 'times', 'times_result', 'truncate', 'umask', 'uname_result', 'unlink', 'unsetenv', 'urandom', 'utime', 'waitpid', 'waitstatus_to_exitcode', 'walk', 'write']\n",
      "['lab-10.1(os_commands).ipynb', 'My_file.txt', 'Os_subprocess.ipynb']\n"
     ]
    }
   ],
   "source": [
    "#que-1\n",
    "#besic terminal commands\n",
    "\n",
    "import os\n",
    "\n",
    "print(os.getcwd())\n",
    "print(dir(os))\n",
    "print(os.listdir())\n",
    "#os.mkdir(\"F:\\\\Github_Desktop\\\\PYTHON\\\\10.OS_&_Sub_Process Modules\\\\practice_tasks\")\n",
    "\n",
    "file_create=os.path.join(os.getcwd(), \"Example.txt\")\n",
    "with open(file_create,\"w\") as file:\n",
    "    file.close()\n",
    "\n"
   ]
  },
  {
   "cell_type": "code",
   "execution_count": 39,
   "metadata": {},
   "outputs": [],
   "source": [
    "#rename file\n",
    "\n",
    "# old=\"F:\\\\Github_Desktop\\\\PYTHON\\\\10.OS_&_Sub_Process Modules\\\\Example.txt\"\n",
    "# new=\"F:\\\\Github_Desktop\\\\PYTHON\\\\10.OS_&_Sub_Process Modules\\\\My_file.txt\"\n",
    "# os.rename(old,new)\n",
    "\n",
    "os.rmdir(\"F:\\\\Github_Desktop\\\\PYTHON\\\\10.OS_&_Sub_Process Modules\\\\practice_tasks\")"
   ]
  },
  {
   "cell_type": "code",
   "execution_count": 63,
   "metadata": {},
   "outputs": [],
   "source": [
    "#for delete file\n",
    "\n",
    "os.remove(\"F:\\\\Github_Desktop\\\\PYTHON\\\\10.OS_&_Sub_Process Modules\\\\My_file.txt\")"
   ]
  },
  {
   "cell_type": "code",
   "execution_count": 44,
   "metadata": {},
   "outputs": [],
   "source": [
    "#que-2\n",
    "#terminate some commands\n",
    "\n",
    "os.path.join(os.getcwd(),\"Sample.py\")\n",
    "\n",
    "file=open(\"Sample.py\",\"w+\")\n",
    "\n",
    "if file:\n",
    "    file.write(\"Hii this is my terminal\")\n",
    "    file.close()\n",
    "\n",
    "os.remove(\"Sample.py\")"
   ]
  },
  {
   "cell_type": "code",
   "execution_count": 1,
   "metadata": {},
   "outputs": [
    {
     "name": "stdout",
     "output_type": "stream",
     "text": [
      "f:\\Github_Desktop\\PYTHON\\10.OS_&_Sub_Process Modules\n"
     ]
    }
   ],
   "source": [
    "#que-3\n",
    "#chenge dir\n",
    "\n",
    "import os\n",
    "\n",
    "print(os.getcwd())\n",
    "\n",
    "os.chdir(\"F:\\\\Github_Desktop\\\\PYTHON\\\\10.OS_&_Sub_Process Modules\\\\practice_tasks\")\n"
   ]
  },
  {
   "cell_type": "code",
   "execution_count": 60,
   "metadata": {},
   "outputs": [
    {
     "name": "stdout",
     "output_type": "stream",
     "text": [
      "Create new file...\n"
     ]
    }
   ],
   "source": [
    "#que-4\n",
    "#make dirs\n",
    "\n",
    "if \"My_folder\" in os.getcwd():\n",
    "    print(\"Yes this is in your folder and success to open..\")\n",
    "\n",
    "else:\n",
    "    print(\"Create new file...\")\n",
    "    #os.makedirs(\"F:\\\\Github_Desktop\\\\PYTHON\\\\10.OS_&_Sub_Process Modules\\\\practice_tasks\\\\My_folder\")"
   ]
  },
  {
   "cell_type": "code",
   "execution_count": 59,
   "metadata": {},
   "outputs": [
    {
     "name": "stdout",
     "output_type": "stream",
     "text": [
      ".git\n",
      "0. Introduction and Fundamental of Python\n",
      "1.variable_datatype\n",
      "10.OS_&_Sub_Process Modules\n",
      "2. Control Structure & Looping\n",
      "3. Datatypes in Detail\n",
      "4.Function, Array & Sorting\n",
      "5.Object Oriented Programming (OOP)\n",
      "6.Exception_Handling\n",
      "7.File_Handling\n",
      "8.Modules and Packages\n",
      "9. (RegEx) _&_(CLA)\n",
      "ALL_EXAMS\n",
      "MIT_PYTHON\n",
      "Python_Materials\n",
      "python_projects\n"
     ]
    }
   ],
   "source": [
    "#que-5\n",
    "#list of dirs\n",
    "\n",
    "import os\n",
    "list=os.listdir(\"F:\\\\Github_Desktop\\\\PYTHON\")\n",
    "\n",
    "for data in list:\n",
    "    print(data)"
   ]
  },
  {
   "cell_type": "code",
   "execution_count": 70,
   "metadata": {},
   "outputs": [
    {
     "name": "stdout",
     "output_type": "stream",
     "text": [
      "F:\\Github_Desktop\\PYTHON\\10.OS_&_Sub_Process Modules\\practice_tasks\n"
     ]
    }
   ],
   "source": [
    "#que-6\n",
    "#create and delete file\n",
    "\n",
    "import os\n",
    "\n",
    "os.path.join(os.getcwd(),\"New_file.txt\")\n",
    "\n",
    "file=open(\"New_file.txt\",\"w+\")\n",
    "file.write(\"Hello\\n this is my file...\")\n",
    "file.close()\n",
    "\n",
    "print(os.getcwd())\n",
    "os.remove(\"F:\\\\Github_Desktop\\\\PYTHON\\\\10.OS_&_Sub_Process Modules\\\\practice_tasks\\\\New_file.txt\")\n"
   ]
  },
  {
   "cell_type": "code",
   "execution_count": 72,
   "metadata": {},
   "outputs": [
    {
     "name": "stdout",
     "output_type": "stream",
     "text": [
      "environ({'ALLUSERSPROFILE': 'C:\\\\ProgramData', 'ANDROID_HOME': 'C:\\\\Users\\\\HP\\\\AppData\\\\Local\\\\Android\\\\Sdk', 'APPDATA': 'C:\\\\Users\\\\HP\\\\AppData\\\\Roaming', 'CHROME_CRASHPAD_PIPE_NAME': '\\\\\\\\.\\\\pipe\\\\crashpad_2368_KIHRQXYEGPAYIGLG', 'COMMONPROGRAMFILES': 'C:\\\\Program Files\\\\Common Files', 'COMMONPROGRAMFILES(X86)': 'C:\\\\Program Files (x86)\\\\Common Files', 'COMMONPROGRAMW6432': 'C:\\\\Program Files\\\\Common Files', 'COMPUTERNAME': 'LAPTOP-H3FT6TJ6', 'COMSPEC': 'C:\\\\WINDOWS\\\\system32\\\\cmd.exe', 'DRIVERDATA': 'C:\\\\Windows\\\\System32\\\\Drivers\\\\DriverData', 'EFC_5208': '1', 'ELECTRON_NO_ATTACH_CONSOLE': '1', 'ELECTRON_RUN_AS_NODE': '1', 'FLUTTER': 'E:\\\\Flutter', 'FPS_BROWSER_APP_PROFILE_STRING': 'Internet Explorer', 'FPS_BROWSER_USER_PROFILE_STRING': 'Default', 'HOMEDRIVE': 'C:', 'HOMEPATH': '\\\\Users\\\\HP', 'JAVA_HOME': 'C:\\\\Program Files\\\\OpenLogic\\\\jdk-11.0.20.8-hotspot', 'JPY_INTERRUPT_EVENT': '1832', 'KOTLIN PATH': 'C:\\\\Program Files\\\\Java\\\\jdk-18.0.2\\\\bin', 'LOCALAPPDATA': 'C:\\\\Users\\\\HP\\\\AppData\\\\Local', 'LOCAL_GIT_DIRECTORY': 'C:\\\\Users\\\\HP\\\\AppData\\\\Local\\\\GitHubDesktop\\\\app-3.4.13\\\\resources\\\\app\\\\git', 'LOGONSERVER': '\\\\\\\\LAPTOP-H3FT6TJ6', 'NUMBER_OF_PROCESSORS': '4', 'ONEDRIVE': 'C:\\\\Users\\\\HP\\\\OneDrive', 'ONLINESERVICES': 'Online Services', 'ORIGINAL_XDG_CURRENT_DESKTOP': 'undefined', 'OS': 'Windows_NT', 'PATH': 'f:\\\\Github_Desktop\\\\PYTHON\\\\MIT_PYTHON\\\\Scripts;d:\\\\New folder\\\\mit\\\\Scripts;C:\\\\Program Files\\\\OpenLogic\\\\jdk-11.0.20.8-hotspot\\\\bin;C:\\\\oraclexe\\\\app\\\\oracle\\\\product\\\\11.2.0\\\\server\\\\bin;C:\\\\Program Files\\\\Common Files\\\\Oracle\\\\Java\\\\javapath;C:\\\\Program Files (x86)\\\\Common Files\\\\Oracle\\\\Java\\\\javapath;C:\\\\WINDOWS\\\\system32;C:\\\\WINDOWS;C:\\\\WINDOWS\\\\System32\\\\Wbem;C:\\\\WINDOWS\\\\System32\\\\WindowsPowerShell\\\\v1.0\\\\;C:\\\\WINDOWS\\\\System32\\\\OpenSSH\\\\;C:\\\\MinGW\\\\bin;C:\\\\MinGW\\\\msys\\\\1.0\\\\bin;C:\\\\Users\\\\HP\\\\c language;C:\\\\Program Files\\\\Java\\\\jdk-18.0.2\\\\bin;C:\\\\Program Files\\\\nodejs\\\\;C:\\\\Users\\\\HP\\\\Downloads\\\\flutter_windows_3.13.4-stable.zip\\\\flutter\\\\bin;C:\\\\Users\\\\HP\\\\AppData\\\\Local\\\\Pub\\\\Cache\\\\bin;C:\\\\Program Files\\\\Git\\\\cmd;C:\\\\Users\\\\HP\\\\AppData\\\\Local\\\\Programs\\\\Python\\\\Python313\\\\Scripts\\\\;C:\\\\Users\\\\HP\\\\AppData\\\\Local\\\\Programs\\\\Python\\\\Python313\\\\;C:\\\\Users\\\\HP\\\\AppData\\\\Local\\\\Programs\\\\Eclipse Adoptium\\\\jdk-17.0.4.8-hotspot\\\\bin;C:\\\\Users\\\\HP\\\\AppData\\\\Local\\\\Microsoft\\\\WindowsApps;C:\\\\Users\\\\HP\\\\AppData\\\\Local\\\\Programs\\\\Microsoft VS Code\\\\bin;C:\\\\MinGW\\\\bin;C:\\\\MinGW\\\\msys\\\\1.0\\\\bin;C:\\\\Users\\\\HP\\\\c language;C:\\\\Program Files\\\\Java\\\\jdk-18.0.2\\\\bin;C:\\\\Users\\\\HP\\\\AppData\\\\Roaming\\\\npm;C:\\\\Users\\\\HP\\\\AppData\\\\Local\\\\Android\\\\Sdk\\\\tools\\\\bin;C:\\\\Users\\\\HP\\\\Downloads\\\\flutter_windows_3.13.4-stable.zip\\\\flutter\\\\bin;\"E:\\\\APP_FLUTTER\\\\cHAIII\\\\flutter\\\\bin\";C:\\\\Users\\\\HP\\\\AppData\\\\Local\\\\GitHubDesktop\\\\bin', 'PATHEXT': '.COM;.EXE;.BAT;.CMD;.VBS;.VBE;.JS;.JSE;.WSF;.WSH;.MSC', 'PLATFORMCODE': 'KV', 'PROCESSOR_ARCHITECTURE': 'AMD64', 'PROCESSOR_IDENTIFIER': 'Intel64 Family 6 Model 140 Stepping 1, GenuineIntel', 'PROCESSOR_LEVEL': '6', 'PROCESSOR_REVISION': '8c01', 'PROGRAMDATA': 'C:\\\\ProgramData', 'PROGRAMFILES': 'C:\\\\Program Files', 'PROGRAMFILES(X86)': 'C:\\\\Program Files (x86)', 'PROGRAMW6432': 'C:\\\\Program Files', 'PROMPT': '(mit) $P$G', 'PSMODULEPATH': 'C:\\\\Program Files\\\\WindowsPowerShell\\\\Modules;C:\\\\WINDOWS\\\\system32\\\\WindowsPowerShell\\\\v1.0\\\\Modules', 'PT8HOME': 'C:\\\\Program Files\\\\Cisco Packet Tracer 8.2.1', 'PUBLIC': 'C:\\\\Users\\\\Public', 'PYDEVD_IPYTHON_COMPATIBLE_DEBUGGING': '1', 'PYTHONIOENCODING': 'utf-8', 'PYTHONUNBUFFERED': '1', 'PYTHON_FROZEN_MODULES': 'on', 'PYTHON_HOME': 'E:\\\\Mayuri\\\\Python', 'REGIONCODE': 'APJ', 'SESSIONNAME': 'Console', 'SYSTEMDRIVE': 'C:', 'SYSTEMROOT': 'C:\\\\WINDOWS', 'TEMP': 'C:\\\\Users\\\\HP\\\\AppData\\\\Local\\\\Temp', 'TMP': 'C:\\\\Users\\\\HP\\\\AppData\\\\Local\\\\Temp', 'USERDOMAIN': 'LAPTOP-H3FT6TJ6', 'USERDOMAIN_ROAMINGPROFILE': 'LAPTOP-H3FT6TJ6', 'USERNAME': 'HP', 'USERPROFILE': 'C:\\\\Users\\\\HP', 'VIRTUAL_ENV': 'd:\\\\New folder\\\\mit', 'VIRTUAL_ENV_PROMPT': 'mit', 'VSCODE_CLI': '1', 'VSCODE_CODE_CACHE_PATH': 'C:\\\\Users\\\\HP\\\\AppData\\\\Roaming\\\\Code\\\\CachedData\\\\cd4ee3b1c348a13bafd8f9ad8060705f6d4b9cba', 'VSCODE_CRASH_REPORTER_PROCESS_TYPE': 'extensionHost', 'VSCODE_CWD': 'C:\\\\Users\\\\HP\\\\AppData\\\\Local\\\\GitHubDesktop\\\\app-3.4.13', 'VSCODE_DOTNET_INSTALL_TOOL_ORIGINAL_HOME': 'undefined', 'VSCODE_ESM_ENTRYPOINT': 'vs/workbench/api/node/extensionHostProcess', 'VSCODE_HANDLES_UNCAUGHT_ERRORS': 'true', 'VSCODE_IPC_HOOK': '\\\\\\\\.\\\\pipe\\\\215c07ad-1.96.4-main-sock', 'VSCODE_NLS_CONFIG': '{\"userLocale\":\"en-us\",\"osLocale\":\"en-in\",\"resolvedLanguage\":\"en\",\"defaultMessagesFile\":\"C:\\\\\\\\Users\\\\\\\\HP\\\\\\\\AppData\\\\\\\\Local\\\\\\\\Programs\\\\\\\\Microsoft VS Code\\\\\\\\resources\\\\\\\\app\\\\\\\\out\\\\\\\\nls.messages.json\",\"locale\":\"en-us\",\"availableLanguages\":{}}', 'VSCODE_PID': '2368', 'WINDIR': 'C:\\\\WINDOWS', 'ZES_ENABLE_SYSMAN': '1', '_OLD_VIRTUAL_PATH': 'C:\\\\Program Files\\\\OpenLogic\\\\jdk-11.0.20.8-hotspot\\\\bin;C:\\\\oraclexe\\\\app\\\\oracle\\\\product\\\\11.2.0\\\\server\\\\bin;C:\\\\Program Files\\\\Common Files\\\\Oracle\\\\Java\\\\javapath;C:\\\\Program Files (x86)\\\\Common Files\\\\Oracle\\\\Java\\\\javapath;C:\\\\WINDOWS\\\\system32;C:\\\\WINDOWS;C:\\\\WINDOWS\\\\System32\\\\Wbem;C:\\\\WINDOWS\\\\System32\\\\WindowsPowerShell\\\\v1.0\\\\;C:\\\\WINDOWS\\\\System32\\\\OpenSSH\\\\;C:\\\\MinGW\\\\bin;C:\\\\MinGW\\\\msys\\\\1.0\\\\bin;C:\\\\Users\\\\HP\\\\c language;C:\\\\Program Files\\\\Java\\\\jdk-18.0.2\\\\bin;C:\\\\Program Files\\\\nodejs\\\\;C:\\\\Users\\\\HP\\\\Downloads\\\\flutter_windows_3.13.4-stable.zip\\\\flutter\\\\bin;C:\\\\Users\\\\HP\\\\AppData\\\\Local\\\\Pub\\\\Cache\\\\bin;C:\\\\Program Files\\\\Git\\\\cmd;C:\\\\Users\\\\HP\\\\AppData\\\\Local\\\\Programs\\\\Python\\\\Python313\\\\Scripts\\\\;C:\\\\Users\\\\HP\\\\AppData\\\\Local\\\\Programs\\\\Python\\\\Python313\\\\;C:\\\\Users\\\\HP\\\\AppData\\\\Local\\\\Programs\\\\Eclipse Adoptium\\\\jdk-17.0.4.8-hotspot\\\\bin;C:\\\\Users\\\\HP\\\\AppData\\\\Local\\\\Microsoft\\\\WindowsApps;C:\\\\Users\\\\HP\\\\AppData\\\\Local\\\\Programs\\\\Microsoft VS Code\\\\bin;C:\\\\MinGW\\\\bin;C:\\\\MinGW\\\\msys\\\\1.0\\\\bin;C:\\\\Users\\\\HP\\\\c language;C:\\\\Program Files\\\\Java\\\\jdk-18.0.2\\\\bin;C:\\\\Users\\\\HP\\\\AppData\\\\Roaming\\\\npm;C:\\\\Users\\\\HP\\\\AppData\\\\Local\\\\Android\\\\Sdk\\\\tools\\\\bin;C:\\\\Users\\\\HP\\\\Downloads\\\\flutter_windows_3.13.4-stable.zip\\\\flutter\\\\bin;\"E:\\\\APP_FLUTTER\\\\cHAIII\\\\flutter\\\\bin\";C:\\\\Users\\\\HP\\\\AppData\\\\Local\\\\GitHubDesktop\\\\bin', '_OLD_VIRTUAL_PROMPT': '$P$G', 'PYDEVD_USE_FRAME_EVAL': 'NO', 'TERM': 'xterm-color', 'CLICOLOR': '1', 'FORCE_COLOR': '1', 'CLICOLOR_FORCE': '1', 'PAGER': 'cat', 'GIT_PAGER': 'cat', 'MPLBACKEND': 'module://matplotlib_inline.backend_inline'})\n"
     ]
    }
   ],
   "source": [
    "#que-7\n",
    "#print osenvironment\n",
    "\n",
    "import os\n",
    "print(os.environ)"
   ]
  },
  {
   "cell_type": "code",
   "execution_count": 79,
   "metadata": {},
   "outputs": [
    {
     "name": "stdout",
     "output_type": "stream",
     "text": [
      "None\n",
      "f:\\Github_Desktop\\PYTHON\\MIT_PYTHON\\Scripts;d:\\New folder\\mit\\Scripts;C:\\Program Files\\OpenLogic\\jdk-11.0.20.8-hotspot\\bin;C:\\oraclexe\\app\\oracle\\product\\11.2.0\\server\\bin;C:\\Program Files\\Common Files\\Oracle\\Java\\javapath;C:\\Program Files (x86)\\Common Files\\Oracle\\Java\\javapath;C:\\WINDOWS\\system32;C:\\WINDOWS;C:\\WINDOWS\\System32\\Wbem;C:\\WINDOWS\\System32\\WindowsPowerShell\\v1.0\\;C:\\WINDOWS\\System32\\OpenSSH\\;C:\\MinGW\\bin;C:\\MinGW\\msys\\1.0\\bin;C:\\Users\\HP\\c language;C:\\Program Files\\Java\\jdk-18.0.2\\bin;C:\\Program Files\\nodejs\\;C:\\Users\\HP\\Downloads\\flutter_windows_3.13.4-stable.zip\\flutter\\bin;C:\\Users\\HP\\AppData\\Local\\Pub\\Cache\\bin;C:\\Program Files\\Git\\cmd;C:\\Users\\HP\\AppData\\Local\\Programs\\Python\\Python313\\Scripts\\;C:\\Users\\HP\\AppData\\Local\\Programs\\Python\\Python313\\;C:\\Users\\HP\\AppData\\Local\\Programs\\Eclipse Adoptium\\jdk-17.0.4.8-hotspot\\bin;C:\\Users\\HP\\AppData\\Local\\Microsoft\\WindowsApps;C:\\Users\\HP\\AppData\\Local\\Programs\\Microsoft VS Code\\bin;C:\\MinGW\\bin;C:\\MinGW\\msys\\1.0\\bin;C:\\Users\\HP\\c language;C:\\Program Files\\Java\\jdk-18.0.2\\bin;C:\\Users\\HP\\AppData\\Roaming\\npm;C:\\Users\\HP\\AppData\\Local\\Android\\Sdk\\tools\\bin;C:\\Users\\HP\\Downloads\\flutter_windows_3.13.4-stable.zip\\flutter\\bin;\"E:\\APP_FLUTTER\\cHAIII\\flutter\\bin\";C:\\Users\\HP\\AppData\\Local\\GitHubDesktop\\bin\n"
     ]
    }
   ],
   "source": [
    "#Que-8\n",
    "#print(\"Home and path variables#\")\n",
    "\n",
    "print(os.environ.get(\"home\"))\n",
    "print(os.environ.get(\"path\"))"
   ]
  },
  {
   "cell_type": "code",
   "execution_count": null,
   "metadata": {},
   "outputs": [],
   "source": [
    "#que-9\n",
    "# Error"
   ]
  },
  {
   "cell_type": "code",
   "execution_count": 84,
   "metadata": {},
   "outputs": [
    {
     "name": "stdout",
     "output_type": "stream",
     "text": [
      "F:\\Github_Desktop\\PYTHON\\10.OS_&_Sub_Process Modules\\practice_tasks\n",
      "yes this path is exists \n"
     ]
    }
   ],
   "source": [
    "#que-10\n",
    "#Directory is exit or not\n",
    "\n",
    "print(os.getcwd())\n",
    "\n",
    "if os.path.exists(\"F:\\\\Github_Desktop\\\\PYTHON\\\\10.OS_&_Sub_Process Modules\"):\n",
    "    print(\"yes this path is exists \")\n",
    "\n",
    "else:\n",
    "    print(\"not Exits..\")"
   ]
  },
  {
   "cell_type": "code",
   "execution_count": 89,
   "metadata": {},
   "outputs": [
    {
     "name": "stdout",
     "output_type": "stream",
     "text": [
      "F:\\Github_Desktop\\PYTHON\\10.OS_&_Sub_Process Modules\\practice_tasks\n",
      "yes this path is an file\n"
     ]
    }
   ],
   "source": [
    "#que-11\n",
    "#Directory is exit or not\n",
    "\n",
    "print(os.getcwd())\n",
    "\n",
    "if os.path.isfile(\"F:\\\\Github_Desktop\\\\PYTHON\\\\10.OS_&_Sub_Process Modules\\\\lab-10.1(os_commands).ipynb\"):\n",
    "    print(\"yes this path is an file\")\n",
    "\n",
    "else:\n",
    "    print(\"not this is no file\")"
   ]
  },
  {
   "cell_type": "code",
   "execution_count": 88,
   "metadata": {},
   "outputs": [
    {
     "name": "stdout",
     "output_type": "stream",
     "text": [
      "F:\\Github_Desktop\\PYTHON\\10.OS_&_Sub_Process Modules\\practice_tasks\n",
      "yes this path is an dictionary.\n"
     ]
    }
   ],
   "source": [
    "print(os.getcwd())\n",
    "\n",
    "if os.path.isdir(\"F:\\\\Github_Desktop\\\\PYTHON\\\\10.OS_&_Sub_Process Modules\"):\n",
    "    print(\"yes this path is an dictionary.\")\n",
    "\n",
    "else:\n",
    "    print(\"not this is no file\")"
   ]
  },
  {
   "cell_type": "code",
   "execution_count": 96,
   "metadata": {},
   "outputs": [
    {
     "name": "stdout",
     "output_type": "stream",
     "text": [
      "19452\n"
     ]
    }
   ],
   "source": [
    "#que-12\n",
    "#get file size\n",
    "\n",
    "print(os.path.getsize(\"F:\\\\Github_Desktop\\\\PYTHON\\\\10.OS_&_Sub_Process Modules\\\\lab-10.1(os_commands).ipynb\"))\n"
   ]
  },
  {
   "cell_type": "code",
   "execution_count": null,
   "metadata": {},
   "outputs": [],
   "source": [
    "#que-13\n",
    "#get file size\n",
    "\n",
    "import os\n",
    "\n",
    "for dirpath, dirnames, filenames in os.walk('F:\\\\Github_Desktop\\\\PYTHON'):\n",
    "    print(f'Found directory: {dirpath}')\n",
    "   \n"
   ]
  },
  {
   "cell_type": "code",
   "execution_count": null,
   "metadata": {},
   "outputs": [],
   "source": [
    "#que-14\n",
    "#get file size\n",
    "import os\n",
    "\n",
    "os.path.join(os.getcwd(),\"Copies_.txt\")\n",
    "\n",
    "file=open(\"copies_.txt\",\"w+\")\n",
    "file.write(\"Hello this is my copy file\")\n",
    "file.close()\n",
    "\n"
   ]
  },
  {
   "cell_type": "markdown",
   "metadata": {},
   "source": [
    "count dictionarys and files using os walk\n",
    "Sure thing! Here's a Python script using the os module to count directories and files:\n",
    "\n",
    "python\n",
    "import os\n",
    "\n",
    "def count_directories_and_files(root_dir):\n",
    "    num_files = 0\n",
    "    num_dirs = 0\n",
    "\n",
    "    for root, dirs, files in os.walk(root_dir):\n",
    "        num_dirs += len(dirs)\n",
    "        num_files += len(files)\n",
    "\n",
    "    return num_dirs, num_files\n",
    "\n",
    "root_directory = 'path/to/your/root/directory'\n",
    "directories, files = count_directories_and_files(root_directory)\n",
    "\n",
    "print(f'Total directories: {directories}')\n",
    "print(f'Total files: {files}')\n",
    "In this script:\n",
    "\n",
    "os.walk(root_dir) generates file names in a directory tree, walking either top-down or bottom-up.\n",
    "\n",
    "root is the current directory path.\n",
    "\n",
    "dirs is a list of directories in the current directory.\n",
    "\n",
    "files is a list of files in the current directory.\n",
    "\n",
    "The script counts the number of directories and files and then prints the totals.\n",
    "\n",
    "Feel free to modify the root_directory variable to the path you want to analyze. Enjoy coding!\n",
    "\n"
   ]
  },
  {
   "cell_type": "code",
   "execution_count": null,
   "metadata": {},
   "outputs": [],
   "source": [
    "#que-15\n",
    "#count files and dictionaries\n",
    "\n",
    "import os\n",
    "\n",
    "for dirpath, dirnames, filenames in os.walk('F:\\\\Github_Desktop\\\\PYTHON'):\n",
    "    print(f'Found directory: {dirpath}')\n",
    "    if(dictionary in dict):\n",
    "            dict[dictionary]+=1   \n",
    "\n",
    "    print(dict)\n",
    "    \n",
    "#not completed"
   ]
  },
  {
   "cell_type": "markdown",
   "metadata": {},
   "source": [
    "he os module in Python is a treasure trove of useful functions for interacting with the operating system. Here are some of the most handy ones:\n",
    "\n",
    "os.listdir(path): Lists all files and directories in the specified path.\n",
    "\n",
    "os.mkdir(path): Creates a new directory.\n",
    "\n",
    "os.rmdir(path): Removes an empty directory.\n",
    "\n",
    "os.remove(path): Removes a file.\n",
    "\n",
    "os.rename(src, dst): Renames a file or directory.\n",
    "\n",
    "os.path.join(path, *paths): Joins one or more path components intelligently.\n",
    "\n",
    "os.path.exists(path): Checks if a path exists.\n",
    "\n",
    "os.path.isfile(path): Checks if a path is a file.\n",
    "\n",
    "os.path.isdir(path): Checks if a path is a directory.\n",
    "\n",
    "os.path.getsize(path): Returns the size of the file at the given path.\n",
    "\n",
    "os.path.abspath(path): Returns the absolute path of the given path.\n",
    "\n",
    "os.getcwd(): Returns the current working directory.\n",
    "\n",
    "os.chdir(path): Changes the current working directory to the specified path.\n",
    "\n",
    "os.getlogin(): Returns the name of the user logged in on the controlling terminal.\n",
    "\n",
    "os.environ: Provides access to the environment variables."
   ]
  },
  {
   "cell_type": "markdown",
   "metadata": {},
   "source": []
  },
  {
   "cell_type": "code",
   "execution_count": 113,
   "metadata": {},
   "outputs": [],
   "source": [
    "\n",
    "class Solution(object):\n",
    "    def strStr(self, haystack, needle):\n",
    "        self.needle=needle\n",
    "        self.haystack =haystack\n",
    "\n",
    "        if self.needle in self.haystack:\n",
    "            for i in range(len(self.haystack)):\n",
    "                print(i)\n",
    "                if self.needle==self.haystack:\n",
    "                    print(i)\n",
    "                    print(\"hello\")\n",
    "\n",
    "            print(\"hello\")\n",
    "\n",
    "        \n",
    "needle=\"ll\"\n",
    "haystack =\"hello\"\n",
    "\n",
    "c1=Solution()\n",
    "c1.strStr(needle,haystack)\n",
    "        \n"
   ]
  },
  {
   "cell_type": "code",
   "execution_count": 7,
   "metadata": {},
   "outputs": [
    {
     "name": "stdout",
     "output_type": "stream",
     "text": [
      "3\n"
     ]
    }
   ],
   "source": [
    "l=\"abcabcbb\"\n",
    "list=[]\n",
    "for i in l :\n",
    "    if i in list:\n",
    "        pass\n",
    "    else:\n",
    "        list.append(i)\n",
    "print(len(list))\n"
   ]
  },
  {
   "cell_type": "code",
   "execution_count": 10,
   "metadata": {},
   "outputs": [
    {
     "ename": "TypeError",
     "evalue": "'list' object is not callable",
     "output_type": "error",
     "traceback": [
      "\u001b[1;31m---------------------------------------------------------------------------\u001b[0m",
      "\u001b[1;31mTypeError\u001b[0m                                 Traceback (most recent call last)",
      "Cell \u001b[1;32mIn[10], line 5\u001b[0m\n\u001b[0;32m      1\u001b[0m head\u001b[38;5;241m=\u001b[39m[\u001b[38;5;241m1\u001b[39m,\u001b[38;5;241m2\u001b[39m,\u001b[38;5;241m3\u001b[39m,\u001b[38;5;241m4\u001b[39m,\u001b[38;5;241m2\u001b[39m,\u001b[38;5;241m3\u001b[39m,\u001b[38;5;241m4\u001b[39m]\n\u001b[0;32m      3\u001b[0m my_list\u001b[38;5;241m=\u001b[39m\u001b[38;5;28mset\u001b[39m(head)\n\u001b[1;32m----> 5\u001b[0m \u001b[38;5;28mprint\u001b[39m(\u001b[38;5;28;43mlist\u001b[39;49m\u001b[43m(\u001b[49m\u001b[43mmy_list\u001b[49m\u001b[43m)\u001b[49m)\n",
      "\u001b[1;31mTypeError\u001b[0m: 'list' object is not callable"
     ]
    }
   ],
   "source": [
    "head=[1,2,3,4,2,3,4]\n",
    "\n",
    "my_list=set(head)\n",
    "\n",
    "print(list(my_list))"
   ]
  },
  {
   "cell_type": "code",
   "execution_count": 1,
   "metadata": {},
   "outputs": [
    {
     "name": "stdout",
     "output_type": "stream",
     "text": [
      "[1, 2, 3, 4]\n"
     ]
    }
   ],
   "source": [
    "head = [1, 2, 3, 4, 2, 3, 4]\n",
    "my_list = set(head)\n",
    "print(list(my_list))\n"
   ]
  },
  {
   "cell_type": "code",
   "execution_count": 2,
   "metadata": {},
   "outputs": [
    {
     "name": "stdout",
     "output_type": "stream",
     "text": [
      "elpmaxe\n"
     ]
    }
   ],
   "source": [
    "s = \"example\"\n",
    "reversed_s = s[::-1]\n",
    "print(reversed_s)\n"
   ]
  },
  {
   "cell_type": "code",
   "execution_count": null,
   "metadata": {},
   "outputs": [],
   "source": []
  }
 ],
 "metadata": {
  "kernelspec": {
   "display_name": "MIT_PYTHON",
   "language": "python",
   "name": "python3"
  },
  "language_info": {
   "codemirror_mode": {
    "name": "ipython",
    "version": 3
   },
   "file_extension": ".py",
   "mimetype": "text/x-python",
   "name": "python",
   "nbconvert_exporter": "python",
   "pygments_lexer": "ipython3",
   "version": "3.13.1"
  }
 },
 "nbformat": 4,
 "nbformat_minor": 2
}
