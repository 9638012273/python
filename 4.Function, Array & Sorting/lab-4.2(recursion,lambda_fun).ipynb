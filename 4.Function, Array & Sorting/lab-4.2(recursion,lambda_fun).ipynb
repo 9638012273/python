{
 "cells": [
  {
   "cell_type": "code",
   "execution_count": null,
   "metadata": {},
   "outputs": [],
   "source": [
    "# labwork-5.2 #\n",
    "#=============#\n",
    "\n",
    "#Question bank link\n",
    "\n",
    "#https://docs.google.com/document/d/150a73cNdUMvZh0roWn9UTKVkk1XPJJMFHrIFl6iOA2Q/edit?tab=t.0"
   ]
  },
  {
   "cell_type": "code",
   "execution_count": 10,
   "metadata": {},
   "outputs": [
    {
     "name": "stdout",
     "output_type": "stream",
     "text": [
      "Fectorial of 5 is: 120\n"
     ]
    }
   ],
   "source": [
    "#Que-1\n",
    "# recirsive function with nagative values\n",
    "\n",
    "def cal(a):\n",
    "    if a<=1:\n",
    "        return 1\n",
    "\n",
    "    else:\n",
    "        return a *  cal(a - 1)\n",
    "\n",
    "num=int(input(\"Enter number for calculate fectorial number:\"))\n",
    "fun=cal(num)\n",
    "\n",
    "print(f\"Fectorial of {num} is:\",fun)"
   ]
  },
  {
   "cell_type": "code",
   "execution_count": 17,
   "metadata": {},
   "outputs": [
    {
     "name": "stdout",
     "output_type": "stream",
     "text": [
      "0 1 1 2 3 "
     ]
    }
   ],
   "source": [
    "#Que-2\n",
    "# recirsive fibonacci series\n",
    "\n",
    "def fab(n):\n",
    "    if n<=0:\n",
    "        print(\"Enter positive number...\")\n",
    "    elif n==1:\n",
    "        return 0\n",
    "    elif n==2:\n",
    "        return 1\n",
    "    else:\n",
    "        return fab(n-1)+fab(n-2)\n",
    "\n",
    "num=int(input(\"Enter number for calculate fectorial number:\"))\n",
    "for i in range(1, num + 1): \n",
    "    print(fab(i), end=\" \")\n"
   ]
  },
  {
   "cell_type": "code",
   "execution_count": 20,
   "metadata": {},
   "outputs": [
    {
     "name": "stdout",
     "output_type": "stream",
     "text": [
      "hello\n"
     ]
    }
   ],
   "source": [
    "#Que-3\n",
    "# reverce string using recursion\n",
    "\n",
    "def rev(str):\n",
    "    \n",
    "\n",
    "    for i in range(len(str),1):\n",
    "        print(i)\n",
    "\n",
    "str=\"hello\"\n",
    "\n",
    "revv=rev(str)\n",
    "\n",
    "print(revv)"
   ]
  },
  {
   "cell_type": "code",
   "execution_count": null,
   "metadata": {},
   "outputs": [],
   "source": []
  }
 ],
 "metadata": {
  "kernelspec": {
   "display_name": "MIT_PYTHON",
   "language": "python",
   "name": "python3"
  },
  "language_info": {
   "codemirror_mode": {
    "name": "ipython",
    "version": 3
   },
   "file_extension": ".py",
   "mimetype": "text/x-python",
   "name": "python",
   "nbconvert_exporter": "python",
   "pygments_lexer": "ipython3",
   "version": "3.13.1"
  }
 },
 "nbformat": 4,
 "nbformat_minor": 2
}
