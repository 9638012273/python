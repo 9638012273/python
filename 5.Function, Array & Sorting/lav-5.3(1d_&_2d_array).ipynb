{
 "cells": [
  {
   "cell_type": "code",
   "execution_count": null,
   "metadata": {},
   "outputs": [],
   "source": [
    "# labwork-5.2 #\n",
    "#=============#\n",
    "\n",
    "#Question bank link\n",
    "\n",
    "#https://docs.google.com/document/d/1oMjstiIZGG-TKowVMfm670xROXJy6u-8jXMIzTIRIf0/edit?tab=t.0"
   ]
  },
  {
   "cell_type": "code",
   "execution_count": null,
   "metadata": {},
   "outputs": [],
   "source": [
    "#Que-1\n",
    "# 1d array\n",
    "\n",
    "arr=[1,2,3,4,5]\n",
    "\n",
    "for i,j in enumerate(arr):\n",
    "    print(f\"index:{i}--->{j}\")"
   ]
  },
  {
   "cell_type": "code",
   "execution_count": 3,
   "metadata": {},
   "outputs": [
    {
     "name": "stdout",
     "output_type": "stream",
     "text": [
      "[[1, 2, 3], [4, 5, 6], [7, 8, 9]]\n"
     ]
    }
   ],
   "source": [
    "#Que-2\n",
    "# 2d array\n",
    "\n",
    "l1=[[1,2,3],[4,5,6],[7,8,9]]\n",
    "\n",
    "l2=[[7,8,9],[4,5,6],[1,2,3]]\n",
    "\n",
    "l3=[[0,0,0],[0,0,0],[0,0,0]]\n",
    "\n",
    "for i in range(len(l1)):\n",
    "    for j in range(len(l1[0])):\n",
    "        l3[i][j]=l1[i][j]+l2[i][j]\n",
    "        \n",
    "print(l3)\n",
    "  "
   ]
  },
  {
   "cell_type": "code",
   "execution_count": null,
   "metadata": {},
   "outputs": [],
   "source": [
    "#Que-3\n",
    "# 2d array\n",
    "\n",
    "l1=[[1,2,3],[4,5,6]]\n",
    "\n",
    "l2=[[7,8,9],[4,5,6],[1,2,3]]\n",
    "\n",
    "l3=[[0,0,0],[0,0,0],[0,0,0]]"
   ]
  },
  {
   "cell_type": "code",
   "execution_count": null,
   "metadata": {},
   "outputs": [],
   "source": [
    "\n"
   ]
  },
  {
   "cell_type": "code",
   "execution_count": null,
   "metadata": {},
   "outputs": [],
   "source": [
    "#Que-4\n",
    "# sum of 1d array\n",
    "\n",
    "arr=[1,2,3,4,5]\n",
    "\n",
    "for i,j in enumerate(arr):\n",
    "    print(f\"index:{i}--->{j}\")\n",
    "\n",
    "sum=0\n",
    "for i in arr:\n",
    "    sum+=i\n",
    "\n",
    "print(\"Sum is:\",sum)\n"
   ]
  },
  {
   "cell_type": "code",
   "execution_count": null,
   "metadata": {},
   "outputs": [],
   "source": [
    "#Que-5\n",
    "# sum of 2d array\n",
    "\n",
    "l1=[[1,2,3],[4,5,6],[7,8,9]]\n",
    "\n",
    "l2=[[7,8,9],[4,5,6],[1,2,3]]\n",
    "\n",
    "l3=[[0,0,0],[0,0,0],[0,0,0]]\n",
    "\n",
    "for i in range(len(l1)):\n",
    "    for j in range(len(l1[0])):\n",
    "        l3[i][j]=l1[i][j]+l2[i][j]\n",
    "\n",
    "print(l3)"
   ]
  },
  {
   "cell_type": "code",
   "execution_count": null,
   "metadata": {},
   "outputs": [],
   "source": [
    "#Que-6\n",
    "# find minimum and meximum value from 2d array\n",
    "\n",
    "# meximum value\n",
    "\n",
    "l1=[[1,2,3],[4,5,6],[7,8,9]]\n",
    "\n",
    "m=0\n",
    "\n",
    "for i in range(len(l1)):\n",
    "    for j in range(len(l1[0])):\n",
    "        \n",
    "        if(l1[i][j]>m):\n",
    "            m=l1[i][j]\n",
    "print(\"largest value from 2D array:\",m)\n",
    "\n",
    "# menimum value\n",
    "\n",
    "l1=[[1,2,3],[4,5,6],[7,8,9]]\n",
    "\n",
    "for i in range(len(l1)):\n",
    "    for j in range(len(l1[0])):\n",
    "        if(l1[i][j]<m):\n",
    "            m=l1[i][j]\n",
    "print(\"smallest value from 2D array:\",m)"
   ]
  },
  {
   "cell_type": "code",
   "execution_count": 3,
   "metadata": {},
   "outputs": [
    {
     "name": "stdout",
     "output_type": "stream",
     "text": [
      "index:0--->1\n",
      "index:1--->2\n",
      "index:2--->3\n",
      "index:3--->4\n",
      "index:4--->5\n"
     ]
    }
   ],
   "source": [
    "#Que-7\n",
    "# replace position take from user\n",
    "\n",
    "len=int(input(\"Enter length of 1d array:\"))\n",
    "\n",
    "arr=[]\n",
    "\n",
    "for i in range(1,len+1):\n",
    "    i=int(input(\"Enter number:\"))\n",
    "    arr.append(i)\n",
    "\n",
    "for i,j in enumerate(arr):\n",
    "    print(f\"index:{i}--->{j}\")\n"
   ]
  },
  {
   "cell_type": "code",
   "execution_count": 7,
   "metadata": {},
   "outputs": [
    {
     "name": "stdout",
     "output_type": "stream",
     "text": [
      "[1, 2, 4, 5]\n"
     ]
    }
   ],
   "source": [
    "#Que-8\n",
    "# delete element from 1D array\n",
    "\n",
    "dd=[1,2,3,4,5]\n",
    "\n",
    "d=int(input(\"Enter value for delete:\"))\n",
    "\n",
    "if d in dd:\n",
    "    dd.remove(d)\n",
    "\n",
    "print(dd)"
   ]
  },
  {
   "cell_type": "code",
   "execution_count": 19,
   "metadata": {},
   "outputs": [
    {
     "name": "stdout",
     "output_type": "stream",
     "text": [
      "index:0--->1\n",
      "index:1--->2\n",
      "index:2--->3\n",
      "index:3--->4\n",
      "index:4--->33\n"
     ]
    }
   ],
   "source": [
    "#Que-9\n",
    "# replace value take from user\n",
    "\n",
    "dd=[1,2,3,4,5]\n",
    "\n",
    "d=int(input(\"Enter index for update value:\"))\n",
    "\n",
    "for i,j in enumerate(dd):\n",
    "    if j==d:\n",
    "        val=int(input(\"Enter value for update\"))\n",
    "        dd[j]=val\n",
    "    print(f\"index:{i}--->{j}\")"
   ]
  },
  {
   "cell_type": "code",
   "execution_count": null,
   "metadata": {},
   "outputs": [],
   "source": [
    "#Que-9\n",
    "# replace value take from user\n",
    "\n",
    "dd=[1,2,3,4,5]\n",
    "\n",
    "d=int(input(\"Enter index for update value:\"))\n",
    "\n",
    "if d>=len(dd):\n",
    "    print(\"Enter velid index\")\n",
    "\n",
    "else:\n",
    "    val=int(input(\"Enter value for update\"))\n",
    "    dd[d]=val\n",
    "\n",
    "for i,j in enumerate(dd):\n",
    "    print(f\"index:{i}--->{j}\")"
   ]
  },
  {
   "cell_type": "code",
   "execution_count": 24,
   "metadata": {},
   "outputs": [
    {
     "name": "stdout",
     "output_type": "stream",
     "text": [
      "value:9 in index -->8\n"
     ]
    }
   ],
   "source": [
    "#Que-10\n",
    "# replace value take from user\n",
    "\n",
    "dd=[1,2,3,4,5,6,7,8,9,10]\n",
    "\n",
    "d=int(input(\"Enter value for search index:\"))\n",
    "\n",
    "if d not in dd:\n",
    "    print(\"Enter velid index\")\n",
    "\n",
    "else:\n",
    "    for i,j in enumerate(dd):\n",
    "        if d==j:\n",
    "            print(f\"value:{d} in index -->{i}\")\n"
   ]
  },
  {
   "cell_type": "code",
   "execution_count": null,
   "metadata": {},
   "outputs": [],
   "source": []
  }
 ],
 "metadata": {
  "kernelspec": {
   "display_name": "MIT_PYTHON",
   "language": "python",
   "name": "python3"
  },
  "language_info": {
   "codemirror_mode": {
    "name": "ipython",
    "version": 3
   },
   "file_extension": ".py",
   "mimetype": "text/x-python",
   "name": "python",
   "nbconvert_exporter": "python",
   "pygments_lexer": "ipython3",
   "version": "3.13.1"
  }
 },
 "nbformat": 4,
 "nbformat_minor": 2
}
