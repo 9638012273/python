{
 "cells": [
  {
   "cell_type": "code",
   "execution_count": 4,
   "metadata": {},
   "outputs": [
    {
     "name": "stdout",
     "output_type": "stream",
     "text": [
      "ORIGINAL LIST:- [1, 2, 3, 4, 5, 6, 7, 8, 9, 10] \n",
      "\n",
      "LEN:- 10\n",
      "MAX:- 10\n",
      "MIN:- 1\n",
      "SUM:- 55\n",
      "TYPE:- <class 'list'>\n",
      "SORTED:- [10, 9, 8, 7, 6, 5, 4, 3, 2, 1]\n"
     ]
    }
   ],
   "source": [
    "# labwork-5.1 #\n",
    "#=============#\n",
    "\n",
    "#que-1\n",
    "\n",
    "list_of_num=[1,2,3,4,5,6,7,8,9,10]\n",
    "print(\"ORIGINAL LIST:-\",list_of_num,\"\\n\")\n",
    "\n",
    "print(\"LEN:-\",len(list_of_num))\n",
    "print(\"MAX:-\",max(list_of_num))\n",
    "print(\"MIN:-\",min(list_of_num))\n",
    "print(\"SUM:-\",sum(list_of_num))\n",
    "print(\"TYPE:-\",type(list_of_num))\n",
    "print(\"SORTED:-\",sorted(list_of_num,reverse=True))"
   ]
  },
  {
   "cell_type": "code",
   "execution_count": null,
   "metadata": {},
   "outputs": [
    {
     "name": "stdout",
     "output_type": "stream",
     "text": [
      "fectorial of 6 is: 720\n"
     ]
    }
   ],
   "source": [
    "#que-2\n",
    "\n",
    "def fectorial(num):\n",
    "    fect=1\n",
    "    for i in range(1,num+1):\n",
    "        fect *= i\n",
    "    return fect\n",
    "\n",
    "num=int(input(\"Enter a number:\"))\n",
    "fectorial_of_num=fectorial(num)\n",
    "\n",
    "print(f\"fectorial of {num} is:\",fectorial_of_num)"
   ]
  },
  {
   "cell_type": "code",
   "execution_count": 7,
   "metadata": {},
   "outputs": [
    {
     "name": "stdout",
     "output_type": "stream",
     "text": [
      "[1, 4, 9, 16, 25]\n"
     ]
    }
   ],
   "source": [
    "#que-3\n",
    "\n",
    "def square(mlist):\n",
    "    return [i**2 for i in mlist]\n",
    "   \n",
    "mlist=[1,2,3,4,5,]\n",
    "newlist=square(mlist)\n",
    "\n",
    "print(newlist)"
   ]
  },
  {
   "cell_type": "code",
   "execution_count": 8,
   "metadata": {},
   "outputs": [
    {
     "name": "stdout",
     "output_type": "stream",
     "text": [
      "{'h': 1, 'e': 1, 'l': 3, 'o': 2, ' ': 1, 'w': 1, 'r': 1, 'd': 1, '!': 1}\n"
     ]
    }
   ],
   "source": [
    "#que-4\n",
    "def check(str):\n",
    "    dict={}\n",
    "    for char in str:\n",
    "        if char in dict:\n",
    "            dict[char]+=1\n",
    "        else:\n",
    "            dict[char]=1\n",
    "\n",
    "    return dict\n",
    "\n",
    "   \n",
    "str=input(\"Enter string:\")\n",
    "\n",
    "frequency=check(str)\n",
    "print(frequency)"
   ]
  },
  {
   "cell_type": "code",
   "execution_count": 10,
   "metadata": {},
   "outputs": [
    {
     "name": "stdout",
     "output_type": "stream",
     "text": [
      "[1, 8, 27, 64, 125, 216, 343, 512, 729, 1000]\n"
     ]
    }
   ],
   "source": [
    "#que-5\n",
    "\n",
    "def square(mlist):\n",
    "    return [i**3 for i in mlist]\n",
    "   \n",
    "mlist=[1,2,3,4,5,6,7,8,9,10]\n",
    "\n",
    "newlist=square(mlist)\n",
    "print(newlist)"
   ]
  },
  {
   "cell_type": "code",
   "execution_count": null,
   "metadata": {},
   "outputs": [],
   "source": [
    "#que-6\n"
   ]
  },
  {
   "cell_type": "code",
   "execution_count": 13,
   "metadata": {},
   "outputs": [
    {
     "name": "stdout",
     "output_type": "stream",
     "text": [
      "['ram', 'shyam', 'ghanshyam', 'lakshman']\n"
     ]
    }
   ],
   "source": [
    "#que-7\n",
    "\n",
    "def udf(*args):\n",
    "    if len(args)==0:\n",
    "        print(\"list is empty...\")\n",
    "    else:\n",
    "        for i in args:\n",
    "            print(i)\n",
    "\n",
    "\n",
    "student=['ram','shyam','ghanshyam','lakshman']\n",
    "udf(student)\n"
   ]
  },
  {
   "cell_type": "code",
   "execution_count": 14,
   "metadata": {},
   "outputs": [
    {
     "name": "stdout",
     "output_type": "stream",
     "text": [
      "['ram', 'shyam', 'ghanshyam', 'lakshman']\n",
      "['ramnath', 'shyamnath', 'ghanshyamnath', 'lakshmannath']\n",
      "['ramu', 'shyamu', 'ghanshyamu', 'lakshmanu']\n"
     ]
    }
   ],
   "source": [
    "#que-8\n",
    "\n",
    "def udf(*args):\n",
    "    if len(args)==0:\n",
    "        print(\"list is empty...\")\n",
    "    else:\n",
    "        for i in args:\n",
    "            print(i)\n",
    "\n",
    "\n",
    "student=['ram','shyam','ghanshyam','lakshman']\n",
    "student_n=['ramnath','shyamnath','ghanshyamnath','lakshmannath']\n",
    "student_m=['ramu','shyamu','ghanshyamu','lakshmanu']\n",
    "udf(student,student_n,student_m)"
   ]
  },
  {
   "cell_type": "code",
   "execution_count": 14,
   "metadata": {},
   "outputs": [
    {
     "name": "stdout",
     "output_type": "stream",
     "text": [
      "name:ram\n",
      "age:18\n",
      "city:surat\n"
     ]
    }
   ],
   "source": [
    "#que-9\n",
    "\n",
    "def udf(**args):\n",
    "    if len(args)==0:\n",
    "        print(\"list is empty...\")\n",
    "    else:\n",
    "        for i,j in args.items():\n",
    "            print(f\"{i}:{j}\")\n",
    "\n",
    "\n",
    "mlist={\n",
    "    'name':'ram',\n",
    "    'age':18,\n",
    "    'city':'surat',\n",
    "}\n",
    "udf(**mlist)"
   ]
  },
  {
   "cell_type": "code",
   "execution_count": 16,
   "metadata": {},
   "outputs": [
    {
     "name": "stdout",
     "output_type": "stream",
     "text": [
      "Total cost is: 250\n"
     ]
    }
   ],
   "source": [
    "#que-10\n",
    "\n",
    "def udf(**args):\n",
    "    if len(args)==0:\n",
    "        print(\"dictionary is empty...\")\n",
    "    else:\n",
    "        tsum=sum(args.values())\n",
    "        return tsum\n",
    "\n",
    "\n",
    "\n",
    "product={\n",
    "    'tea':50,\n",
    "    'coffee':100,\n",
    "    'sugar':100,\n",
    "}\n",
    "cost=(udf(**product))\n",
    "\n",
    "print(\"Total cost is:\",cost)"
   ]
  },
  {
   "cell_type": "code",
   "execution_count": null,
   "metadata": {},
   "outputs": [],
   "source": [
    "#que-11\n",
    "\n"
   ]
  },
  {
   "cell_type": "code",
   "execution_count": 17,
   "metadata": {},
   "outputs": [
    {
     "name": "stdout",
     "output_type": "stream",
     "text": [
      "TOTAL AREA OF RECTENGLE WITH LENGTH 10 AND WIDTH 20 IS : 200\n"
     ]
    }
   ],
   "source": [
    "#que-12\n",
    "#rectengle area calculator\n",
    "\n",
    "def cal(l,w):\n",
    "    total=l*w\n",
    "    return total\n",
    "\n",
    "l=int(input(\"Enter length:\"))\n",
    "w=int(input(\"Enter width:\"))\n",
    "\n",
    "area=cal(l,w)\n",
    "print(f\"TOTAL AREA OF RECTENGLE WITH LENGTH {l} AND WIDTH {w} IS :\",area)"
   ]
  },
  {
   "cell_type": "code",
   "execution_count": 24,
   "metadata": {},
   "outputs": [
    {
     "name": "stdout",
     "output_type": "stream",
     "text": [
      "0\n",
      "1\n",
      "1\n",
      "2\n",
      "3\n",
      "5\n",
      "8\n",
      "13\n",
      "21\n",
      "34\n",
      "55\n",
      "89\n",
      "144\n"
     ]
    }
   ],
   "source": [
    "#que-13\n",
    "#fibonacci series\n",
    "\n",
    "def fibo(num):\n",
    "    a=0\n",
    "    b=1\n",
    "    print(a)\n",
    "    print(b)\n",
    "\n",
    "    for i in range(2,num):\n",
    "        c=a+b\n",
    "        print(c)\n",
    "        a=b\n",
    "        b=c\n",
    "\n",
    "\n",
    "num=int(input(\"Enter  umber for fibonacci range:\"))\n",
    "\n",
    "fibo(num)"
   ]
  },
  {
   "cell_type": "code",
   "execution_count": null,
   "metadata": {},
   "outputs": [],
   "source": []
  }
 ],
 "metadata": {
  "kernelspec": {
   "display_name": "MIT_PYTHON",
   "language": "python",
   "name": "python3"
  },
  "language_info": {
   "codemirror_mode": {
    "name": "ipython",
    "version": 3
   },
   "file_extension": ".py",
   "mimetype": "text/x-python",
   "name": "python",
   "nbconvert_exporter": "python",
   "pygments_lexer": "ipython3",
   "version": "3.13.1"
  }
 },
 "nbformat": 4,
 "nbformat_minor": 2
}
