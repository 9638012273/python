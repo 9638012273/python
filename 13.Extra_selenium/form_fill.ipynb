{
 "cells": [
  {
   "cell_type": "code",
   "execution_count": 1,
   "metadata": {},
   "outputs": [],
   "source": [
    "from selenium import webdriver\n",
    "from selenium.webdriver.common.keys import Keys\n",
    "from selenium.webdriver.chrome.service import Service\n",
    "from webdriver_manager.chrome import ChromeDriverManager\n",
    "from selenium.webdriver.common.by import By\n",
    "import time\n",
    "\n",
    "f_name=input(\"Enter Your First name:\")\n",
    "l_name=input(\"Enter Your Last name :\")\n",
    "email=input(\"Enter Your Email:\")\n",
    "mobile=input(\"Enter Your Mobile no.:\")\n",
    "city=input(\"Enter Your city:\")\n",
    "state=input(\"Enter Your state:\")\n",
    "country=input(\"Enter Your country:\")\n",
    "\n",
    "service = Service(ChromeDriverManager().install())\n",
    "driver = webdriver.Chrome(service=service)\n",
    "driver.get(f\"https://form.jotform.com/umaretiyamiit/simple-flat-contact-form\")\n",
    "time.sleep(2)\n",
    "\n",
    "\n",
    "elem = driver.find_element(By.ID,\"first_3\")\n",
    "elem.send_keys(f_name)\n",
    "time.sleep(2)\n",
    "\n",
    "elem = driver.find_element(By.ID,\"last_3\")\n",
    "elem.send_keys(l_name)\n",
    "time.sleep(2)\n",
    "\n",
    "elem = driver.find_element(By.ID,\"input_4\")\n",
    "elem.send_keys(email)\n",
    "time.sleep(2)\n",
    "\n",
    "elem = driver.find_element(By.ID,\"input_6_full\")\n",
    "elem.send_keys(mobile)\n",
    "time.sleep(2)\n",
    "\n",
    "elem = driver.find_element(By.ID,\"input_7_city\")\n",
    "elem.send_keys(city)\n",
    "time.sleep(2)\n",
    "\n",
    "elem = driver.find_element(By.ID,\"input_7_state\")\n",
    "elem.send_keys(state)\n",
    "time.sleep(2)\n",
    "\n",
    "elem = driver.find_element(By.ID,\"input_7_postal\")\n",
    "elem.send_keys(country)\n",
    "time.sleep(2)\n",
    "\n",
    "\n",
    "button=driver.find_element(By.CLASS_NAME,\"form-input-wide\")\n",
    "elem= button.find_element(By.XPATH, \"//button[@type='submit']\")\n",
    "elem.send_keys(Keys.RETURN)\n",
    "time.sleep(2)\n",
    "\n",
    "\n",
    "driver.quit()\n",
    "  "
   ]
  },
  {
   "cell_type": "code",
   "execution_count": null,
   "metadata": {},
   "outputs": [],
   "source": []
  }
 ],
 "metadata": {
  "kernelspec": {
   "display_name": "MIT_PYTHON",
   "language": "python",
   "name": "python3"
  },
  "language_info": {
   "codemirror_mode": {
    "name": "ipython",
    "version": 3
   },
   "file_extension": ".py",
   "mimetype": "text/x-python",
   "name": "python",
   "nbconvert_exporter": "python",
   "pygments_lexer": "ipython3",
   "version": "3.13.1"
  }
 },
 "nbformat": 4,
 "nbformat_minor": 2
}
