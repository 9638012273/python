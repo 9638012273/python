{
 "cells": [
  {
   "cell_type": "code",
   "execution_count": null,
   "metadata": {},
   "outputs": [],
   "source": [
    "from selenium import webdriver\n",
    "from selenium.webdriver.common.keys import Keys\n",
    "from selenium.webdriver.chrome.service import Service\n",
    "from webdriver_manager.chrome import ChromeDriverManager\n",
    "from selenium.webdriver.common.by import By\n",
    "import time\n",
    "\n",
    "search=\"Python Tutorial\"\n",
    "\n",
    "service = Service(ChromeDriverManager().install())\n",
    "driver = webdriver.Chrome(service=service)\n",
    "driver.get(f\"https://www.youtube.com/\")\n",
    "time.sleep(2)\n",
    "\n",
    "elem = driver.find_element(By.CLASS_NAME,\"yt-searchbox-input\").send_keys(Keys.RETURN)\n",
    "time.sleep(2)\n",
    "\n",
    "elem = driver.find_element(By.CLASS_NAME,\"yt-searchbox-input\").send_keys(search)\n",
    "time.sleep(2)\n",
    "\n",
    "elem = driver.find_element(By.CLASS_NAME,\"yt-searchbox-input\").send_keys(Keys.RETURN)\n",
    "time.sleep(2)\n",
    "\n",
    "elem = driver.find_element(By.CLASS_NAME,\"yt-lockup-view-model-wiz__content-image\").send_keys(Keys.RETURN)\n",
    "time.sleep(10)\n",
    "  \n",
    "elem = driver.find_element(By.ID,\"skip-button:2\").send_keys(Keys.RETURN)\n",
    "time.sleep(5)\n",
    "\n",
    "driver.quit()"
   ]
  },
  {
   "cell_type": "code",
   "execution_count": null,
   "metadata": {},
   "outputs": [],
   "source": []
  }
 ],
 "metadata": {
  "kernelspec": {
   "display_name": "MIT_PYTHON",
   "language": "python",
   "name": "python3"
  },
  "language_info": {
   "codemirror_mode": {
    "name": "ipython",
    "version": 3
   },
   "file_extension": ".py",
   "mimetype": "text/x-python",
   "name": "python",
   "nbconvert_exporter": "python",
   "pygments_lexer": "ipython3",
   "version": "3.13.1"
  }
 },
 "nbformat": 4,
 "nbformat_minor": 2
}
