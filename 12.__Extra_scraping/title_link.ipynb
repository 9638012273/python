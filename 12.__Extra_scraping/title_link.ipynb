{
 "cells": [
  {
   "cell_type": "code",
   "execution_count": null,
   "metadata": {},
   "outputs": [
    {
     "name": "stdout",
     "output_type": "stream",
     "text": [
      "Requirement already satisfied: requests in c:\\users\\hp\\appdata\\local\\programs\\python\\python313\\lib\\site-packages (2.32.3)\n",
      "Requirement already satisfied: charset-normalizer<4,>=2 in c:\\users\\hp\\appdata\\local\\programs\\python\\python313\\lib\\site-packages (from requests) (3.4.1)\n",
      "Requirement already satisfied: idna<4,>=2.5 in c:\\users\\hp\\appdata\\local\\programs\\python\\python313\\lib\\site-packages (from requests) (3.10)\n",
      "Requirement already satisfied: urllib3<3,>=1.21.1 in c:\\users\\hp\\appdata\\local\\programs\\python\\python313\\lib\\site-packages (from requests) (2.3.0)\n",
      "Requirement already satisfied: certifi>=2017.4.17 in c:\\users\\hp\\appdata\\local\\programs\\python\\python313\\lib\\site-packages (from requests) (2025.1.31)\n",
      "Note: you may need to restart the kernel to use updated packages.\n",
      "Requirement already satisfied: pip in c:\\users\\hp\\appdata\\local\\programs\\python\\python313\\lib\\site-packages (25.0)\n",
      "Note: you may need to restart the kernel to use updated packages.\n",
      "Requirement already satisfied: html5lib in c:\\users\\hp\\appdata\\local\\programs\\python\\python313\\lib\\site-packages (1.1)\n",
      "Requirement already satisfied: six>=1.9 in c:\\users\\hp\\appdata\\roaming\\python\\python313\\site-packages (from html5lib) (1.17.0)\n",
      "Requirement already satisfied: webencodings in c:\\users\\hp\\appdata\\local\\programs\\python\\python313\\lib\\site-packages (from html5lib) (0.5.1)\n",
      "Note: you may need to restart the kernel to use updated packages.\n",
      "Requirement already satisfied: beautifulsoup4 in c:\\users\\hp\\appdata\\local\\programs\\python\\python313\\lib\\site-packages (4.13.3)\n",
      "Requirement already satisfied: soupsieve>1.2 in c:\\users\\hp\\appdata\\local\\programs\\python\\python313\\lib\\site-packages (from beautifulsoup4) (2.6)\n",
      "Requirement already satisfied: typing-extensions>=4.0.0 in c:\\users\\hp\\appdata\\local\\programs\\python\\python313\\lib\\site-packages (from beautifulsoup4) (4.12.2)\n",
      "Note: you may need to restart the kernel to use updated packages.\n",
      "Requirement already satisfied: lxml in c:\\users\\hp\\appdata\\local\\programs\\python\\python313\\lib\\site-packages (5.3.0)\n",
      "Note: you may need to restart the kernel to use updated packages.\n"
     ]
    }
   ],
   "source": [
    "%pip install requests\n",
    "%pip install --upgrade pip\n",
    "%pip install html5lib\n",
    "%pip install beautifulsoup4"
   ]
  },
  {
   "cell_type": "code",
   "execution_count": 1,
   "metadata": {},
   "outputs": [
    {
     "name": "stdout",
     "output_type": "stream",
     "text": [
      "Islam Makhachev\n",
      "Alexandre Pantoja\n",
      "Merab Dvalishvili\n",
      "Ilia Topuria\n",
      "Islam Makhachev\n",
      "Belal Muhammad\n",
      "Dricus Du Plessis\n",
      "Alex Pereira\n",
      "Jon Jones\n",
      "Valentina Shevchenko\n",
      "Zhang Weili\n",
      "Valentina Shevchenko\n",
      "Julianna Peña\n",
      "https://www.ufc.com/rankings/athlete/islam-makhachev\n",
      "https://www.ufc.com/rankings/athlete/alexandre-pantoja\n",
      "https://www.ufc.com/rankings/athlete/merab-dvalishvili\n",
      "https://www.ufc.com/rankings/athlete/ilia-topuria\n",
      "https://www.ufc.com/rankings/athlete/islam-makhachev\n",
      "https://www.ufc.com/rankings/athlete/belal-muhammad\n",
      "https://www.ufc.com/rankings/athlete/dricus-du-plessis\n",
      "https://www.ufc.com/rankings/athlete/alex-pereira\n",
      "https://www.ufc.com/rankings/athlete/jon-jones\n",
      "https://www.ufc.com/rankings/athlete/valentina-shevchenko\n",
      "https://www.ufc.com/rankings/athlete/weili-zhang\n",
      "https://www.ufc.com/rankings/athlete/valentina-shevchenko\n",
      "https://www.ufc.com/rankings/athlete/julianna-pena\n",
      "13\n",
      "13\n",
      "                   Title                                              Links\n",
      "0        Islam Makhachev  https://www.ufc.com/rankings/athlete/islam-mak...\n",
      "1      Alexandre Pantoja  https://www.ufc.com/rankings/athlete/alexandre...\n",
      "2      Merab Dvalishvili  https://www.ufc.com/rankings/athlete/merab-dva...\n",
      "3           Ilia Topuria  https://www.ufc.com/rankings/athlete/ilia-topuria\n",
      "4        Islam Makhachev  https://www.ufc.com/rankings/athlete/islam-mak...\n",
      "5         Belal Muhammad  https://www.ufc.com/rankings/athlete/belal-muh...\n",
      "6      Dricus Du Plessis  https://www.ufc.com/rankings/athlete/dricus-du...\n",
      "7           Alex Pereira  https://www.ufc.com/rankings/athlete/alex-pereira\n",
      "8              Jon Jones     https://www.ufc.com/rankings/athlete/jon-jones\n",
      "9   Valentina Shevchenko  https://www.ufc.com/rankings/athlete/valentina...\n",
      "10           Zhang Weili   https://www.ufc.com/rankings/athlete/weili-zhang\n",
      "11  Valentina Shevchenko  https://www.ufc.com/rankings/athlete/valentina...\n",
      "12         Julianna Peña  https://www.ufc.com/rankings/athlete/julianna-...\n"
     ]
    }
   ],
   "source": [
    "import requests\n",
    "from bs4 import BeautifulSoup\n",
    "import pandas as pd\n",
    "\n",
    "Title=[]\n",
    "Link=[]\n",
    "\n",
    "url=\"https://www.ufc.com/rankings\"\n",
    "\n",
    "request=requests.get(url)\n",
    "# print(request.status_code)\n",
    "\n",
    "soup=BeautifulSoup(request.text,\"html.parser\")\n",
    "\n",
    "\n",
    "\n",
    "title=soup.find_all(\"h5\")\n",
    "\n",
    "for i in title:\n",
    "    tt=i.text\n",
    "    Title.append(tt)\n",
    "\n",
    "for i in Title:\n",
    "    print(i)\n",
    "\n",
    "\n",
    "links=soup.find_all(\"div\",class_=\"info\")\n",
    "\n",
    "for i in links:\n",
    "    link=i.a['href'] \n",
    "    final=url+link\n",
    "    Link.append(final)\n",
    "\n",
    "for i in Link:\n",
    "    print(i)\n",
    "\n",
    "print(len(Title))\n",
    "print(len(Link))\n",
    "\n",
    "dataframe=pd.DataFrame({\"Title\":Title,\"Links\":Link})\n",
    "print(dataframe)\n",
    "\n",
    "dataframe.to_csv(\"Title_link.csv\")"
   ]
  },
  {
   "cell_type": "code",
   "execution_count": null,
   "metadata": {},
   "outputs": [],
   "source": []
  }
 ],
 "metadata": {
  "kernelspec": {
   "display_name": "MIT_PYTHON",
   "language": "python",
   "name": "python3"
  },
  "language_info": {
   "codemirror_mode": {
    "name": "ipython",
    "version": 3
   },
   "file_extension": ".py",
   "mimetype": "text/x-python",
   "name": "python",
   "nbconvert_exporter": "python",
   "pygments_lexer": "ipython3",
   "version": "3.13.1"
  }
 },
 "nbformat": 4,
 "nbformat_minor": 2
}
