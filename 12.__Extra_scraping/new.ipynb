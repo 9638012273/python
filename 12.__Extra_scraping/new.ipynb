{
 "cells": [
  {
   "cell_type": "code",
   "execution_count": 24,
   "metadata": {},
   "outputs": [
    {
     "name": "stdout",
     "output_type": "stream",
     "text": [
      "Glanza\n",
      "Urban Cruiser Taisor\n",
      "Rumion\n",
      "Urban Cruiser Hyryder\n",
      "Innova Crysta\n",
      "Innova Hycross\n",
      "Hilux\n",
      "Fortuner\n",
      "Legender\n",
      "Camry\n",
      "Vellfire\n",
      "Land Cruiser 300\n",
      "https://www.toyotabharat.com/showroom/glanza/\n",
      "https://www.toyotabharat.com/showroom/urbancruiser-taisor/\n",
      "https://www.toyotabharat.com/showroom/rumion/\n",
      "https://www.toyotabharat.com/showroom/urbancruiser-hyryder/\n",
      "https://www.toyotabharat.com/showroom/innova-crysta/\n",
      "https://www.toyotabharat.com/showroom/innova/\n",
      "https://www.toyotabharat.com/showroom/hilux/\n",
      "https://www.toyotabharat.com/showroom/fortuner/index-fortuner.html\n",
      "https://www.toyotabharat.com/showroom/fortuner/index-legender.html\n",
      "https://www.toyotabharat.com/showroom/camry/\n",
      "https://www.toyotabharat.com/showroom/vellfire/\n",
      "https://www.toyotabharat.com/showroom/lc300/\n",
      "12\n",
      "12\n"
     ]
    }
   ],
   "source": [
    "import requests\n",
    "from bs4 import BeautifulSoup\n",
    "import pandas as pd\n",
    "\n",
    "url=\"https://www.toyotabharat.com/\"\n",
    "\n",
    "re=requests.get(url)\n",
    "soup=BeautifulSoup(re.text,\"html.parser\")\n",
    "\n",
    "Title=[]\n",
    "\n",
    "title=soup.find_all(\"div\",class_=\"col-lg-2 col-md-3 col-sm-3 col-xs-6\")\n",
    "\n",
    "for i in title:\n",
    "    tt=i.h3.text\n",
    "    Title.append(tt)\n",
    "\n",
    "for i in Title:\n",
    "    print(i)\n",
    "\n",
    "Link=[]\n",
    "\n",
    "link=soup.find_all(\"div\",class_=\"col-lg-2 col-md-3 col-sm-3 col-xs-6\")\n",
    "n_url=\"https://www.toyotabharat.com\"\n",
    "\n",
    "for i in link:\n",
    "    li=i.a['href']\n",
    "    final=n_url+li\n",
    "    Link.append(final)\n",
    "\n",
    "for i in Link:\n",
    "    print(i)\n",
    "\n",
    "\n",
    "print(len(Title))\n",
    "print(len(Link))\n",
    "\n"
   ]
  },
  {
   "cell_type": "code",
   "execution_count": null,
   "metadata": {},
   "outputs": [],
   "source": []
  }
 ],
 "metadata": {
  "kernelspec": {
   "display_name": "MIT_PYTHON",
   "language": "python",
   "name": "python3"
  },
  "language_info": {
   "codemirror_mode": {
    "name": "ipython",
    "version": 3
   },
   "file_extension": ".py",
   "mimetype": "text/x-python",
   "name": "python",
   "nbconvert_exporter": "python",
   "pygments_lexer": "ipython3",
   "version": "3.13.1"
  }
 },
 "nbformat": 4,
 "nbformat_minor": 2
}
