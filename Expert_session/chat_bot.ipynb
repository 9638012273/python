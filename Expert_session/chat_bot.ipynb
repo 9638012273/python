{
 "cells": [
  {
   "cell_type": "code",
   "execution_count": null,
   "metadata": {},
   "outputs": [],
   "source": [
    "#https://docs.google.com/document/d/1CCD1hGlOZ2HpOceWoBc-GAEWgUIlqRUuJzqkXxPmxqA/edit?tab=t.0 "
   ]
  }
 ],
 "metadata": {
  "kernelspec": {
   "display_name": "MIT_PYTHON",
   "language": "python",
   "name": "python3"
  },
  "language_info": {
   "name": "python",
   "version": "3.13.1"
  }
 },
 "nbformat": 4,
 "nbformat_minor": 2
}
