{
 "cells": [
  {
   "cell_type": "code",
   "execution_count": 6,
   "metadata": {},
   "outputs": [
    {
     "name": "stdout",
     "output_type": "stream",
     "text": [
      "1\n",
      "2\n",
      "3\n",
      "skip he\n",
      "5\n",
      "6\n",
      "7\n",
      "skip he\n",
      "9\n",
      "10\n",
      "11\n",
      "skip he\n",
      "13\n",
      "14\n",
      "15\n",
      "skip he\n",
      "17\n",
      "18\n",
      "19\n",
      "skip he\n"
     ]
    }
   ],
   "source": [
    "# labwork-3.2 #\n",
    "#=============#\n",
    "\n",
    "#que-1\n",
    "#skip the devided by 4 value \n",
    "\n",
    "for x in range(1,21):\n",
    "    if (x%4==0):\n",
    "        print(\"skip he\")\n",
    "        continue\n",
    "        \n",
    "    print(x)\n",
    "\n"
   ]
  },
  {
   "cell_type": "code",
   "execution_count": 10,
   "metadata": {},
   "outputs": [
    {
     "name": "stdout",
     "output_type": "stream",
     "text": [
      "1\n",
      "2\n",
      "3\n",
      "4\n",
      "5\n",
      "6\n"
     ]
    }
   ],
   "source": [
    "#que-2\n",
    "# when i==7 break programm\n",
    "\n",
    "i=1\n",
    "while(i<=10):\n",
    "    if(i==7):\n",
    "        break\n",
    "    print(i)\n",
    "    i+=1"
   ]
  },
  {
   "cell_type": "code",
   "execution_count": 16,
   "metadata": {},
   "outputs": [
    {
     "name": "stdout",
     "output_type": "stream",
     "text": [
      "p\n",
      "y\n",
      "t\n",
      "h\n",
      "n\n"
     ]
    }
   ],
   "source": [
    "#que-3\n",
    "#continue viwels from python keyword\n",
    "\n",
    "string=\"PYTHON\"\n",
    "\n",
    "for i in string.lower():\n",
    "    if(i==\"a\" or i==\"e\" or i==\"i\" or i==\"o\" or i==\"u\"):\n",
    "        continue\n",
    "    print(i)\n"
   ]
  },
  {
   "cell_type": "code",
   "execution_count": 26,
   "metadata": {},
   "outputs": [
    {
     "data": {
      "text/plain": [
       "[1, 4, 9, 16, 25, 36, 49, 64, 81, 100]"
      ]
     },
     "execution_count": 26,
     "metadata": {},
     "output_type": "execute_result"
    }
   ],
   "source": [
    "#que-4\n",
    "#list of cube from 1 to 10\n",
    "\n",
    "# for cube (x**2 / x*x are same)\n",
    "\n",
    "list=[ x**2 for x in range(1,11)]\n",
    "list"
   ]
  },
  {
   "cell_type": "code",
   "execution_count": 34,
   "metadata": {},
   "outputs": [
    {
     "name": "stdout",
     "output_type": "stream",
     "text": [
      "[2, 4, 6, 8, 10, 12, 14, 16, 18, 20, 22, 24, 26, 28, 30, 32, 34, 36, 38, 40, 42, 44, 46, 48]\n"
     ]
    }
   ],
   "source": [
    "#que-5\n",
    "#even list from 1 to 50\n",
    "\n",
    "even_list=[x for x in range(1,50) if x % 2==0]\n",
    "print(even_list)"
   ]
  },
  {
   "cell_type": "code",
   "execution_count": 22,
   "metadata": {},
   "outputs": [
    {
     "name": "stdout",
     "output_type": "stream",
     "text": [
      "original list : ['w', 'r', 't', 'a', 'i', 'o', 'e', 't', 'd', 'g']\n",
      "vowel word list: ['a', 'i', 'o', 'e']\n"
     ]
    }
   ],
   "source": [
    "#que-6\n",
    "# take user input and check vovels\n",
    "\n",
    "new_list=[]\n",
    "vovel_list=['a','e','i','o','u','A','E','I','O','U']\n",
    "word_list=[]\n",
    "\n",
    "for i in range(10):\n",
    "    new_list.append(input(\"Enter ten string word :\"))\n",
    "    \n",
    "\n",
    "for i in new_list:\n",
    "    if i[0] in vovel_list:\n",
    "         word_list.append(i)\n",
    "        \n",
    "\n",
    "print(\"original list :\",new_list)\n",
    "print(\"vowel word list:\",word_list)"
   ]
  },
  {
   "cell_type": "code",
   "execution_count": 6,
   "metadata": {},
   "outputs": [
    {
     "name": "stdout",
     "output_type": "stream",
     "text": [
      "\n",
      "\n",
      "table of  1\n",
      "1 x 1 = 1\n",
      "1 x 2 = 2\n",
      "1 x 3 = 3\n",
      "1 x 4 = 4\n",
      "1 x 5 = 5\n",
      "1 x 6 = 6\n",
      "1 x 7 = 7\n",
      "1 x 8 = 8\n",
      "1 x 9 = 9\n",
      "1 x 10 = 10\n",
      "\n",
      "\n",
      "table of  2\n",
      "2 x 1 = 2\n",
      "2 x 2 = 4\n",
      "2 x 3 = 6\n",
      "2 x 4 = 8\n",
      "2 x 5 = 10\n",
      "2 x 6 = 12\n",
      "2 x 7 = 14\n",
      "2 x 8 = 16\n",
      "2 x 9 = 18\n",
      "2 x 10 = 20\n",
      "\n",
      "\n",
      "table of  3\n",
      "3 x 1 = 3\n",
      "3 x 2 = 6\n",
      "3 x 3 = 9\n",
      "3 x 4 = 12\n",
      "3 x 5 = 15\n",
      "3 x 6 = 18\n",
      "3 x 7 = 21\n",
      "3 x 8 = 24\n",
      "3 x 9 = 27\n",
      "3 x 10 = 30\n",
      "\n",
      "\n",
      "table of  4\n",
      "4 x 1 = 4\n",
      "4 x 2 = 8\n",
      "4 x 3 = 12\n",
      "4 x 4 = 16\n",
      "4 x 5 = 20\n",
      "4 x 6 = 24\n",
      "4 x 7 = 28\n",
      "4 x 8 = 32\n",
      "4 x 9 = 36\n",
      "4 x 10 = 40\n",
      "\n",
      "\n",
      "table of  5\n",
      "5 x 1 = 5\n",
      "5 x 2 = 10\n",
      "5 x 3 = 15\n",
      "5 x 4 = 20\n",
      "5 x 5 = 25\n",
      "5 x 6 = 30\n",
      "5 x 7 = 35\n",
      "5 x 8 = 40\n",
      "5 x 9 = 45\n",
      "5 x 10 = 50\n"
     ]
    }
   ],
   "source": [
    "#que-7\n",
    "#multiplication table from 1 to 5\n",
    "\n",
    "for x in range(1,6):\n",
    "    print(\"\\n\")\n",
    "    print(\"table of \",x)\n",
    "\n",
    "    for i in range(1,11):\n",
    "        print(x,\"x\",i,\"=\",x*i)"
   ]
  },
  {
   "cell_type": "code",
   "execution_count": null,
   "metadata": {},
   "outputs": [],
   "source": []
  }
 ],
 "metadata": {
  "kernelspec": {
   "display_name": "MIT_PYTHON",
   "language": "python",
   "name": "python3"
  },
  "language_info": {
   "codemirror_mode": {
    "name": "ipython",
    "version": 3
   },
   "file_extension": ".py",
   "mimetype": "text/x-python",
   "name": "python",
   "nbconvert_exporter": "python",
   "pygments_lexer": "ipython3",
   "version": "3.13.1"
  }
 },
 "nbformat": 4,
 "nbformat_minor": 2
}
