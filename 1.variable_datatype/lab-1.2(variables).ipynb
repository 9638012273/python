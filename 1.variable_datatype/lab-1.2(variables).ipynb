{
 "cells": [
  {
   "cell_type": "code",
   "execution_count": 1,
   "metadata": {},
   "outputs": [
    {
     "name": "stdout",
     "output_type": "stream",
     "text": [
      "SOFTWARE,ENGINEERING\n",
      "SOFTWARE @@ ENGINEERING"
     ]
    }
   ],
   "source": [
    "# LABWORK - 1.2 #\n",
    "#===============#\n",
    "\n",
    "#que-1\n",
    "#sep=\"\"/end=\"\"\n",
    "\n",
    "print(\"SOFTWARE\" , \"ENGINEERING\" , sep=\",\")\n",
    "print(\"SOFTWARE \",end=\"@@\" \" ENGINEERING\" )\n"
   ]
  },
  {
   "cell_type": "code",
   "execution_count": 1,
   "metadata": {},
   "outputs": [
    {
     "name": "stdout",
     "output_type": "stream",
     "text": [
      "DISPLAY INFORMATION \n",
      "Hello ! mit in age 18 , you have nice hobby travel\n"
     ]
    }
   ],
   "source": [
    "#que-2\n",
    "#User_task\n",
    "\n",
    "name=input(\"Enter your name:\")\n",
    "age=int(input(\"Enter your age:\"))\n",
    "hobby=input(\"Enger your hobby:\")\n",
    "\n",
    "print(\"DISPLAY INFORMATION \")\n",
    "print(\"Hello !\",name,\"in age\",age,\", you have nice hobby\",hobby)"
   ]
  },
  {
   "cell_type": "code",
   "execution_count": 3,
   "metadata": {},
   "outputs": [
    {
     "name": "stdout",
     "output_type": "stream",
     "text": [
      "ARITHMETIC OPERATION \n",
      " \n",
      "SUM : 10 + 20 = 30\n",
      "SUB : 10 - 20 = -10\n",
      "MUL : 10 * 20 = 200\n",
      "DEV : 10 / 20 = 0.5\n",
      "MOD : 10 % 20 = 10\n",
      "POW : 10 ** 20 = 100000000000000000000\n",
      "FLR : 10 // 20 = 0\n"
     ]
    }
   ],
   "source": [
    "#que-3\n",
    "#Arithmetic_operation\n",
    "\n",
    "f=int(input(\"Enter first value:\"))\n",
    "s=int(input(\"Enter second value:\"))\n",
    "\n",
    "print(\"ARITHMETIC OPERATION \\n \")\n",
    "print(\"SUM :\",f,\"+\",s,\"=\",f+s)\n",
    "print(\"SUB :\",f,\"-\",s,\"=\",f-s)\n",
    "print(\"MUL :\",f,\"*\",s,\"=\",f*s)\n",
    "print(\"DEV :\",f,\"/\",s,\"=\",f/s)\n",
    "print(\"MOD :\",f,\"%\",s,\"=\",f%s)\n",
    "print(\"POW :\",f,\"**\",s,\"=\",f**s)\n",
    "print(\"FLR :\",f,\"//\",s,\"=\",f//s)"
   ]
  },
  {
   "cell_type": "code",
   "execution_count": 4,
   "metadata": {},
   "outputs": [
    {
     "name": "stdout",
     "output_type": "stream",
     "text": [
      "<class 'int'> ('value :', 1)\n",
      "<class 'str'> ('value :', 'hello')\n",
      "<class 'float'> ('value :', 3.3)\n",
      "<class 'complex'> ('value :', (3+5j))\n",
      "<class 'list'> ('value :', ['list', '1', 'two'])\n",
      "<class 'dict'> ('value :', {'name': 'python', 'year': 1970})\n",
      "<class 'tuple'> ('value :', ('tuple', 'in', 'python'))\n",
      "True\n"
     ]
    }
   ],
   "source": [
    "#que-4\n",
    "#data_types\n",
    "\n",
    "a=1\n",
    "b=\"hello\"\n",
    "c=3.3\n",
    "d=3+5j\n",
    "e=[\"list\",\"1\",\"two\"]\n",
    "f={\n",
    "  \"name\":\"python\",\n",
    "  \"year\":1970\n",
    "}\n",
    "g=(\"tuple\",\"in\",\"python\")\n",
    "\n",
    "print(type(a),(\"value :\",a))\n",
    "print(type(b),(\"value :\",b))\n",
    "print(type(c),(\"value :\",c))\n",
    "print(type(d),(\"value :\",d))\n",
    "print(type(e),(\"value :\",e))\n",
    "print(type(f),(\"value :\",f))\n",
    "print(type(g),(\"value :\",g))\n",
    "print(10>9)\n"
   ]
  },
  {
   "cell_type": "code",
   "execution_count": 21,
   "metadata": {},
   "outputs": [
    {
     "name": "stdout",
     "output_type": "stream",
     "text": [
      "your height is: 146.0 senti meter and weight is: 68.0 kg\n"
     ]
    }
   ],
   "source": [
    "#que-5\n",
    "#height_weight\n",
    "\n",
    "height=float(input(\"Enter your height in semi:\"))\n",
    "weight=float(input(\"Enter your weight in kg:\"))\n",
    "\n",
    "print(\"your height is:\",height,\"senti meter\",\"and weight is:\",weight,\"kg\")\n"
   ]
  },
  {
   "cell_type": "code",
   "execution_count": 32,
   "metadata": {},
   "outputs": [
    {
     "name": "stdout",
     "output_type": "stream",
     "text": [
      "And: True\n",
      "Or: True\n",
      "Not: False\n"
     ]
    }
   ],
   "source": [
    "#que-6\n",
    "#logical operator(AND,OR,NOT)\n",
    "\n",
    "x=int(input(\"Enter value between( 1 - 10 ):\"))\n",
    "\n",
    "print(\"And:\",x>1 and x<10)\n",
    "print(\"Or:\",x<1 or x<10)\n",
    "print(\"Not:\",not(x>1 or x<10))\n"
   ]
  },
  {
   "cell_type": "code",
   "execution_count": 39,
   "metadata": {},
   "outputs": [
    {
     "name": "stdout",
     "output_type": "stream",
     "text": [
      " x : 10\n",
      "value (+) : 20\n",
      "value (-) : 15\n",
      "value (*) : 45\n",
      "value (/) : 9.0\n"
     ]
    }
   ],
   "source": [
    "#que-7\n",
    "#Assignment operators (=, +=, -=, *=, /=) \n",
    "\n",
    "x=10\n",
    "print(\" x :\",x)\n",
    "x+=10\n",
    "print(\"value (+) :\",x)\n",
    "x-=5\n",
    "print(\"value (-) :\",x)\n",
    "x*=3\n",
    "print(\"value (*) :\",x)\n",
    "x/=5\n",
    "print(\"value (/) :\",x)"
   ]
  },
  {
   "cell_type": "code",
   "execution_count": null,
   "metadata": {},
   "outputs": [],
   "source": []
  }
 ],
 "metadata": {
  "kernelspec": {
   "display_name": "MIT_PYTHON",
   "language": "python",
   "name": "python3"
  },
  "language_info": {
   "codemirror_mode": {
    "name": "ipython",
    "version": 3
   },
   "file_extension": ".py",
   "mimetype": "text/x-python",
   "name": "python",
   "nbconvert_exporter": "python",
   "pygments_lexer": "ipython3",
   "version": "3.13.1"
  }
 },
 "nbformat": 4,
 "nbformat_minor": 2
}
