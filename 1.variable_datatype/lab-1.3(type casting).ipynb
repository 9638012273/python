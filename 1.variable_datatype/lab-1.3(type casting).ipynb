{
 "cells": [
  {
   "cell_type": "code",
   "execution_count": 2,
   "metadata": {},
   "outputs": [
    {
     "name": "stdout",
     "output_type": "stream",
     "text": [
      "int: 18\n",
      "float: 18.0\n",
      "boolean True\n"
     ]
    }
   ],
   "source": [
    "#que-1\n",
    "#type_casting\n",
    "\n",
    "x=int(input(\"Enter your age:\"))\n",
    "y=float(x)\n",
    "z=x>1 and x<70\n",
    "\n",
    "print(\"int:\",x)\n",
    "print(\"float:\",y)\n",
    "print(\"boolean\",z)"
   ]
  },
  {
   "cell_type": "code",
   "execution_count": 3,
   "metadata": {},
   "outputs": [
    {
     "name": "stdout",
     "output_type": "stream",
     "text": [
      "float: 41.2\n",
      "int: 41\n"
     ]
    }
   ],
   "source": [
    "#que-2\n",
    "#int_to_float\n",
    "\n",
    "a=float(input(\"Enter value in float:\"))\n",
    "b=int(a)\n",
    "\n",
    "print(\"float:\",a)\n",
    "print(\"int:\",b)"
   ]
  },
  {
   "cell_type": "code",
   "execution_count": 1,
   "metadata": {},
   "outputs": [
    {
     "name": "stdout",
     "output_type": "stream",
     "text": [
      "Boolean value: False\n",
      "Integer value: 0\n",
      "string value: False\n"
     ]
    }
   ],
   "source": [
    "#que-3\n",
    "#boolean value\n",
    "\n",
    "boolean=input(\"Enter boolean value (true / false):\")\n",
    "\n",
    "boolean=boolean.strip().capitalize() == \"True\"\n",
    "integer=int(boolean)\n",
    "string=str(boolean)\n",
    "\n",
    "print(\"Boolean value:\",boolean)\n",
    "print(\"Integer value:\",integer)\n",
    "print(\"string value:\",string)\n",
    "\n"
   ]
  },
  {
   "cell_type": "code",
   "execution_count": 9,
   "metadata": {},
   "outputs": [
    {
     "name": "stdout",
     "output_type": "stream",
     "text": [
      "<class 'int'> ('value :', 1) Id : 140703277712296\n",
      "<class 'str'> ('value :', 'hello') Id : 1388138765584\n",
      "<class 'float'> ('value :', 3.3) Id : 1388141582960\n",
      "<class 'complex'> ('value :', (3+5j)) Id : 1388148416528\n",
      "<class 'list'> ('value :', ['list', '1', 'two']) Id : 1388148867328\n",
      "<class 'dict'> ('value :', {'name': 'python', 'year': 1970}) Id : 1388148870976\n",
      "<class 'tuple'> ('value :', ('tuple', 'in', 'python')) Id : 1388148554112\n",
      "True\n"
     ]
    }
   ],
   "source": [
    "#que-4\n",
    "#value_datatype_id\n",
    "\n",
    "a=1\n",
    "b=\"hello\"\n",
    "c=3.3\n",
    "d=3+5j\n",
    "e=[\"list\",\"1\",\"two\"]\n",
    "f={\n",
    "  \"name\":\"python\",\n",
    "  \"year\":1970\n",
    "}\n",
    "g=(\"tuple\",\"in\",\"python\")\n",
    "\n",
    "print(type(a),(\"value :\",a),\"Id :\",id(a))\n",
    "print(type(b),(\"value :\",b),\"Id :\",id(b))\n",
    "print(type(c),(\"value :\",c),\"Id :\",id(c))\n",
    "print(type(d),(\"value :\",d),\"Id :\",id(d))\n",
    "print(type(e),(\"value :\",e),\"Id :\",id(e))\n",
    "print(type(f),(\"value :\",f),\"Id :\",id(f))\n",
    "print(type(g),(\"value :\",g),\"Id :\",id(g))\n",
    "print(10>9)"
   ]
  },
  {
   "cell_type": "code",
   "execution_count": 4,
   "metadata": {},
   "outputs": [
    {
     "name": "stdout",
     "output_type": "stream",
     "text": [
      "X id: 140736144540712\n",
      "Y id: 140736144540712\n",
      "boolean: True\n",
      "is: True\n",
      "is not: False \n",
      "\n",
      "A id: 140736144540712\n",
      "B id: 2359401005360\n",
      "boolean: True\n",
      "is: False\n",
      "is not: True\n"
     ]
    }
   ],
   "source": [
    "#que-5\n",
    "#id comperesion\n",
    "\n",
    "#same value\n",
    "x=5\n",
    "y=5\n",
    "\n",
    "print(\"X id:\",id(x))\n",
    "print(\"Y id:\",id(y))\n",
    "\n",
    "print(\"boolean:\",x==y)\n",
    "print(\"is:\",x is y)\n",
    "print(\"is not:\",x is not y,\"\\n\")\n",
    "\n",
    "#diffrent value\n",
    "a=5\n",
    "b=5.0\n",
    "\n",
    "print(\"A id:\",id(a))\n",
    "print(\"B id:\",id(b))\n",
    "\n",
    "print(\"boolean:\",a==b)\n",
    "print(\"is:\",a is b)\n",
    "print(\"is not:\",a is not b)"
   ]
  },
  {
   "cell_type": "code",
   "execution_count": null,
   "metadata": {},
   "outputs": [],
   "source": []
  }
 ],
 "metadata": {
  "kernelspec": {
   "display_name": "MIT_PYTHON",
   "language": "python",
   "name": "python3"
  },
  "language_info": {
   "codemirror_mode": {
    "name": "ipython",
    "version": 3
   },
   "file_extension": ".py",
   "mimetype": "text/x-python",
   "name": "python",
   "nbconvert_exporter": "python",
   "pygments_lexer": "ipython3",
   "version": "3.13.1"
  }
 },
 "nbformat": 4,
 "nbformat_minor": 2
}
