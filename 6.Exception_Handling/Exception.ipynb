{
 "cells": [
  {
   "cell_type": "code",
   "execution_count": null,
   "metadata": {},
   "outputs": [],
   "source": [
    "# BaseException\n",
    "#  ├── BaseExceptionGroup\n",
    "#  ├── GeneratorExit\n",
    "#  ├── KeyboardInterrupt\n",
    "#  ├── SystemExit\n",
    "#  └── Exception\n",
    "#       ├── ArithmeticError\n",
    "#       │    ├── FloatingPointError\n",
    "#       │    ├── OverflowError\n",
    "#       │    └── ZeroDivisionError\n",
    "#       ├── AssertionError\n",
    "#       ├── AttributeError\n",
    "#       ├── BufferError\n",
    "#       ├── EOFError\n",
    "#       ├── ExceptionGroup [BaseExceptionGroup]\n",
    "#       ├── ImportError\n",
    "#       │    └── ModuleNotFoundError\n",
    "#       ├── LookupError\n",
    "#       │    ├── IndexError\n",
    "#       │    └── KeyError\n",
    "#       ├── MemoryError\n",
    "#       ├── NameError\n",
    "#       │    └── UnboundLocalError\n",
    "#       ├── OSError\n",
    "#       │    ├── BlockingIOError\n",
    "#       │    ├── ChildProcessError\n",
    "#       │    ├── ConnectionError\n",
    "#       │    │    ├── BrokenPipeError\n",
    "#       │    │    ├── ConnectionAbortedError\n",
    "#       │    │    ├── ConnectionRefusedError\n",
    "#       │    │    └── ConnectionResetError\n",
    "#       │    ├── FileExistsError\n",
    "#       │    ├── FileNotFoundError\n",
    "#       │    ├── InterruptedError\n",
    "#       │    ├── IsADirectoryError\n",
    "#       │    ├── NotADirectoryError\n",
    "#       │    ├── PermissionError\n",
    "#       │    ├── ProcessLookupError\n",
    "#       │    └── TimeoutError\n",
    "#       ├── ReferenceError\n",
    "#       ├── RuntimeError\n",
    "#       │    ├── NotImplementedError\n",
    "#       │    └── RecursionError\n",
    "#       ├── StopAsyncIteration\n",
    "#       ├── StopIteration\n",
    "#       ├── SyntaxError\n",
    "#       │    └── IndentationError\n",
    "#       │         └── TabError\n",
    "#       ├── SystemError\n",
    "#       ├── TypeError\n",
    "#       ├── ValueError\n",
    "#       │    └── UnicodeError\n",
    "#       │         ├── UnicodeDecodeError\n",
    "#       │         ├── UnicodeEncodeError\n",
    "#       │         └── UnicodeTranslateError\n",
    "#       └── Warning\n",
    "#            ├── BytesWarning\n",
    "#            ├── DeprecationWarning\n",
    "#            ├── EncodingWarning\n",
    "#            ├── FutureWarning\n",
    "#            ├── ImportWarning\n",
    "#            ├── PendingDeprecationWarning\n",
    "#            ├── ResourceWarning\n",
    "#            ├── RuntimeWarning\n",
    "#            ├── SyntaxWarning\n",
    "#            ├── UnicodeWarning\n",
    "#            └── UserWarning"
   ]
  },
  {
   "cell_type": "code",
   "execution_count": 3,
   "metadata": {},
   "outputs": [
    {
     "ename": "ZeroDivisionError",
     "evalue": "division by zero",
     "output_type": "error",
     "traceback": [
      "\u001b[1;31m---------------------------------------------------------------------------\u001b[0m",
      "\u001b[1;31mZeroDivisionError\u001b[0m                         Traceback (most recent call last)",
      "Cell \u001b[1;32mIn[3], line 9\u001b[0m\n\u001b[0;32m      5\u001b[0m a \u001b[38;5;241m=\u001b[39m \u001b[38;5;241m5\u001b[39m\n\u001b[0;32m      7\u001b[0m b \u001b[38;5;241m=\u001b[39m \u001b[38;5;241m0\u001b[39m\n\u001b[1;32m----> 9\u001b[0m c  \u001b[38;5;241m=\u001b[39m \u001b[43ma\u001b[49m\u001b[43m \u001b[49m\u001b[38;5;241;43m/\u001b[39;49m\u001b[43m \u001b[49m\u001b[43mb\u001b[49m\n\u001b[0;32m     11\u001b[0m \u001b[38;5;28mprint\u001b[39m(c)\n",
      "\u001b[1;31mZeroDivisionError\u001b[0m: division by zero"
     ]
    }
   ],
   "source": [
    "# try … except\n",
    "\n",
    "# ZeroDivisionError \n",
    "\n",
    "a = 5\n",
    "\n",
    "b = 0\n",
    "\n",
    "c  = a / b\n",
    "\n",
    "print(c)"
   ]
  },
  {
   "cell_type": "code",
   "execution_count": 4,
   "metadata": {},
   "outputs": [
    {
     "name": "stdout",
     "output_type": "stream",
     "text": [
      "Not Possible\n"
     ]
    }
   ],
   "source": [
    "try:\n",
    "    c = a / b\n",
    "    print(c)\n",
    "except ZeroDivisionError:\n",
    "    print(\"Not Possible\")"
   ]
  },
  {
   "cell_type": "code",
   "execution_count": 5,
   "metadata": {},
   "outputs": [
    {
     "ename": "ZeroDivisionError",
     "evalue": "division by zero",
     "output_type": "error",
     "traceback": [
      "\u001b[1;31m---------------------------------------------------------------------------\u001b[0m",
      "\u001b[1;31mZeroDivisionError\u001b[0m                         Traceback (most recent call last)",
      "Cell \u001b[1;32mIn[5], line 1\u001b[0m\n\u001b[1;32m----> 1\u001b[0m c \u001b[38;5;241m=\u001b[39m \u001b[38;5;241;43m5\u001b[39;49m\u001b[43m \u001b[49m\u001b[38;5;241;43m/\u001b[39;49m\u001b[43m \u001b[49m\u001b[38;5;241;43m0\u001b[39;49m\n\u001b[0;32m      2\u001b[0m \u001b[38;5;28mprint\u001b[39m(c)\n",
      "\u001b[1;31mZeroDivisionError\u001b[0m: division by zero"
     ]
    }
   ],
   "source": [
    "c = 5 / 0\n",
    "print(c)\n"
   ]
  },
  {
   "cell_type": "code",
   "execution_count": 1,
   "metadata": {},
   "outputs": [
    {
     "name": "stdout",
     "output_type": "stream",
     "text": [
      "5.0\n",
      "Hello\n"
     ]
    }
   ],
   "source": [
    "try:\n",
    "    c = 10 / 2\n",
    "    print(c)\n",
    "    print(\"Hello\")\n",
    "except ZeroDivisionError:\n",
    "    print(\"Not Possible\")"
   ]
  },
  {
   "cell_type": "code",
   "execution_count": 2,
   "metadata": {},
   "outputs": [
    {
     "name": "stdout",
     "output_type": "stream",
     "text": [
      "object is not defined\n"
     ]
    }
   ],
   "source": [
    "try:\n",
    "    # X =  j + 0\n",
    "    # c = 5/ 0\n",
    "    print(X)\n",
    "except ZeroDivisionError:\n",
    "    print(\"Not Possible\")\n",
    "except NameError:\n",
    "    print(\"object is not defined\")"
   ]
  },
  {
   "cell_type": "code",
   "execution_count": 7,
   "metadata": {},
   "outputs": [
    {
     "name": "stdout",
     "output_type": "stream",
     "text": [
      "Not Possible -----> division by zero\n"
     ]
    }
   ],
   "source": [
    "try:\n",
    "    # ans = 5 + '8'\n",
    "    # X = Y + Z\n",
    "    c = a / b\n",
    "    print(c)\n",
    "except ZeroDivisionError as e:\n",
    "    print(\"Not Possible ----->\" , e)\n",
    "except NameError:\n",
    "    print(\"object is not defined\")\n",
    "except TypeError as e:\n",
    "    print(\" This is type erro ----> \" , e)"
   ]
  },
  {
   "cell_type": "code",
   "execution_count": 2,
   "metadata": {},
   "outputs": [
    {
     "name": "stdout",
     "output_type": "stream",
     "text": [
      "Not Possible ---->  division by zero\n"
     ]
    }
   ],
   "source": [
    "try:\n",
    "    # ans = 5 + '8'\n",
    "    c = 5 / 0\n",
    "    # print(c)\n",
    "    print(\"Hello\")\n",
    "    # print(ans)\n",
    "except Exception as e:\n",
    "    print(\"Not Possible ----> \" , e) "
   ]
  },
  {
   "cell_type": "code",
   "execution_count": 4,
   "metadata": {},
   "outputs": [
    {
     "name": "stdout",
     "output_type": "stream",
     "text": [
      "Not Possible ----> \n"
     ]
    }
   ],
   "source": [
    "try:\n",
    "    # ans = 5 + '8'\n",
    "    c = 5 / 0\n",
    "    print(c)\n",
    "    print(\"Hello\")\n",
    "except:\n",
    "    print(\"Not Possible ----> \" ) "
   ]
  },
  {
   "cell_type": "code",
   "execution_count": 4,
   "metadata": {},
   "outputs": [
    {
     "name": "stdout",
     "output_type": "stream",
     "text": [
      "Not Possible ---->\n"
     ]
    }
   ],
   "source": [
    "try:\n",
    "    # ans = 5 + '8'\n",
    "    c = 10 / 0\n",
    "    print(c)\n",
    "    # print(\"Hello\")\n",
    "except:\n",
    "    print(\"Not Possible ---->\")\n",
    "else:\n",
    "    print(\"Success\") "
   ]
  },
  {
   "cell_type": "code",
   "execution_count": 7,
   "metadata": {},
   "outputs": [
    {
     "name": "stdout",
     "output_type": "stream",
     "text": [
      "5.0\n",
      "Hello\n",
      "Success\n",
      "Alway Execute\n"
     ]
    }
   ],
   "source": [
    "try:\n",
    "    # ans = 5 + '8'\n",
    "    c = 10 / 2\n",
    "    print(c)\n",
    "    print(\"Hello\")\n",
    "except:\n",
    "    print(\"Not Possible ----> \" )\n",
    "else:\n",
    "    print(\"Success\") \n",
    "finally:\n",
    "    # resources  release  e.g 1. database  2.file handling \n",
    "    print(\"Alway Execute\")\n",
    "\n"
   ]
  },
  {
   "cell_type": "code",
   "execution_count": 17,
   "metadata": {},
   "outputs": [
    {
     "name": "stdout",
     "output_type": "stream",
     "text": [
      "other Exception  name 'Y' is not defined\n"
     ]
    }
   ],
   "source": [
    "# General Exception\n",
    "\n",
    "try:\n",
    "    # c = 5 / 0\n",
    "    X = Y + Z\n",
    "    # ans = 5 + '8'\n",
    "    print(X)\n",
    "# except ZeroDivisionError:\n",
    "#     print(\"Not Possible\")\n",
    "# except NameError:\n",
    "#     print(\"object is not defined\")\n",
    "# except TypeError as e:\n",
    "#     print(\" This is type erro ----> \" , e)\n",
    "except Exception as e: # General Exception block\n",
    "    print(\"other Exception \" , e)\n",
    " "
   ]
  },
  {
   "cell_type": "code",
   "execution_count": 1,
   "metadata": {},
   "outputs": [
    {
     "name": "stdout",
     "output_type": "stream",
     "text": [
      "Your  num is  121\n"
     ]
    }
   ],
   "source": [
    "# Custom exception and raise keyword\n",
    "\n",
    "# class Myexception(Exception):\n",
    "#     pass\n",
    "\n",
    "\n",
    "a = int(input(\"Enter your num : \"))\n",
    "\n",
    "if a < 50:\n",
    "    raise ZeroDivisionError(\"Not Possible\")\n",
    "else:\n",
    "    print(\"Your  num is \" , a)\n"
   ]
  },
  {
   "cell_type": "code",
   "execution_count": 8,
   "metadata": {},
   "outputs": [
    {
     "name": "stdout",
     "output_type": "stream",
     "text": [
      "Hello Bhai this is Myexception\n"
     ]
    },
    {
     "ename": "Myexception",
     "evalue": "Hello Bhai this is Myexception",
     "output_type": "error",
     "traceback": [
      "\u001b[1;31m---------------------------------------------------------------------------\u001b[0m",
      "\u001b[1;31mMyexception\u001b[0m                               Traceback (most recent call last)",
      "Cell \u001b[1;32mIn[8], line 9\u001b[0m\n\u001b[0;32m      6\u001b[0m a \u001b[38;5;241m=\u001b[39m \u001b[38;5;28mint\u001b[39m(\u001b[38;5;28minput\u001b[39m(\u001b[38;5;124m\"\u001b[39m\u001b[38;5;124mEnter your num : \u001b[39m\u001b[38;5;124m\"\u001b[39m))\n\u001b[0;32m      8\u001b[0m \u001b[38;5;28;01mif\u001b[39;00m a \u001b[38;5;241m<\u001b[39m \u001b[38;5;241m50\u001b[39m:\n\u001b[1;32m----> 9\u001b[0m     \u001b[38;5;28;01mraise\u001b[39;00m Myexception(\u001b[38;5;124m\"\u001b[39m\u001b[38;5;124mHello Bhai this is Myexception\u001b[39m\u001b[38;5;124m\"\u001b[39m)\n\u001b[0;32m     10\u001b[0m \u001b[38;5;28;01melse\u001b[39;00m:\n\u001b[0;32m     11\u001b[0m     \u001b[38;5;28mprint\u001b[39m(\u001b[38;5;124m\"\u001b[39m\u001b[38;5;124mYour  num is \u001b[39m\u001b[38;5;124m\"\u001b[39m , a)\n",
      "\u001b[1;31mMyexception\u001b[0m: Hello Bhai this is Myexception"
     ]
    }
   ],
   "source": [
    "\n",
    "class Myexception(Exception):\n",
    "    def __init__(self,n):\n",
    "        print(n) \n",
    "\n",
    "\n",
    "a = int(input(\"Enter your num : \"))\n",
    "\n",
    "if a < 50:\n",
    "    raise Myexception(\"Hello Bhai this is Myexception\")\n",
    "else:\n",
    "    print(\"Your  num is \" , a)"
   ]
  },
  {
   "cell_type": "code",
   "execution_count": null,
   "metadata": {},
   "outputs": [
    {
     "ename": "Myexception",
     "evalue": "Hello Bhai this is Myexception",
     "output_type": "error",
     "traceback": [
      "\u001b[1;31m---------------------------------------------------------------------------\u001b[0m",
      "\u001b[1;31mMyexception\u001b[0m                               Traceback (most recent call last)",
      "Cell \u001b[1;32mIn[1], line 17\u001b[0m\n\u001b[0;32m     14\u001b[0m a \u001b[38;5;241m=\u001b[39m \u001b[38;5;28mint\u001b[39m(\u001b[38;5;28minput\u001b[39m(\u001b[38;5;124m\"\u001b[39m\u001b[38;5;124mEnter your num : \u001b[39m\u001b[38;5;124m\"\u001b[39m))\n\u001b[0;32m     16\u001b[0m \u001b[38;5;28;01mif\u001b[39;00m a \u001b[38;5;241m<\u001b[39m \u001b[38;5;241m50\u001b[39m:\n\u001b[1;32m---> 17\u001b[0m     \u001b[38;5;28;01mraise\u001b[39;00m Myexception(\u001b[38;5;124m\"\u001b[39m\u001b[38;5;124mHello Bhai this is Myexception\u001b[39m\u001b[38;5;124m\"\u001b[39m)\n\u001b[0;32m     18\u001b[0m \u001b[38;5;28;01melse\u001b[39;00m:\n\u001b[0;32m     19\u001b[0m     \u001b[38;5;28mprint\u001b[39m(\u001b[38;5;124m\"\u001b[39m\u001b[38;5;124mYour  num is \u001b[39m\u001b[38;5;124m\"\u001b[39m , a)\n",
      "\u001b[1;31mMyexception\u001b[0m: Hello Bhai this is Myexception"
     ]
    }
   ],
   "source": [
    "\n",
    "class Myexception(Exception):\n",
    "       \n",
    "    def __init__(self, message):\n",
    "        self.message = message\n",
    "\n",
    "    def display_message(self):\n",
    "        print(f\"Custom Exception: {self.message}\")\n",
    "       \n",
    "\n",
    "a = int(input(\"Enter your num : \"))\n",
    "\n",
    "if a < 50:\n",
    "    raise Myexception(\"Hello Bhai this is Myexception\")\n",
    "else:\n",
    "    print(\"Your  num is \" , a)\n"
   ]
  },
  {
   "cell_type": "code",
   "execution_count": 27,
   "metadata": {},
   "outputs": [
    {
     "name": "stdout",
     "output_type": "stream",
     "text": [
      "Custom Exception: Hello Bhai, this is MyException\n"
     ]
    }
   ],
   "source": [
    "class MyException(Exception):\n",
    "    def __init__(self, message):\n",
    "        self.message = message\n",
    "\n",
    "    def display_message(self):\n",
    "        print(f\"Custom Exception: {self.message}\")\n",
    "\n",
    "a = int(input(\"Enter your num: \"))\n",
    "\n",
    "try:\n",
    "    if a < 50:\n",
    "        raise MyException(\"Hello Bhai, this is MyException\")\n",
    "    else:\n",
    "        print(\"Your num is\", a)\n",
    "except MyException as e:\n",
    "    e.display_message()\n"
   ]
  },
  {
   "cell_type": "code",
   "execution_count": 2,
   "metadata": {},
   "outputs": [
    {
     "ename": "AssertionError",
     "evalue": "Age must be greater than 18",
     "output_type": "error",
     "traceback": [
      "\u001b[1;31m---------------------------------------------------------------------------\u001b[0m",
      "\u001b[1;31mAssertionError\u001b[0m                            Traceback (most recent call last)",
      "Cell \u001b[1;32mIn[2], line 5\u001b[0m\n\u001b[0;32m      1\u001b[0m \u001b[38;5;66;03m#  assert keyword\u001b[39;00m\n\u001b[0;32m      3\u001b[0m a \u001b[38;5;241m=\u001b[39m \u001b[38;5;28mint\u001b[39m(\u001b[38;5;28minput\u001b[39m(\u001b[38;5;124m\"\u001b[39m\u001b[38;5;124mEnter your num : \u001b[39m\u001b[38;5;124m\"\u001b[39m))\n\u001b[1;32m----> 5\u001b[0m \u001b[38;5;28;01massert\u001b[39;00m  a \u001b[38;5;241m>\u001b[39m\u001b[38;5;241m18\u001b[39m , \u001b[38;5;124m\"\u001b[39m\u001b[38;5;124mAge must be greater than 18\u001b[39m\u001b[38;5;124m\"\u001b[39m\n\u001b[0;32m      7\u001b[0m \u001b[38;5;28mprint\u001b[39m(\u001b[38;5;124m\"\u001b[39m\u001b[38;5;124myou can vote\u001b[39m\u001b[38;5;124m\"\u001b[39m)\n",
      "\u001b[1;31mAssertionError\u001b[0m: Age must be greater than 18"
     ]
    }
   ],
   "source": [
    "#  assert keyword\n",
    "\n",
    "a = int(input(\"Enter your num : \"))\n",
    "\n",
    "assert  a >18 , \"Age must be greater than 18\"\n",
    "\n",
    "print(\"you can vote\")\n"
   ]
  },
  {
   "cell_type": "code",
   "execution_count": 23,
   "metadata": {},
   "outputs": [
    {
     "ename": "ValueError",
     "evalue": "invalid literal for int() with base 10: 'name'",
     "output_type": "error",
     "traceback": [
      "\u001b[1;31m---------------------------------------------------------------------------\u001b[0m",
      "\u001b[1;31mValueError\u001b[0m                                Traceback (most recent call last)",
      "Cell \u001b[1;32mIn[23], line 1\u001b[0m\n\u001b[1;32m----> 1\u001b[0m a \u001b[38;5;241m=\u001b[39m \u001b[38;5;28;43mint\u001b[39;49m\u001b[43m(\u001b[49m\u001b[38;5;28;43minput\u001b[39;49m\u001b[43m(\u001b[49m\u001b[38;5;124;43m\"\u001b[39;49m\u001b[38;5;124;43mEnter your num : \u001b[39;49m\u001b[38;5;124;43m\"\u001b[39;49m\u001b[43m)\u001b[49m\u001b[43m)\u001b[49m\n\u001b[0;32m      3\u001b[0m \u001b[38;5;28;01mtry\u001b[39;00m:\n\u001b[0;32m      4\u001b[0m     \u001b[38;5;28;01massert\u001b[39;00m  a \u001b[38;5;241m>\u001b[39m\u001b[38;5;241m18\u001b[39m , \u001b[38;5;124m\"\u001b[39m\u001b[38;5;124mAge must be greater than 18\u001b[39m\u001b[38;5;124m\"\u001b[39m\n",
      "\u001b[1;31mValueError\u001b[0m: invalid literal for int() with base 10: 'name'"
     ]
    }
   ],
   "source": [
    "a = int(input(\"Enter your num : \"))\n",
    "\n",
    "try:\n",
    "    assert  a >18 , \"Age must be greater than 18\"\n",
    "except Exception as e:\n",
    "    print(e)\n",
    "else:\n",
    "    print(\"you can vote\")\n",
    "finally:\n",
    "    # resources  release  e.g 1. database  2.file handling \n",
    "    print(\"Alway Execute\")"
   ]
  },
  {
   "cell_type": "code",
   "execution_count": null,
   "metadata": {},
   "outputs": [],
   "source": []
  }
 ],
 "metadata": {
  "kernelspec": {
   "display_name": "MIT_PYTHON",
   "language": "python",
   "name": "python3"
  },
  "language_info": {
   "codemirror_mode": {
    "name": "ipython",
    "version": 3
   },
   "file_extension": ".py",
   "mimetype": "text/x-python",
   "name": "python",
   "nbconvert_exporter": "python",
   "pygments_lexer": "ipython3",
   "version": "3.13.1"
  }
 },
 "nbformat": 4,
 "nbformat_minor": 2
}
