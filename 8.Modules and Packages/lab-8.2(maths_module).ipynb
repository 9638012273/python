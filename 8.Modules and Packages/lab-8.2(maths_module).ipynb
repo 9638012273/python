{
 "cells": [
  {
   "cell_type": "code",
   "execution_count": null,
   "metadata": {},
   "outputs": [],
   "source": [
    "# labwork-8.2 #\n",
    "#=============#\n",
    "\n",
    "#Question bank link\n",
    "\n",
    "#https://docs.google.com/document/d/1YgIhe4OS1CZy6RHWQPDxTi3vk25qEWUb2Eti3BUaLRE/edit?tab=t.0"
   ]
  },
  {
   "cell_type": "code",
   "execution_count": 1,
   "metadata": {},
   "outputs": [
    {
     "name": "stdout",
     "output_type": "stream",
     "text": [
      "Square root: 5.0\n",
      "fectorial: 120\n",
      "power: 32.0\n"
     ]
    }
   ],
   "source": [
    "# Que-1\n",
    "# square root,fectorial,power\n",
    "\n",
    "import math\n",
    "\n",
    "print(\"Square root:\",math.sqrt(25))\n",
    "print(\"fectorial:\",math.factorial(5))\n",
    "print(\"power:\",math.pow(2,5))"
   ]
  },
  {
   "cell_type": "code",
   "execution_count": 10,
   "metadata": {},
   "outputs": [
    {
     "name": "stdout",
     "output_type": "stream",
     "text": [
      "area of circle 78.54\n",
      "logarithm of 10: 2.30\n"
     ]
    }
   ],
   "source": [
    "# Que-2\n",
    "# area of circle and logarithm\n",
    "\n",
    "import math\n",
    "\n",
    "redious=float(input(\"Enter redious of circle:\"))\n",
    "area=math.pi*(redious**2)\n",
    "\n",
    "print(\"area of circle\",\"%.2f\"%area)\n",
    "\n",
    "natural_log=math.log(10)\n",
    "print(\"logarithm of 10:\",\"%.2f\"%natural_log)\n",
    "\n"
   ]
  },
  {
   "cell_type": "code",
   "execution_count": 11,
   "metadata": {},
   "outputs": [
    {
     "name": "stdout",
     "output_type": "stream",
     "text": [
      "sin(30°): 0.49999999999999994\n",
      "cos(30°): 0.8660254037844387\n",
      "tan(30°): 0.5773502691896257\n"
     ]
    }
   ],
   "source": [
    "# Que-3\n",
    "# trigonometrics functions\n",
    "\n",
    "import math\n",
    "\n",
    "angle = math.radians(30)  # Convert 30 degrees to radians\n",
    "print(\"sin(30°):\", math.sin(angle))\n",
    "print(\"cos(30°):\", math.cos(angle))\n",
    "print(\"tan(30°):\", math.tan(angle))\n"
   ]
  },
  {
   "cell_type": "code",
   "execution_count": 14,
   "metadata": {},
   "outputs": [
    {
     "name": "stdout",
     "output_type": "stream",
     "text": [
      "ceil value: -4\n",
      "floor value: -5\n",
      "absolute value: 4.7\n"
     ]
    }
   ],
   "source": [
    "# Que-4\n",
    "# find ceail floor and absolute value of number\n",
    "\n",
    "import math\n",
    "\n",
    "number=float(input(\"Enter number:\"))\n",
    "\n",
    "print(\"ceil value:\",math.ceil(number))\n",
    "print(\"floor value:\",math.floor(number))\n",
    "print(\"absolute value:\",abs(number))\n",
    "\n"
   ]
  },
  {
   "cell_type": "code",
   "execution_count": 23,
   "metadata": {},
   "outputs": [
    {
     "name": "stdout",
     "output_type": "stream",
     "text": [
      "[13, 76, 64, 2, 18, 88, 73, 1, 4, 40]\n"
     ]
    }
   ],
   "source": [
    "# Que-5\n",
    "# rendom numbers between 1 to 100\n",
    "\n",
    "import random\n",
    "\n",
    "list=[]\n",
    "\n",
    "for num in range(10):\n",
    "    list.append(random.randrange(1,100))\n",
    "\n",
    "print(list)"
   ]
  },
  {
   "cell_type": "code",
   "execution_count": 44,
   "metadata": {},
   "outputs": [
    {
     "name": "stdout",
     "output_type": "stream",
     "text": [
      "Suffle list: [3, 8, 5, 1, 7, 2, 10, 9, 4, 6]\n",
      "dice rolling: 1\n"
     ]
    }
   ],
   "source": [
    "# Que-6\n",
    "# suffle list and rolling dice\n",
    "import random\n",
    "\n",
    "list=[1,2,3,4,5,6,7,8,9,10]\n",
    "random.shuffle(list)\n",
    "\n",
    "print(\"Suffle list:\",list)\n",
    "\n",
    "print(\"dice rolling:\",random.randint(1,6))\n"
   ]
  },
  {
   "cell_type": "code",
   "execution_count": 50,
   "metadata": {},
   "outputs": [
    {
     "name": "stdout",
     "output_type": "stream",
     "text": [
      "five\n"
     ]
    }
   ],
   "source": [
    "# Que-7\n",
    "# suffle list and rolling dice\n",
    "\n",
    "import random\n",
    "\n",
    "my_list=[\"one\",\"two\",\"three\",\"four\",\"five\"]\n",
    "\n",
    "print(random.choice(my_list))"
   ]
  },
  {
   "cell_type": "code",
   "execution_count": 53,
   "metadata": {},
   "outputs": [
    {
     "name": "stdout",
     "output_type": "stream",
     "text": [
      "0.78\n",
      "0.70\n",
      "0.81\n",
      "0.63\n",
      "0.23\n",
      "0.20\n",
      "0.85\n",
      "0.60\n",
      "0.79\n",
      "0.35\n"
     ]
    }
   ],
   "source": [
    "# Que-8\n",
    "# rendom floting point using random\n",
    "\n",
    "from random import random\n",
    "\n",
    "list=[]\n",
    "\n",
    "for i in range(10):\n",
    "    list.append(random())\n",
    "\n",
    "for i in list:\n",
    "    print(\"%.2f\"%i)"
   ]
  },
  {
   "cell_type": "code",
   "execution_count": null,
   "metadata": {},
   "outputs": [
    {
     "name": "stdout",
     "output_type": "stream",
     "text": [
      "Player 1 choise: Rock\n",
      "Player 2 choise: Scissor\n",
      "\n",
      " *** RESULT *** \n",
      "\n",
      "Player 1 wins...\n"
     ]
    }
   ],
   "source": [
    "# Que-9\n",
    "# rock paper secssoir\n",
    "\n",
    "import random\n",
    "import time\n",
    "\n",
    "list1=[\"Rock\",\"Paper\",\"Scissor\"]\n",
    "list2=[\"Rock\",\"Paper\",\"Scissor\"]\n",
    "\n",
    "time.sleep(0.8)\n",
    "hand_1=random.choice(list1)\n",
    "print(\"Player 1 choise:\",hand_1)\n",
    "\n",
    "time.sleep(0.8)\n",
    "hand_2=random.choice(list2)\n",
    "print(\"Player 2 choise:\",hand_2)\n",
    "\n",
    "time.sleep(0.8)\n",
    "print(\"\\n *** RESULT *** \\n\")\n",
    "\n",
    "time.sleep(0.8)\n",
    "if hand_1==hand_2:\n",
    "    print(\"it's a tie!\")\n",
    "\n",
    "elif ((hand_1==\"Rock\" and hand_2==\"Scissor\") or (hand_1==\"Scissor\" and hand_2==\"Paper\") or (hand_1== \"Paper\" and hand_2==\"Rock\")):\n",
    "    print(\"Player 1 wins...\")\n",
    "else:\n",
    "    print(\"Player 2 wins...\")\n",
    "\n"
   ]
  },
  {
   "cell_type": "code",
   "execution_count": 14,
   "metadata": {},
   "outputs": [
    {
     "name": "stdout",
     "output_type": "stream",
     "text": [
      "Simple uuid: 965e03c4-da10-11ef-95e3-e2205ced6175\n",
      "\n",
      " using name space \n",
      "\n",
      "uuid3:  3fb2ca19-cd7d-3ebd-982c-ce808682e3f6\n",
      "uuid5:  5e5856ba-c643-530c-8056-d192d060e3d1\n"
     ]
    }
   ],
   "source": [
    "# Que-10\n",
    "# generate uuid with namespace\n",
    "\n",
    "import uuid\n",
    "\n",
    "namelist=[\"Helli world Helli world\"]\n",
    "print(\"Simple uuid:\",uuid.uuid1())\n",
    "\n",
    "print(\"\\n using name space \\n\")\n",
    "\n",
    "for name in namelist:\n",
    "    print(\"uuid3: \",uuid.uuid3(uuid.NAMESPACE_DNS,name))\n",
    "    print(\"uuid5: \",uuid.uuid5(uuid.NAMESPACE_DNS,name))\n",
    "\n",
    "\n"
   ]
  },
  {
   "cell_type": "code",
   "execution_count": 18,
   "metadata": {},
   "outputs": [
    {
     "name": "stdout",
     "output_type": "stream",
     "text": [
      "c3de3b55-da11-11ef-b7dc-e2205ced6175:{'uuid': UUID('c3de3b55-da11-11ef-b7dc-e2205ced6175'), 'name': 'h'}\n",
      "c47df928-da11-11ef-a5fe-e2205ced6175:{'uuid': UUID('c47df928-da11-11ef-a5fe-e2205ced6175'), 'name': 'j'}\n"
     ]
    }
   ],
   "source": [
    "# Que-11\n",
    "# dictionary using uuid\n",
    "\n",
    "import uuid\n",
    "\n",
    "dictionary={}\n",
    "\n",
    "n=int(input(\"Enter how many students details enter you:\"))\n",
    "\n",
    "for i in range(n):\n",
    "    uid=uuid.uuid1()\n",
    "    name=input(f\"Enter name of student {i+1} :\")\n",
    "    dictionary[uid]={\n",
    "        \"uuid\":uid,\n",
    "        \"name\":name,\n",
    "    }\n",
    "\n",
    "for key,values in dictionary.items():\n",
    "    print(f\"{key}:{values}\")"
   ]
  },
  {
   "cell_type": "code",
   "execution_count": 29,
   "metadata": {},
   "outputs": [
    {
     "name": "stdout",
     "output_type": "stream",
     "text": [
      "uuid1:  80fa62cc-da12-11ef-9eb1-e2205ced6175\n",
      "uuid2:  80fa652f-da12-11ef-9f7d-e2205ced6175\n",
      "Uuid not matched (not equal)....\n"
     ]
    }
   ],
   "source": [
    "# Que-12\n",
    "# check uuid\n",
    "\n",
    "import uuid\n",
    "\n",
    "uid1=uuid.uuid1()\n",
    "uid2=uuid.uuid1()\n",
    "\n",
    "print(\"uuid1: \",uid1)\n",
    "print(\"uuid2: \",uid2)\n",
    "\n",
    "\n",
    "if uid1==uid2:\n",
    "    print(\"Uuid matched (Equl)....\")\n",
    "else:\n",
    "    print(\"Uuid not matched (not equal)....\")\n"
   ]
  },
  {
   "cell_type": "code",
   "execution_count": 30,
   "metadata": {},
   "outputs": [
    {
     "name": "stdout",
     "output_type": "stream",
     "text": [
      "f2df5cc0-da13-11ef-ab7c-e2205ced6175:{'uuid': UUID('f2df5cc0-da13-11ef-ab7c-e2205ced6175'), 'thing': 'd', 'price': 40}\n",
      "f3e70f17-da13-11ef-8ea1-e2205ced6175:{'uuid': UUID('f3e70f17-da13-11ef-8ea1-e2205ced6175'), 'thing': 'f', 'price': 60}\n"
     ]
    }
   ],
   "source": [
    "#que-13\n",
    "# ecommerce website \n",
    "\n",
    "# Que-11\n",
    "# dictionary using uuid\n",
    "\n",
    "import uuid\n",
    "import random\n",
    "\n",
    "dictionary={}\n",
    "list=[10,20,30,40,50,60,70,80,90,100]\n",
    "\n",
    "\n",
    "\n",
    "n=int(input(\"Enter how many things enter you:\"))\n",
    "\n",
    "for i in range(n):\n",
    "    uid=uuid.uuid1()\n",
    "    name=input(f\"Enter name of thing {i+1} :\")\n",
    "    price=random.choice(list)\n",
    "    \n",
    "    dictionary[uid]={\n",
    "        \"uuid\":uid,\n",
    "        \"thing\":name,\n",
    "        \"price\":price,\n",
    "    }\n",
    "\n",
    "for key,values in dictionary.items():\n",
    "    print(f\"{key}:{values}\")\n",
    "\n"
   ]
  },
  {
   "cell_type": "code",
   "execution_count": 7,
   "metadata": {},
   "outputs": [
    {
     "name": "stdout",
     "output_type": "stream",
     "text": [
      "6038885259259\n"
     ]
    }
   ],
   "source": [
    "isbn=[]\n",
    "import random\n",
    "\n",
    "def generate_random_number(length):\n",
    "    number = ''.join([str(random.randint(0, 9)) for _ in range(length)])\n",
    "    return number\n",
    "\n",
    "# Generating a random number with a length of 13\n",
    "random_number = generate_random_number(13)\n",
    "print(random_number)\n"
   ]
  },
  {
   "cell_type": "code",
   "execution_count": null,
   "metadata": {},
   "outputs": [],
   "source": []
  }
 ],
 "metadata": {
  "kernelspec": {
   "display_name": "MIT_PYTHON",
   "language": "python",
   "name": "python3"
  },
  "language_info": {
   "codemirror_mode": {
    "name": "ipython",
    "version": 3
   },
   "file_extension": ".py",
   "mimetype": "text/x-python",
   "name": "python",
   "nbconvert_exporter": "python",
   "pygments_lexer": "ipython3",
   "version": "3.13.1"
  }
 },
 "nbformat": 4,
 "nbformat_minor": 2
}
