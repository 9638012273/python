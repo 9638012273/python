{
 "cells": [
  {
   "cell_type": "code",
   "execution_count": null,
   "metadata": {},
   "outputs": [],
   "source": [
    "# labwork-8.1 #\n",
    "#=============#\n",
    "\n",
    "#Question bank link\n",
    "\n",
    "#https://docs.google.com/document/d/1RcJkLvLR6TuAAlMUL8F1PqucgexPQCcbaBUjxwaPMaY/edit?tab=t.0"
   ]
  },
  {
   "cell_type": "code",
   "execution_count": null,
   "metadata": {},
   "outputs": [],
   "source": [
    "# que-1\n",
    "# current date time\n",
    "\n",
    "from datetime import datetime\n",
    "\n",
    "current_date_time=datetime.now().strftime(\"Date: %Y/%m/%d || Time: %H:%M:%S\")\n",
    "\n",
    "print(current_date_time)"
   ]
  },
  {
   "cell_type": "code",
   "execution_count": null,
   "metadata": {},
   "outputs": [],
   "source": [
    "# que-2\n",
    "# current epoch time\n",
    "\n",
    "import time\n",
    "\n",
    "epoch_time=time.time()\n",
    "\n",
    "print(f\"Total epoch time in seconds:{epoch_time}\")\n"
   ]
  },
  {
   "cell_type": "code",
   "execution_count": null,
   "metadata": {},
   "outputs": [],
   "source": [
    "# que-3\n",
    "# month chenge and 12-hour and 24-hour time\n",
    "\n",
    "from datetime import datetime\n",
    "\n",
    "current=datetime.now().strftime(\"Date: %m/%d/%Y | Date: %d/%m/%Y| Time: %H:%M:%S\")\n",
    "\n",
    "print(current)\n"
   ]
  },
  {
   "cell_type": "code",
   "execution_count": null,
   "metadata": {},
   "outputs": [],
   "source": [
    "# que-4\n",
    "# display diffrent between two days\n",
    "\n",
    "from datetime import datetime\n",
    "\n",
    "\n",
    "str1=input(\"Enter your first date:(YYYY-MM-DD):\")\n",
    "date1=datetime.strptime(str1,\"%Y-%m-%d\")\n",
    "\n",
    "str2=input(\"Enter your first date:(YYYY-MM-DD):\")\n",
    "date2=datetime.strptime(str2,\"%Y-%m-%d\")\n",
    "\n",
    "final_solution=date1-date2\n",
    "\n",
    "print(final_solution)\n"
   ]
  },
  {
   "cell_type": "code",
   "execution_count": null,
   "metadata": {},
   "outputs": [],
   "source": [
    "# que-5\n",
    "# string to date \n",
    "\n",
    "from datetime import datetime\n",
    "\n",
    "string=input(\"Enter date in this formet (YYYY-MM-DD) :\")\n",
    "\n",
    "try: \n",
    "    date=datetime.strptime(string,\"%Y-%m-%d\")\n",
    "    print(f\"Date is :{date}\")\n",
    "\n",
    "except:\n",
    "    raise Exception(\"not is date .. please enter corret date...\")\n",
    "\n"
   ]
  },
  {
   "cell_type": "code",
   "execution_count": null,
   "metadata": {},
   "outputs": [],
   "source": [
    "# que-6\n",
    "# time modules\n",
    "\n",
    "from datetime import time\n",
    "\n",
    "c_time=time(hour=10,minute=35,second=54,microsecond=212115)\n",
    "hour=c_time.hour\n",
    "minute=c_time.minute\n",
    "second=c_time.second\n",
    "micro_s=c_time.microsecond\n",
    "\n",
    "print(f\"{hour}:{minute}:{second}.{micro_s}\")"
   ]
  },
  {
   "cell_type": "code",
   "execution_count": null,
   "metadata": {},
   "outputs": [],
   "source": [
    "# que-7\n",
    "# UTC time zone and local time zone\n",
    "\n",
    "from datetime import datetime\n",
    "\n",
    "from zoneinfo import ZoneInfo\n",
    "\n",
    "local=datetime.now()\n",
    "print(\"local:\",local.strftime(\"[%m/%d/%Y, %H:%M:%S]\"))\n",
    "\n",
    "utc=ZoneInfo('Asia/Dili')\n",
    "date_time_utc=datetime.now(utc)\n",
    "\n",
    "print(\"UTC:\",date_time_utc.strftime(\"[%m/%d/%Y, %H:%M:%S]\"))\n",
    "\n",
    "\n"
   ]
  },
  {
   "cell_type": "code",
   "execution_count": null,
   "metadata": {},
   "outputs": [],
   "source": [
    "# que-8\n",
    "# stop watch\n",
    "\n",
    "from datetime import datetime\n",
    "\n",
    "start=None\n",
    "end=None\n",
    "\n",
    "while True:\n",
    "    print(\"Enter your choise:\")\n",
    "\n",
    "    print(\"1. Start\")\n",
    "    print(\"2. Stop\")\n",
    "    print(\"3. Reset\")\n",
    "    print(\"4. Exit\\n\")\n",
    "    choise=int(input(\"Enter your choise:\"))\n",
    "\n",
    "    if choise==1:\n",
    "        start=datetime.now()\n",
    "        print(\"Start Time:\",start.strftime(\"[%m/%d/%Y, %H:%M:%S]\"),\"\\n\")\n",
    "\n",
    "    elif choise==2:\n",
    "        end=datetime.now()\n",
    "        print(\"End Time:\",end.strftime(\"[%m/%d/%Y, %H:%M:%S]\"),\"\\n\")\n",
    "\n",
    "        result=end-start\n",
    "        print(\"Diffrent Time:\",result,\"\\n\")\n",
    "\n",
    "    elif choise==3:\n",
    "        start=None\n",
    "        end=None\n",
    "        print(\"Reset stop watch:....\")\n",
    "    elif choise==4:\n",
    "        print(\"Exit from programm...\")\n",
    "        break\n",
    "\n",
    "\n",
    "\n"
   ]
  },
  {
   "cell_type": "code",
   "execution_count": null,
   "metadata": {},
   "outputs": [],
   "source": [
    "# que-9\n",
    "# stop watch\n",
    "\n",
    "total_seconds=int(input(\"Enter total seconds:\"))\n",
    "\n",
    "hour=int(total_seconds/3600)\n",
    "minute=int((total_seconds%3600)/60)\n",
    "second=int(total_seconds%60)\n",
    "\n",
    "print(f\"{hour} :{minute} :{second}\")"
   ]
  },
  {
   "cell_type": "code",
   "execution_count": null,
   "metadata": {},
   "outputs": [],
   "source": [
    "# que-10\n",
    "# leap year checking\n",
    "\n",
    "from datetime import datetime\n",
    "\n",
    "User_year=input(\"Enter year:\")\n",
    "\n",
    "year=(datetime.strptime(User_year,\"%Y\")).year\n",
    "\n",
    "if (year%4==0 and year%100!=0) or year%400==0:\n",
    "    print(f\"{year} is leap year...\")\n",
    "\n",
    "else:\n",
    "    print(f\"{year} is not leap year....\")\n"
   ]
  },
  {
   "cell_type": "code",
   "execution_count": null,
   "metadata": {},
   "outputs": [],
   "source": [
    "# que-11\n",
    "# date to day name\n",
    "\n",
    "from datetime import datetime\n",
    "\n",
    "User_date=input(\"Enter date(yyyy-mm-dd):\")\n",
    "\n",
    "current_year=datetime.strptime(User_date,\"%Y-%m-%d\")\n",
    "\n",
    "day=current_year.strftime(\"%A\")\n",
    "\n",
    "print(f\"{current_year.day}/{current_year.month}/{current_year.year} : {day}\")"
   ]
  },
  {
   "cell_type": "code",
   "execution_count": null,
   "metadata": {},
   "outputs": [],
   "source": [
    "# que-12\n",
    "# time.sleep\n",
    "import time\n",
    "\n",
    "for i in range(5):\n",
    "    time.sleep(0.5)\n",
    "    print(\"Hello\")\n",
    "    time.sleep(0.5)\n",
    "    print(\"Python...How are you?\")"
   ]
  },
  {
   "cell_type": "code",
   "execution_count": null,
   "metadata": {},
   "outputs": [],
   "source": []
  }
 ],
 "metadata": {
  "kernelspec": {
   "display_name": "MIT_PYTHON",
   "language": "python",
   "name": "python3"
  },
  "language_info": {
   "codemirror_mode": {
    "name": "ipython",
    "version": 3
   },
   "file_extension": ".py",
   "mimetype": "text/x-python",
   "name": "python",
   "nbconvert_exporter": "python",
   "pygments_lexer": "ipython3",
   "version": "3.13.1"
  }
 },
 "nbformat": 4,
 "nbformat_minor": 2
}
