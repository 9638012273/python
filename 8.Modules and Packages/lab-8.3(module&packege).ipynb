{
 "cells": [
  {
   "cell_type": "code",
   "execution_count": null,
   "metadata": {},
   "outputs": [],
   "source": [
    "# labwork-8.3 #\n",
    "#=============#\n",
    "\n",
    "#Question bank link\n",
    "\n",
    "#https://docs.google.com/document/d/1_WlfSzqOWA7FUHn1PY5lgbdGv31A9CHPEUZzEPCtEDI/edit?tab=t.0"
   ]
  }
 ],
 "metadata": {
  "kernelspec": {
   "display_name": "MIT_PYTHON",
   "language": "python",
   "name": "python3"
  },
  "language_info": {
   "name": "python",
   "version": "3.13.1"
  }
 },
 "nbformat": 4,
 "nbformat_minor": 2
}
