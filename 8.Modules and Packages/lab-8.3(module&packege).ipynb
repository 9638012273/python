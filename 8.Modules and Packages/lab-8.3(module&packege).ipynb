{
 "cells": [
  {
   "cell_type": "code",
   "execution_count": null,
   "metadata": {},
   "outputs": [],
   "source": [
    "# labwork-8.3 #\n",
    "#=============#\n",
    "\n",
    "#Question bank link\n",
    "\n",
    "#https://docs.google.com/document/d/1_WlfSzqOWA7FUHn1PY5lgbdGv31A9CHPEUZzEPCtEDI/edit?tab=t.0"
   ]
  },
  {
   "cell_type": "code",
   "execution_count": 3,
   "metadata": {},
   "outputs": [
    {
     "name": "stdout",
     "output_type": "stream",
     "text": [
      "sum :30\n",
      "substract :50\n",
      "Multiply :25\n",
      "Devision :5.0\n"
     ]
    }
   ],
   "source": [
    "#que-1\n",
    "# make module and peckege\n",
    "\n",
    "from My_packege import math_utilty as math\n",
    "\n",
    "math.add(10,20)\n",
    "math.substract(100,50)\n",
    "math.multiply(5,5)\n",
    "math.devision(25,5)\n",
    "\n"
   ]
  },
  {
   "cell_type": "code",
   "execution_count": 4,
   "metadata": {},
   "outputs": [
    {
     "name": "stdout",
     "output_type": "stream",
     "text": [
      "Square root :2401\n",
      "Sin value: 0.8939966636005579\n",
      "redians value: 1.5707963267948966\n"
     ]
    }
   ],
   "source": [
    "#que-2\n",
    "# rename and use find redians and sin value\n",
    "\n",
    "from My_packege import math_utilty as perform\n",
    "import math\n",
    "\n",
    "perform.sqrt(49)\n",
    "\n",
    "print(\"Sin value:\",math.sin(90))\n",
    "print(\"redians value:\",math.radians(90))\n"
   ]
  },
  {
   "cell_type": "code",
   "execution_count": 1,
   "metadata": {},
   "outputs": [
    {
     "name": "stdout",
     "output_type": "stream",
     "text": [
      "* Vowels:-\n",
      "{'e': 1, 'o': 2}\n"
     ]
    }
   ],
   "source": [
    "#que-3\n",
    "# find vowels from string\n",
    "\n",
    "from My_packege import string_utils\n",
    "\n",
    "string=\"hello world\"\n",
    "\n",
    "string_utils.find_vovels(string)\n",
    "\n"
   ]
  },
  {
   "cell_type": "code",
   "execution_count": 1,
   "metadata": {},
   "outputs": [
    {
     "name": "stdout",
     "output_type": "stream",
     "text": [
      "this script is imotred as module\n",
      "sum :15\n"
     ]
    }
   ],
   "source": [
    "#que-4\n",
    "# print if module call directly or not\n",
    "\n",
    "from My_packege import math_utilty\n",
    "\n",
    "math_utilty(5,10)"
   ]
  },
  {
   "cell_type": "code",
   "execution_count": 6,
   "metadata": {},
   "outputs": [
    {
     "name": "stdout",
     "output_type": "stream",
     "text": [
      "This script not run directly\n"
     ]
    }
   ],
   "source": [
    "#que-5\n",
    "# print if module call directly or not\n",
    "\n",
    "from My_packege import Helper\n",
    "\n",
    "Helper.run_directly()"
   ]
  },
  {
   "cell_type": "code",
   "execution_count": 2,
   "metadata": {},
   "outputs": [
    {
     "name": "stdout",
     "output_type": "stream",
     "text": [
      "Area of Circle With Redious 5.0 is: 78.53981633974483\n",
      "Circumference of Circle With Redious 5.0 is: 31.41592653589793\n",
      "\n",
      "\n",
      "\n",
      "Area of triangle with length 5.0 and width 10.0 : 50.0\n",
      "Perimeter of rectangle with length 5.0 and width 10.0 : 30.0\n"
     ]
    }
   ],
   "source": [
    "#que-6\n",
    "# find area of circle and triangle\n",
    "\n",
    "from My_packege import circle\n",
    "import time\n",
    "\n",
    "redius=float(input(\"Enter Redious for Circle:\"))\n",
    "time.sleep(0.8)\n",
    "\n",
    "circle.area(redius)\n",
    "time.sleep(0.8)\n",
    "\n",
    "circle.Circumference(redius)\n",
    "time.sleep(0.8)\n",
    "\n",
    "print(\"\\n\")\n",
    "from My_packege import rectangle\n",
    "length=float(input(\"Enter length for triangle:\"))\n",
    "\n",
    "width=float(input(\"Enter width for triangle:\"))\n",
    "time.sleep(0.8)\n",
    "\n",
    "rectangle.area(length,width)\n",
    "time.sleep(0.8)\n",
    "rectangle.perimeter(length,width)\n",
    "\n"
   ]
  },
  {
   "cell_type": "code",
   "execution_count": 7,
   "metadata": {},
   "outputs": [
    {
     "ename": "UnsupportedOperation",
     "evalue": "not readable",
     "output_type": "error",
     "traceback": [
      "\u001b[1;31m---------------------------------------------------------------------------\u001b[0m",
      "\u001b[1;31mUnsupportedOperation\u001b[0m                      Traceback (most recent call last)",
      "Cell \u001b[1;32mIn[7], line 13\u001b[0m\n\u001b[0;32m     10\u001b[0m string\u001b[38;5;241m=\u001b[39m\u001b[38;5;28minput\u001b[39m(\u001b[38;5;124m\"\u001b[39m\u001b[38;5;124mEnter string to write in file:\u001b[39m\u001b[38;5;124m\"\u001b[39m)\n\u001b[0;32m     11\u001b[0m time\u001b[38;5;241m.\u001b[39msleep(\u001b[38;5;241m0.5\u001b[39m)\n\u001b[1;32m---> 13\u001b[0m \u001b[43mfile_utilities\u001b[49m\u001b[38;5;241;43m.\u001b[39;49m\u001b[43mfile\u001b[49m\u001b[43m(\u001b[49m\u001b[43mfilename\u001b[49m\u001b[43m,\u001b[49m\u001b[43mstring\u001b[49m\u001b[43m)\u001b[49m\n",
      "File \u001b[1;32mf:\\Github_Desktop\\PYTHON\\8.Modules and Packages\\Utilities_date_time\\file_utilities.py:5\u001b[0m, in \u001b[0;36mfile\u001b[1;34m(filename, string)\u001b[0m\n\u001b[0;32m      3\u001b[0m     file\u001b[38;5;241m.\u001b[39mwrite(string)\n\u001b[0;32m      4\u001b[0m \u001b[38;5;28;01mwith\u001b[39;00m \u001b[38;5;28mopen\u001b[39m(filename,\u001b[38;5;124m\"\u001b[39m\u001b[38;5;124mw\u001b[39m\u001b[38;5;124m\"\u001b[39m) \u001b[38;5;28;01mas\u001b[39;00m file:\n\u001b[1;32m----> 5\u001b[0m     \u001b[38;5;28mprint\u001b[39m(\u001b[43mfile\u001b[49m\u001b[38;5;241;43m.\u001b[39;49m\u001b[43mread\u001b[49m\u001b[43m(\u001b[49m\u001b[43m)\u001b[49m)\n",
      "\u001b[1;31mUnsupportedOperation\u001b[0m: not readable"
     ]
    }
   ],
   "source": [
    "#que-7\n",
    "# Error solve \n",
    "\n",
    "from Utilities_date_time import file_utilities\n",
    "import time\n",
    "\n",
    "filename=str(input(\"Enter file name:\"))\n",
    "time.sleep(0.5)\n",
    "\n",
    "string=input(\"Enter string to write in file:\")\n",
    "time.sleep(0.5)\n",
    "\n",
    "file_utilities.file(filename,string)\n"
   ]
  },
  {
   "cell_type": "code",
   "execution_count": 11,
   "metadata": {},
   "outputs": [
    {
     "name": "stdout",
     "output_type": "stream",
     "text": [
      "Diffrent is: -32 days, 0:00:00\n"
     ]
    }
   ],
   "source": [
    "#  diffrent betwwens two date\n",
    "from Utilities_date_time import date_utils\n",
    "\n",
    "str1=input(\"Enter your first date:(YYYY-MM-DD):\")\n",
    "time.sleep(0.5)\n",
    "str2=input(\"Enter your first date:(YYYY-MM-DD):\")\n",
    "time.sleep(0.5)\n",
    "date_utils.date(str1,str2)\n"
   ]
  },
  {
   "cell_type": "code",
   "execution_count": 14,
   "metadata": {},
   "outputs": [
    {
     "name": "stdout",
     "output_type": "stream",
     "text": [
      "['__builtins__', '__cached__', '__doc__', '__file__', '__loader__', '__name__', '__package__', '__spec__', 'add', 'devision', 'multiply', 'sqrt', 'substract']\n",
      "['__builtins__', '__cached__', '__doc__', '__file__', '__loader__', '__name__', '__package__', '__spec__', 'date', 'datetime']\n",
      "['__builtins__', '__cached__', '__doc__', '__file__', '__loader__', '__name__', '__package__', '__spec__', 'file']\n"
     ]
    }
   ],
   "source": [
    "#que-8\n",
    "#dir function\n",
    "\n",
    "from My_packege import math_utilty\n",
    "\n",
    "print(dir(math_utilty))\n",
    "from Utilities_date_time import date_utils,file_utilities\n",
    "\n",
    "print(dir(date_utils))\n",
    "print(dir(file_utilities))\n"
   ]
  },
  {
   "cell_type": "code",
   "execution_count": null,
   "metadata": {},
   "outputs": [],
   "source": [
    "#que-9\n",
    "#dir function"
   ]
  }
 ],
 "metadata": {
  "kernelspec": {
   "display_name": "MIT_PYTHON",
   "language": "python",
   "name": "python3"
  },
  "language_info": {
   "codemirror_mode": {
    "name": "ipython",
    "version": 3
   },
   "file_extension": ".py",
   "mimetype": "text/x-python",
   "name": "python",
   "nbconvert_exporter": "python",
   "pygments_lexer": "ipython3",
   "version": "3.13.1"
  }
 },
 "nbformat": 4,
 "nbformat_minor": 2
}
