{
 "cells": [
  {
   "cell_type": "code",
   "execution_count": 8,
   "metadata": {},
   "outputs": [
    {
     "name": "stdout",
     "output_type": "stream",
     "text": [
      "Hello UMARETIYA MIT!\n"
     ]
    }
   ],
   "source": [
    "# labwork-4.1 #\n",
    "#=============#\n",
    "\n",
    "#que-1\n",
    "#take user input and join them in list\n",
    "\n",
    "f_name=input(\"ENTER YOUR FIRST NAME:\")\n",
    "l_name=input(\"ENTER YOUR LAST NAME:\")\n",
    "\n",
    "\n",
    "print(f\"Hello {l_name.upper()} {f_name.upper()}!\")\n"
   ]
  },
  {
   "cell_type": "code",
   "execution_count": 1,
   "metadata": {},
   "outputs": [
    {
     "name": "stdout",
     "output_type": "stream",
     "text": [
      "The price of banana is 30 $ dollers\n",
      "\n",
      "AFTER REPLACE:\n",
      "The price of apple is 5.50 $ dollers\n"
     ]
    }
   ],
   "source": [
    "#que-2\n",
    "#replace function\n",
    "\n",
    "item=input(\"ENTER ITEM NAME:\")\n",
    "price=input(\"ENTER PRICE IN DOLLERS ($):\")\n",
    "\n",
    "print(f\"The price of {item} is {price} $ dollers\")\n",
    "\n",
    "r_item=(item.replace(item,\"apple\"))\n",
    "r_price=(price.replace(price,\"5.50\"))\n",
    "\n",
    "print(\"\\nAFTER REPLACE:\")\n",
    "print(f\"The price of {r_item} is {r_price} $ dollers\")"
   ]
  },
  {
   "cell_type": "code",
   "execution_count": 5,
   "metadata": {},
   "outputs": [
    {
     "name": "stdout",
     "output_type": "stream",
     "text": [
      "ORIGINAL: hello\n",
      "REVERCDED: olleh\n",
      "This string is not pelindrome\n"
     ]
    }
   ],
   "source": [
    "#que-3\n",
    "#string reverce and pelindrome checking\n",
    "\n",
    "string=input(\"Enter string for pelindrome checking:\")\n",
    "\n",
    "reverce_string=string[::-1]\n",
    "\n",
    "print(\"ORIGINAL:\",string)\n",
    "print(\"REVERCDED:\",reverce_string)\n",
    "\n",
    "\n",
    "if string==reverce_string:\n",
    "    print(\"This string is pelindrome\")\n",
    "\n",
    "else:\n",
    "    print(\"This string is not pelindrome\")\n"
   ]
  },
  {
   "cell_type": "code",
   "execution_count": 7,
   "metadata": {},
   "outputs": [
    {
     "name": "stdout",
     "output_type": "stream",
     "text": [
      "Uppercase: HELLO WORLD\n",
      "Lowercase: hello world\n",
      "Titlecase: Hello World\n"
     ]
    }
   ],
   "source": [
    "#que-4\n",
    "#string uppercase, lowercase, titlecase\n",
    "\n",
    "string=input(\"ENTER STRING:\")\n",
    "\n",
    "uppercase=string.upper()\n",
    "lowercase=string.lower()\n",
    "titlecase=string.title()\n",
    "\n",
    "print(\"Uppercase:\",uppercase)\n",
    "print(\"Lowercase:\",lowercase)\n",
    "print(\"Titlecase:\",titlecase)"
   ]
  },
  {
   "cell_type": "code",
   "execution_count": 17,
   "metadata": {},
   "outputs": [
    {
     "name": "stdout",
     "output_type": "stream",
     "text": [
      "[1, 2, 3, 4, 5, 6, 7, 8, 9, 10]\n"
     ]
    },
    {
     "data": {
      "text/plain": [
       "[1, 2, 3, 4, 5, 6, 7, 8, 9, 10, [11, 12]]"
      ]
     },
     "execution_count": 17,
     "metadata": {},
     "output_type": "execute_result"
    }
   ],
   "source": [
    "#que-5\n",
    "#list append the integers\n",
    "\n",
    "list=[1,2,3,4,5,6,7,8,9,10]\n",
    "\n",
    "print(list)\n",
    "\n",
    "list.append([11,12])\n",
    "list"
   ]
  },
  {
   "cell_type": "code",
   "execution_count": 19,
   "metadata": {},
   "outputs": [
    {
     "name": "stdout",
     "output_type": "stream",
     "text": [
      "Original_list: [10, 20, 30, 40, 50, 30, 60, 90, 80, 40]\n",
      "Small value: 10\n",
      "High value: 90\n"
     ]
    }
   ],
   "source": [
    "#que-6\n",
    "#take list from user and find highest and smallest value in list\n",
    "\n",
    "number_list=[]\n",
    "\n",
    "for i in range(10):\n",
    "    number_list.append(int(input(\"Enter the 10 integer valuse:\")))\n",
    "\n",
    "print(\"Original_list:\",number_list)\n",
    "\n",
    "small=min(number_list)\n",
    "high=max(number_list)\n",
    "\n",
    "print(\"Small value:\",small)\n",
    "print(\"High value:\",high)\n",
    "\n"
   ]
  },
  {
   "cell_type": "code",
   "execution_count": 45,
   "metadata": {},
   "outputs": [
    {
     "name": "stdout",
     "output_type": "stream",
     "text": [
      "Original value: (1, 2, 2, 3, 4, 4, 5)\n",
      "Unique value: {1, 2, 3, 4, 5}\n"
     ]
    }
   ],
   "source": [
    "#que-7\n",
    "#make tuple and print unique values\n",
    "\n",
    "tuple_value=(1,2,2,3,4,4,5)\n",
    "\n",
    "print(\"Original value:\",tuple_value)\n",
    "\n",
    "unique=set(tuple_value)\n",
    "print(\"Unique value:\",unique)\n",
    "\n"
   ]
  },
  {
   "cell_type": "code",
   "execution_count": 35,
   "metadata": {},
   "outputs": [
    {
     "name": "stdout",
     "output_type": "stream",
     "text": [
      "Original: [10, 20, 30, 40, 50]\n",
      "Updated: [10, 20, 30, 60, 50]\n"
     ]
    }
   ],
   "source": [
    "#que-8\n",
    "#modify list and print new list\n",
    "\n",
    "list=[10,20,30,40,50]\n",
    "\n",
    "print(\"Original:\",list)\n",
    "\n",
    "list[3]=60\n",
    "print(\"Updated:\",list)"
   ]
  },
  {
   "cell_type": "code",
   "execution_count": 39,
   "metadata": {},
   "outputs": [
    {
     "name": "stdout",
     "output_type": "stream",
     "text": [
      "Original: [1, [2, 3], 4, 5]\n",
      "Updated: [1, [6, 7, 8, 9], 4, 5]\n"
     ]
    }
   ],
   "source": [
    "#que-9\n",
    "#modify inner list and print new list\n",
    "\n",
    "list=[1,[2,3],4,5]\n",
    "\n",
    "print(\"Original:\",list)\n",
    "\n",
    "list[1]=[6,7,8,9]\n",
    "print(\"Updated:\",list)"
   ]
  },
  {
   "cell_type": "code",
   "execution_count": 58,
   "metadata": {},
   "outputs": [
    {
     "name": "stdout",
     "output_type": "stream",
     "text": [
      "list: ['abc', True, 40, 'hello', 'PYTHON', 999, 50.4, 'world!', False]\n",
      "==== LIST OPERATION ====\n",
      "1.ADD DATA\n",
      "2.REMOVE DATA\n",
      "3.REPLACE\n",
      "\n",
      "Replace: ['abc', True, 40, '40', 'PYTHON', 999, 50.4, 'world!', False]\n"
     ]
    }
   ],
   "source": [
    "#que-10\n",
    "#adding removing and replacing in list\n",
    "\n",
    "n_list=[\"abc\",True,40,'hello',\"PYTHON\",999,50.4,'world!',False]\n",
    "\n",
    "print(\"list:\",n_list)\n",
    "\n",
    "print(\"==== LIST OPERATION ====\")\n",
    "print(\"1.ADD DATA\")\n",
    "print(\"2.REMOVE DATA\")\n",
    "print(\"3.REPLACE\")\n",
    "\n",
    "ch=int(input(\"Enter your choise:\"))\n",
    "\n",
    "match ch:\n",
    "    case 1:\n",
    "        n_list.append(input(\"ENTER DATA TO ADD IN LIST:\"))\n",
    "        print(\"\\nAdd:\",n_list)\n",
    "\n",
    "    case 2:\n",
    "        n_list.remove(input(\"ENTER DATA TO REMOVE IN LIST:\"))\n",
    "        print(\"\\nRemove:\",n_list)\n",
    "\n",
    "    case 3:\n",
    "        replace_pos=int(input(\"Enter replace position:\"))\n",
    "        n_list[replace_pos]=(input(\"ENTER DATA TO REPLACE IN LIST:\"))\n",
    "        print(\"\\nReplace:\",n_list)"
   ]
  },
  {
   "cell_type": "code",
   "execution_count": 64,
   "metadata": {},
   "outputs": [
    {
     "data": {
      "text/plain": [
       "([1, 2], [7, 8], [5, 6])"
      ]
     },
     "execution_count": 64,
     "metadata": {},
     "output_type": "execute_result"
    }
   ],
   "source": [
    "#que-11\n",
    "#tuple of three list\n",
    "\n",
    "tpl=([1,2],[3,4],[5,6])\n",
    "tpl\n",
    "\n",
    "tpl[1][0]=7\n",
    "tpl[1][1]=8\n",
    "tpl"
   ]
  },
  {
   "cell_type": "code",
   "execution_count": 6,
   "metadata": {},
   "outputs": [
    {
     "name": "stdout",
     "output_type": "stream",
     "text": [
      "original:\n",
      "A = 10\n",
      "b = 20\n",
      "After swap:\n",
      "A = 20\n",
      "B = 10\n"
     ]
    }
   ],
   "source": [
    "#que-12\n",
    "#swap to variable using third variable\n",
    "\n",
    "a=10\n",
    "b=20\n",
    "print(\"original:\")\n",
    "print(\"A =\",a)\n",
    "print(\"b =\",b)\n",
    "\n",
    "c=b\n",
    "b=a\n",
    "a=c\n",
    "print(\"After swap:\")\n",
    "print(\"A =\",a)\n",
    "print(\"B =\",b)"
   ]
  },
  {
   "cell_type": "code",
   "execution_count": 2,
   "metadata": {},
   "outputs": [
    {
     "name": "stdout",
     "output_type": "stream",
     "text": [
      "original:\n",
      "A = 10\n",
      "b = 20\n",
      "After swap:\n",
      "A = 20\n",
      "B = 10\n"
     ]
    }
   ],
   "source": [
    "#que-13\n",
    "#swap to variable using\n",
    "\n",
    "a=10\n",
    "b=20\n",
    "print(\"original:\")\n",
    "print(\"A =\",a)\n",
    "print(\"b =\",b)\n",
    "\n",
    "b=b-a\n",
    "a=b+a\n",
    "\n",
    "print(\"After swap:\")\n",
    "print(\"A =\",a)\n",
    "print(\"B =\",b)"
   ]
  },
  {
   "cell_type": "code",
   "execution_count": null,
   "metadata": {},
   "outputs": [],
   "source": []
  }
 ],
 "metadata": {
  "kernelspec": {
   "display_name": "MIT_PYTHON",
   "language": "python",
   "name": "python3"
  },
  "language_info": {
   "codemirror_mode": {
    "name": "ipython",
    "version": 3
   },
   "file_extension": ".py",
   "mimetype": "text/x-python",
   "name": "python",
   "nbconvert_exporter": "python",
   "pygments_lexer": "ipython3",
   "version": "3.13.1"
  }
 },
 "nbformat": 4,
 "nbformat_minor": 2
}
