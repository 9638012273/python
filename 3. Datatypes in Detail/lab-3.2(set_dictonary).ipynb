{
 "cells": [
  {
   "cell_type": "code",
   "execution_count": 4,
   "metadata": {},
   "outputs": [
    {
     "name": "stdout",
     "output_type": "stream",
     "text": [
      "{1, 2, 3, 4, 6, 7, 8, 9, 10}\n",
      "Add:- {1, 2, 3, 4, 5, 6, 7, 8, 9, 10, 'hello'}\n",
      "Remove:- {1, 2, 3, 4, 5, 7, 8, 9, 10}\n"
     ]
    }
   ],
   "source": [
    "# labwork-4.2 #\n",
    "#=============#\n",
    "\n",
    "#que-1\n",
    "#set \n",
    "\n",
    "my_set={1,2,3,4,6,7,8,9,10}\n",
    "\n",
    "print(my_set)\n",
    "\n",
    "my_set.add(5)\n",
    "my_set.add(\"hello\")\n",
    "\n",
    "print(\"Add:-\",my_set)\n",
    "\n",
    "my_set.remove(6)\n",
    "my_set.remove(\"hello\")\n",
    "\n",
    "print(\"Remove:-\",my_set)\n"
   ]
  },
  {
   "cell_type": "code",
   "execution_count": null,
   "metadata": {},
   "outputs": [],
   "source": [
    "#que-2\n",
    "#dictionary\n",
    "\n",
    "my_dictionary={\n",
    "    'name':'alice',\n",
    "    'age':'15',\n",
    "    'city':'new york',\n",
    "}\n",
    "\n",
    "my_dictionary\n",
    "\n",
    "#add\n",
    "my_dictionary['study']='RED & WHITE'\n",
    "print(\"Add:\",my_dictionary)\n",
    "\n",
    "#update\n",
    "my_dictionary['study']='RNW'\n",
    "print(\"Update:\",my_dictionary)\n",
    "\n",
    "#remove\n",
    "my_dictionary.pop('age')\n",
    "print(\"Remove:\",my_dictionary)"
   ]
  },
  {
   "cell_type": "code",
   "execution_count": null,
   "metadata": {},
   "outputs": [
    {
     "name": "stdout",
     "output_type": "stream",
     "text": [
      "list: [1, 2, 3, 4, 5, 6, 1, 2, 3, 4]\n",
      "Unique value: {1, 2, 3, 4, 5, 6}\n"
     ]
    }
   ],
   "source": [
    "#que-3\n",
    "#list to set\n",
    "llist=[]\n",
    "for i in range(10):\n",
    "    llist.append(int(input(\"Enter the any 10 integers\")))\n",
    "\n",
    "print(\"list:\",llist)\n",
    "\n",
    "# Converting list to set\n",
    "myset = set(llist)\n",
    "\n",
    "print(\"Unique value:\", sset)"
   ]
  },
  {
   "cell_type": "code",
   "execution_count": 18,
   "metadata": {},
   "outputs": [
    {
     "name": "stdout",
     "output_type": "stream",
     "text": [
      "{'laptop': 70000, 'mobile': 20000, 'computer': 25000, 'acceseries': 10000}\n",
      "\n",
      "Product with the highest price:($70000)\n"
     ]
    }
   ],
   "source": [
    "#que-4\n",
    "#dictionary\n",
    "\n",
    "product={\n",
    "    'laptop':70000,\n",
    "    'mobile':20000,\n",
    "    'computer':25000,\n",
    "    'acceseries':10000,\n",
    "    }\n",
    "\n",
    "print(product)\n",
    "\n",
    "if product:\n",
    "    maximum=max(product.values())\n",
    "    print(f\"\\nProduct with the highest price:(${maximum})\")\n",
    "else:\n",
    "    print(\"The product list is empty.\")\n"
   ]
  },
  {
   "cell_type": "code",
   "execution_count": 9,
   "metadata": {},
   "outputs": [
    {
     "name": "stdout",
     "output_type": "stream",
     "text": [
      "Frequency: {'h': 1, 'e': 1, 'l': 2, 'o': 1, 'A': 1, 'B': 1, 'C': 1}\n"
     ]
    }
   ],
   "source": [
    "#que-5\n",
    "#dictionary\n",
    "\n",
    "frequency=input(\"Enter string:\")\n",
    "\n",
    "dict={}\n",
    "\n",
    "for char in frequency:\n",
    "    if char in dict:\n",
    "        dict[char]+=1\n",
    "    else:\n",
    "        dict[char]=1\n",
    "    \n",
    "print(\"Frequency:\",dict)\n",
    "    "
   ]
  },
  {
   "cell_type": "code",
   "execution_count": 3,
   "metadata": {},
   "outputs": [
    {
     "name": "stdout",
     "output_type": "stream",
     "text": [
      "Sum is: 15\n"
     ]
    }
   ],
   "source": [
    "#que-6\n",
    "#comments\n",
    "\n",
    "#this is single line comment\n",
    "\n",
    "\"\"\"this is multi line comment\"\"\"\n",
    "\n",
    "#in line comment\n",
    "\n",
    "num=[1,2,3,4,5]\n",
    "                #in line comment\n",
    "total=sum(num) #sum function is used to sum of all numbers\n",
    "\n",
    "print(\"Sum is:\",total)"
   ]
  },
  {
   "cell_type": "code",
   "execution_count": 11,
   "metadata": {},
   "outputs": [
    {
     "name": "stdout",
     "output_type": "stream",
     "text": [
      "Fectorial of 5 is :120\n"
     ]
    }
   ],
   "source": [
    "#que-7\n",
    "#fectorial\n",
    "\n",
    "num=int(input(\"Enter the fectorial number:\"))\n",
    "#take number from user\n",
    "\n",
    "fect=1\n",
    "#declare variable with value 1\n",
    "\n",
    "for i in range(1,num+1): #take loop for find fectorial with range number+1\n",
    "    fect=fect*i     #fect * i ( fect = 1*2*3*4...*n )\n",
    "\n",
    "print(f\"Fectorial of {num} is :{fect}\")     #print fectorial"
   ]
  },
  {
   "cell_type": "code",
   "execution_count": 3,
   "metadata": {},
   "outputs": [
    {
     "name": "stdout",
     "output_type": "stream",
     "text": [
      "Area of rectengle: 320.0\n"
     ]
    }
   ],
   "source": [
    "#que-8\n",
    "#find area of rectangle\n",
    "\n",
    "length=float(input(\"Enter length:\"))\n",
    "width=float(input(\"Enter width:\"))\n",
    "\n",
    "rectengle=length*width\n",
    "\n",
    "print(\"Area of rectengle:\",rectengle)"
   ]
  },
  {
   "cell_type": "code",
   "execution_count": 8,
   "metadata": {},
   "outputs": [
    {
     "name": "stdout",
     "output_type": "stream",
     "text": [
      "<class 'list'> [1, 2, 'hello', 'python', True, 60]\n",
      "<class 'set'> {1, 2, 'hello', 'python', 60}\n",
      "<class 'list'> [1, 2, 'hello', 'python', 60]\n"
     ]
    }
   ],
   "source": [
    "#que-9\n",
    "#data types\n",
    "\n",
    "mlist=[1,2,\"hello\",'python',True,60]\n",
    "\n",
    "mset=set(mlist)\n",
    "\n",
    "mtuple=tuple(mset)\n",
    "\n",
    "print(type(mlist),mlist)\n",
    "print(type(mset),mset)\n",
    "print(type(mtuple),mtuple)"
   ]
  },
  {
   "cell_type": "code",
   "execution_count": 3,
   "metadata": {},
   "outputs": [
    {
     "name": "stdout",
     "output_type": "stream",
     "text": [
      "<class 'list'> ['1', '2', '3', '4', '5']\n",
      "<class 'set'> {'5', '1', '4', '3', '2'}\n",
      "<class 'tuple'> ('5', '1', '4', '3', '2')\n"
     ]
    }
   ],
   "source": [
    "#que-10\n",
    "#data types \n",
    "\n",
    "str=input(\"Enter string\")\n",
    "\n",
    "mlist=list(str)\n",
    "print(type(mlist),mlist)\n",
    "\n",
    "mlist=set(list(str))\n",
    "print(type(mlist),mlist)\n",
    "\n",
    "mlist=tuple(set(list(str)))\n",
    "print(type(mlist),mlist)"
   ]
  },
  {
   "cell_type": "code",
   "execution_count": 24,
   "metadata": {},
   "outputs": [
    {
     "name": "stdout",
     "output_type": "stream",
     "text": [
      "<class 'dict'> {'name': 'alice', 'age': '15', 'city': 'new york'} \n",
      "\n",
      "list of key: ['name', 'age', 'city']\n",
      "set of key: {'name', 'age', 'city'} \n",
      "\n",
      "list of value: ['alice', '15', 'new york']\n",
      "tuple of value: ('alice', '15', 'new york') \n",
      "\n"
     ]
    }
   ],
   "source": [
    "#que-11\n",
    "#data types\n",
    "\n",
    "my_dictionary={\n",
    "    'name':'alice',\n",
    "    'age':'15',\n",
    "    'city':'new york',\n",
    "}\n",
    "\n",
    "print(type(my_dictionary),my_dictionary,\"\\n\")\n",
    "\n",
    "print(\"list of key:\",list(my_dictionary))\n",
    "print(\"set of key:\",set(my_dictionary),\"\\n\")\n",
    "\n",
    "print(\"list of value:\",list(my_dictionary.values()))\n",
    "print(\"tuple of value:\",tuple(my_dictionary.values()),\"\\n\")\n"
   ]
  },
  {
   "cell_type": "code",
   "execution_count": 38,
   "metadata": {},
   "outputs": [
    {
     "name": "stdout",
     "output_type": "stream",
     "text": [
      "list is: ['hello', 'python', 1, 2, 3, True, 1, 3, 'hello', True, False]\n",
      "unique value is: [False, 1, 2, 3, 'python', 'hello']\n"
     ]
    }
   ],
   "source": [
    "#que-12\n",
    "#find dublicate values from list\n",
    "\n",
    "mlist=['hello','python',1,2,3,True,1,3,'hello',True,False]\n",
    "\n",
    "print(\"list is:\",mlist)\n",
    "\n",
    "mset=list(set(mlist))\n",
    "\n",
    "print(\"unique value is:\",mset)"
   ]
  },
  {
   "cell_type": "code",
   "execution_count": 39,
   "metadata": {},
   "outputs": [
    {
     "name": "stdout",
     "output_type": "stream",
     "text": [
      "{1: 1, 2: 4, 3: 9, 4: 16, 5: 25}\n"
     ]
    }
   ],
   "source": [
    "#que-13\n",
    "#set to dictionary\n",
    "\n",
    "s={1,2,3,4,5}\n",
    "\n",
    "dict={i : i*i for i in s}\n",
    "\n",
    "print(dict)"
   ]
  },
  {
   "cell_type": "code",
   "execution_count": null,
   "metadata": {},
   "outputs": [],
   "source": []
  }
 ],
 "metadata": {
  "kernelspec": {
   "display_name": "MIT_PYTHON",
   "language": "python",
   "name": "python3"
  },
  "language_info": {
   "codemirror_mode": {
    "name": "ipython",
    "version": 3
   },
   "file_extension": ".py",
   "mimetype": "text/x-python",
   "name": "python",
   "nbconvert_exporter": "python",
   "pygments_lexer": "ipython3",
   "version": "3.13.1"
  }
 },
 "nbformat": 4,
 "nbformat_minor": 2
}
