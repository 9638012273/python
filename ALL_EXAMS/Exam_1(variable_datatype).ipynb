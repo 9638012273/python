{
 "cells": [
  {
   "cell_type": "code",
   "execution_count": null,
   "metadata": {},
   "outputs": [],
   "source": [
    "# Fundamental booster\n",
    "\n",
    "print(\"Welcome to the Interective personal data collector!\")\n",
    "\n"
   ]
  },
  {
   "cell_type": "code",
   "execution_count": 2,
   "metadata": {},
   "outputs": [],
   "source": [
    "name = input(\"Please enter your name:\")\n",
    "age = int(input(\"Please enter your age:\"))\n",
    "height = float( input(\"Please enter your height\"))\n",
    "f_num= int(input(\"Please enter your favourite number:\"))"
   ]
  },
  {
   "cell_type": "code",
   "execution_count": null,
   "metadata": {},
   "outputs": [],
   "source": [
    "print(\"Thank you! Here is the information we collected :- \\n\")"
   ]
  },
  {
   "cell_type": "code",
   "execution_count": null,
   "metadata": {},
   "outputs": [],
   "source": [
    "\n",
    "\n",
    "print(\"Name:\",name , (\"Type: \",type(name) , \"Memory address: \",id(name)))\n",
    "print(\"Age:\",age , (\"Type: \",type(age) , \"Memory address: \",id(age)))\n",
    "print(\"Height:\",height , (\"Type: \",type(height) , \"Memory address: \",id(height)))\n",
    "print(\"Favourite number:\",f_num , (\"Type: \",type(f_num) , \"Memory address: \",id(f_num)))"
   ]
  },
  {
   "cell_type": "code",
   "execution_count": null,
   "metadata": {},
   "outputs": [],
   "source": [
    "print(\"your birth is approximately:\",(2024-age) , (\"based on your age of \",age))"
   ]
  },
  {
   "cell_type": "code",
   "execution_count": null,
   "metadata": {},
   "outputs": [],
   "source": [
    "print(\" thank you for using the personal data collector , Good bye....\")"
   ]
  }
 ],
 "metadata": {
  "kernelspec": {
   "display_name": "MIT_PYTHON",
   "language": "python",
   "name": "python3"
  },
  "language_info": {
   "codemirror_mode": {
    "name": "ipython",
    "version": 3
   },
   "file_extension": ".py",
   "mimetype": "text/x-python",
   "name": "python",
   "nbconvert_exporter": "python",
   "pygments_lexer": "ipython3",
   "version": "3.13.1"
  }
 },
 "nbformat": 4,
 "nbformat_minor": 2
}
