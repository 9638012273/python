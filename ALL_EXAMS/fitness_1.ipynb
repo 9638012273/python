{
 "cells": [
  {
   "cell_type": "code",
   "execution_count": 1,
   "metadata": {},
   "outputs": [
    {
     "name": "stdout",
     "output_type": "stream",
     "text": [
      "75 Gyms, Studios, and Fitness Instructors Offering Online Workouts Right Now\n",
      "7 Tips to Help You Stick With Exercise When Managing Type 2 Diabetes\n",
      "Get Fit for Free With These 30-Minute Online Workouts\n",
      "The Best Weight Loss Apps to Help You Torch Calories\n",
      "5 Fitness Brands for Women of All Shapes, Sizes, and Body Types\n",
      "7 Ways to Work Out if You Have Crohn’s Disease\n",
      "Circuit Training: A Great Way to Boost Your Fitness Level When You Have MS\n",
      "Ankylosing Spondylitis and Your Heart Disease Risk\n",
      "What Are Net Carbs?\n",
      "Fiber for IBD: Why It Helps, Best Types, and How to Boost Your Fiber Intake\n",
      "6 Phone Apps for People With Ulcerative Colitis\n",
      "Can Drinking Tea Boost Your Immune System? \n",
      "Walking Backwards: Should You Try This Workout Trend?\n",
      "How to Get 6-Pack Abs — and Why It’s So Challenging\n",
      "7 Reasons to Exercise Outdoors and How to Get Started\n",
      "Muscle Atrophy: 5 Exercises to Build Strength\n",
      "Planks: What Muscles They Work and How to Do One\n",
      "17\n",
      "https://www.everydayhealth.com/fitness/gyms-fitness-studios-and-more-offering-online-workouts-right-now/\n",
      "https://www.everydayhealth.com/hs/better-type-2-diabetes-control/stay-motivated-exercise/\n",
      "https://www.everydayhealth.com/fitness/get-fit-free-with-these-online-workouts/\n",
      "https://www.everydayhealth.com/fitness/best-weight-loss-apps-every-need/\n",
      "https://www.everydayhealth.com/fitness/brands-women-all-shapes-sizes-body-types/\n",
      "https://www.everydayhealth.com/crohns-disease/living-with/ways-to-work-out-with-crohns/\n",
      "https://www.everydayhealth.com/columns/ms-fitness-challenge/circuit-training-great-way-boost-your-fitness-level-when-you-have-ms/\n",
      "https://www.everydayhealth.com/ankylosing-spondylitis/ankylosing-spondylitis-and-your-heart-disease-risk.aspx\n",
      "https://www.everydayhealth.com/diet-nutrition/net-carbs/\n",
      "https://www.everydayhealth.com/ibd/the-best-types-of-fiber-for-people-with-ibd/\n",
      "https://www.everydayhealth.com/ulcerative-colitis/symptoms/phone-apps-people-with-uc/\n",
      "https://www.everydayhealth.com/diet-nutrition/types-of-tea-that-may-help-support-your-immune-system/\n",
      "https://www.everydayhealth.com/fitness/walking-backwards-health-benefits-safety-tips/\n",
      "https://www.everydayhealth.com/fitness/what-you-should-know-about-getting-abs/\n",
      "https://www.everydayhealth.com/fitness/reasons-to-exercise-outdoors/\n",
      "https://www.everydayhealth.com/fitness/muscle-atrophy-exercises/\n",
      "https://www.everydayhealth.com/fitness/planks-muscle-groups-how-to/\n",
      "17\n"
     ]
    }
   ],
   "source": [
    "import requests\n",
    "from bs4 import BeautifulSoup\n",
    "import pandas as pd\n",
    "\n",
    "Title=[]\n",
    "Prices=[]\n",
    "\n",
    "url=\"https://www.everydayhealth.com/fitness/\"\n",
    "\n",
    "request=requests.get(url)\n",
    "# print(request.status_code)\n",
    "\n",
    "soup=BeautifulSoup(request.text,\"html.parser\")\n",
    "\n",
    "\n",
    "title=soup.find_all(\"a\",class_=\"landing-content-list__item-link\")\n",
    "for i in title:\n",
    "    tt=i.text\n",
    "    Title.append(tt)\n",
    "for i in Title:\n",
    "    print(i)\n",
    "print(len(Title))\n",
    "\n",
    "price=soup.find_all(\"article\",class_=\"landing-content-list__item\")\n",
    "for i in price:\n",
    "    prc=i.a['href']\n",
    "    Prices.append(prc)\n",
    "for i in Prices:\n",
    "    print(i)\n",
    "print(len(Prices))"
   ]
  },
  {
   "cell_type": "code",
   "execution_count": null,
   "metadata": {},
   "outputs": [],
   "source": []
  }
 ],
 "metadata": {
  "kernelspec": {
   "display_name": "MIT_PYTHON",
   "language": "python",
   "name": "python3"
  },
  "language_info": {
   "codemirror_mode": {
    "name": "ipython",
    "version": 3
   },
   "file_extension": ".py",
   "mimetype": "text/x-python",
   "name": "python",
   "nbconvert_exporter": "python",
   "pygments_lexer": "ipython3",
   "version": "3.13.1"
  }
 },
 "nbformat": 4,
 "nbformat_minor": 2
}
