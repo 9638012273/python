{
 "cells": [
  {
   "cell_type": "code",
   "execution_count": null,
   "metadata": {},
   "outputs": [],
   "source": [
    "# labwork-9.1 #\n",
    "#=============#\n",
    "\n",
    "#Question bank link\n",
    "\n",
    "#https://docs.google.com/document/d/1vz6FtARhaJGcgsIAeNu7dJt55lbhZxyBye7sIu9CQeE/edit?tab=t.0"
   ]
  },
  {
   "cell_type": "code",
   "execution_count": 27,
   "metadata": {},
   "outputs": [
    {
     "name": "stdout",
     "output_type": "stream",
     "text": [
      "(0, 23) hello This is my World.\n"
     ]
    }
   ],
   "source": [
    "#que-1\n",
    "#find start hello and ending with world\n",
    "\n",
    "import re\n",
    "\n",
    "data=\"hello This is my World.\"\n",
    "\n",
    "final_result=re.search(\"^hello.*World.$\",data)\n",
    "\n",
    "print(final_result.span(),final_result.group())\n"
   ]
  },
  {
   "cell_type": "code",
   "execution_count": 42,
   "metadata": {},
   "outputs": [
    {
     "name": "stdout",
     "output_type": "stream",
     "text": [
      "hello This is my World 4765427542876 #&^&%^%#*&%#\n"
     ]
    }
   ],
   "source": [
    "#que-2\n",
    "\n",
    "import re\n",
    "\n",
    "data = \"hello This is my World 4765427542876 #&^&%^%#*&%#\"\n",
    "final_result = re.findall(r\"\\w.*\", data)  \n",
    "\n",
    "print(\"\".join(final_result))\n"
   ]
  },
  {
   "cell_type": "code",
   "execution_count": 45,
   "metadata": {},
   "outputs": [
    {
     "name": "stdout",
     "output_type": "stream",
     "text": [
      "(0, 6) Python\n"
     ]
    }
   ],
   "source": [
    "#que-3\n",
    "\n",
    "import re\n",
    "\n",
    "data = \"Python is the most usable and easy language in the world.\"\n",
    "\n",
    "final_result = re.search(r\"^Python\", data) \n",
    "\n",
    "print(final_result.span(),final_result.group())\n"
   ]
  },
  {
   "cell_type": "code",
   "execution_count": 53,
   "metadata": {},
   "outputs": [
    {
     "name": "stdout",
     "output_type": "stream",
     "text": [
      "['Python', 'Amazing', 'Regular', 'Expressions', 'Powerfull']\n"
     ]
    }
   ],
   "source": [
    "#que-4\n",
    "\n",
    "import re\n",
    "\n",
    "data = \"Python is the Amazing. Regular Expressions are Powerfull\"\n",
    "\n",
    "final_result = re.findall(r\"[A-Z]\\w*\", data) \n",
    "\n",
    "print(final_result)"
   ]
  },
  {
   "cell_type": "code",
   "execution_count": 5,
   "metadata": {},
   "outputs": [
    {
     "name": "stdout",
     "output_type": "stream",
     "text": [
      "['support@company.com', 'sales@company.org', 'sales@company.in']\n"
     ]
    }
   ],
   "source": [
    "#que-5\n",
    "\n",
    "\n",
    "import re\n",
    "\n",
    "data = \"Contect us at support@company.com or sales@company.org or sales@company.in\"\n",
    "\n",
    "final_result = re.findall(r\"[\\w]+@\\w*.[A-Za-z]{2,}\", data) \n",
    "\n",
    "print(final_result)"
   ]
  },
  {
   "cell_type": "code",
   "execution_count": 28,
   "metadata": {},
   "outputs": [
    {
     "name": "stdout",
     "output_type": "stream",
     "text": [
      "['12/01/2025', '25/12/2024', '01/01/2026']\n"
     ]
    }
   ],
   "source": [
    "#que-6\n",
    "\n",
    "import re\n",
    "\n",
    "data = \"The deadlines are 12/01/2025 , 25/12/2024 , and 01/01/2026\"\n",
    "\n",
    "final_result = re.findall(r\"(\\d{2}/\\d{2}/\\d{4})\", data)  \n",
    "\n",
    "print(final_result)"
   ]
  },
  {
   "cell_type": "code",
   "execution_count": 27,
   "metadata": {},
   "outputs": [
    {
     "name": "stdout",
     "output_type": "stream",
     "text": [
      "['123-456-7890', '987-654-3210']\n"
     ]
    }
   ],
   "source": [
    "#que-7\n",
    "\n",
    "import re\n",
    "\n",
    "data =\"contect us at 123-456-7890 or 987-654-3210 for support\"\n",
    "\n",
    "final_result = re.findall(r\"\\d{3}-\\d{3}-\\d{4}\", data) \n",
    "\n",
    "print(final_result)"
   ]
  },
  {
   "cell_type": "code",
   "execution_count": 8,
   "metadata": {},
   "outputs": [
    {
     "name": "stdout",
     "output_type": "stream",
     "text": [
      "Password :sdhgv!2d\n",
      "password is strong\n"
     ]
    }
   ],
   "source": [
    "#que-8\n",
    "\n",
    "import re\n",
    "\n",
    "data =input(\"Enter Password (8-char):\")\n",
    "\n",
    "\n",
    "if re.search(r\".{8}\", data):\n",
    "\n",
    "    if re.search(r\"[A-Za-z]\",data):\n",
    "\n",
    "        if re.search(r\"\\d{1}\",data):\n",
    "\n",
    "            if re.search(r\"[!@#$%^&*()_+{}\\[\\]:;'<>,.?/~`\\\\-]\",data):\n",
    "\n",
    "                print(f\"Password :{data}\")\n",
    "                print(\"password is strong\")\n",
    "\n",
    "            else:\n",
    "                print(f\"Password :{data}\")\n",
    "                print(\"Password must contain at least one special character\")\n",
    "\n",
    "        else:\n",
    "            print(f\"Password :{data}\")\n",
    "            print(\"Password must contain at least one digit\")\n",
    "\n",
    "    else:\n",
    "        print(f\"Password :{data}\")\n",
    "        print(\"Password must contain at least one letter\")\n",
    "\n",
    "else:\n",
    "    print(f\"Password :{data}\")\n",
    "    print(\"Password must be at least 8 characters long\")\n",
    "\n",
    "\n",
    "\n",
    "\n"
   ]
  },
  {
   "cell_type": "code",
   "execution_count": null,
   "metadata": {},
   "outputs": [],
   "source": [
    "#que-9\n",
    "\n",
    "import re\n",
    "\n",
    "data =\"contect us at 123-456-7890 or 987-654-3210 for support\"\n",
    "\n",
    "final_result = re.findall(r\"\\d{3}-\\d{3}-\\d{4}\", data) \n",
    "\n",
    "print(final_result)"
   ]
  }
 ],
 "metadata": {
  "kernelspec": {
   "display_name": "MIT_PYTHON",
   "language": "python",
   "name": "python3"
  },
  "language_info": {
   "codemirror_mode": {
    "name": "ipython",
    "version": 3
   },
   "file_extension": ".py",
   "mimetype": "text/x-python",
   "name": "python",
   "nbconvert_exporter": "python",
   "pygments_lexer": "ipython3",
   "version": "3.13.1"
  }
 },
 "nbformat": 4,
 "nbformat_minor": 2
}
