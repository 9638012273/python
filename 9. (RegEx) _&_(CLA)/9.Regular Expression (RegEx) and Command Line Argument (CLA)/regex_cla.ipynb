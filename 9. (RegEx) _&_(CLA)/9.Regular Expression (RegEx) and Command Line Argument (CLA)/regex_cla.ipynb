{
 "cells": [
  {
   "cell_type": "code",
   "execution_count": 9,
   "metadata": {},
   "outputs": [
    {
     "data": {
      "text/plain": [
       "<re.Match object; span=(0, 17), match='The rain in Spain'>"
      ]
     },
     "execution_count": 9,
     "metadata": {},
     "output_type": "execute_result"
    }
   ],
   "source": [
    "# Regular Expression (RegEx) \n",
    "\n",
    "# https://www.w3schools.com/python/python_regex.asp\n",
    "\n",
    "# https://pythex.org/\n",
    "\n",
    "import re\n",
    "\n",
    "data = \"The rain in Spain\"\n",
    "\n",
    "final_data = re.search(\"^The.*Spain$\", data)\n",
    "\n",
    "final_data\n",
    "\n",
    "final_data = re.search(\"^T.*n$\", data)\n",
    "\n",
    "final_data"
   ]
  },
  {
   "cell_type": "code",
   "execution_count": 8,
   "metadata": {},
   "outputs": [
    {
     "data": {
      "text/plain": [
       "<re.Match object; span=(0, 6), match='prefix'>"
      ]
     },
     "execution_count": 8,
     "metadata": {},
     "output_type": "execute_result"
    }
   ],
   "source": [
    "\n",
    "\n",
    "\n",
    "data = \"prefix with many meanings, including: alongside of, beside, near, resembling, beyond, apart from, and abnormal. For example, the parathyroid glands are called para-thyroid because they are adjacent to the thyroid. For another example, paraumbilical means\"\n",
    "\n",
    "final_data = re.search(\"^prefix\", data)\n",
    "\n",
    "final_data"
   ]
  },
  {
   "cell_type": "code",
   "execution_count": 9,
   "metadata": {},
   "outputs": [
    {
     "name": "stdout",
     "output_type": "stream",
     "text": [
      "(0, 6) prefix\n"
     ]
    }
   ],
   "source": [
    "print(final_data.span() , final_data.group())"
   ]
  },
  {
   "cell_type": "code",
   "execution_count": 10,
   "metadata": {},
   "outputs": [],
   "source": [
    "data = \"The rain in Spain The rain in Spain\""
   ]
  },
  {
   "cell_type": "code",
   "execution_count": 11,
   "metadata": {},
   "outputs": [
    {
     "data": {
      "text/plain": [
       "<re.Match object; span=(5, 7), match='ai'>"
      ]
     },
     "execution_count": 11,
     "metadata": {},
     "output_type": "execute_result"
    }
   ],
   "source": [
    "\n",
    "final_data = re.search(\"ai\", data)\n",
    "\n",
    "final_data"
   ]
  },
  {
   "cell_type": "code",
   "execution_count": 12,
   "metadata": {},
   "outputs": [],
   "source": [
    "# print(final_data.match)"
   ]
  },
  {
   "cell_type": "code",
   "execution_count": 13,
   "metadata": {},
   "outputs": [
    {
     "name": "stdout",
     "output_type": "stream",
     "text": [
      "(5, 7) ai\n"
     ]
    }
   ],
   "source": [
    "print(final_data.span() , final_data.group())"
   ]
  },
  {
   "cell_type": "code",
   "execution_count": 14,
   "metadata": {},
   "outputs": [
    {
     "data": {
      "text/plain": [
       "['ai', 'ai', 'ai', 'ai']"
      ]
     },
     "execution_count": 14,
     "metadata": {},
     "output_type": "execute_result"
    }
   ],
   "source": [
    "final_data = re.findall(\"ai\", data)\n",
    "\n",
    "final_data"
   ]
  },
  {
   "cell_type": "code",
   "execution_count": 15,
   "metadata": {},
   "outputs": [
    {
     "name": "stdout",
     "output_type": "stream",
     "text": [
      "<re.Match object; span=(5, 7), match='ai'>\n",
      "<re.Match object; span=(14, 16), match='ai'>\n",
      "<re.Match object; span=(23, 25), match='ai'>\n",
      "<re.Match object; span=(32, 34), match='ai'>\n"
     ]
    }
   ],
   "source": [
    "final_data = re.finditer(\"ai\", data)\n",
    "\n",
    "for i in final_data:\n",
    "    print(i)"
   ]
  },
  {
   "cell_type": "code",
   "execution_count": 16,
   "metadata": {},
   "outputs": [
    {
     "name": "stdout",
     "output_type": "stream",
     "text": [
      "(5, 7) ai\n",
      "(14, 16) ai\n",
      "(23, 25) ai\n",
      "(32, 34) ai\n"
     ]
    }
   ],
   "source": [
    "final_data = re.finditer(\"ai\", data)\n",
    "\n",
    "for i in final_data:\n",
    "    print(i.span() , i.group())"
   ]
  },
  {
   "cell_type": "code",
   "execution_count": 17,
   "metadata": {},
   "outputs": [
    {
     "name": "stdout",
     "output_type": "stream",
     "text": [
      "(0, 3) The\n"
     ]
    }
   ],
   "source": [
    "final_data = re.finditer(\"^The\", data)\n",
    "\n",
    "for i in final_data:\n",
    "    print(i.span() , i.group())"
   ]
  },
  {
   "cell_type": "code",
   "execution_count": 18,
   "metadata": {},
   "outputs": [
    {
     "name": "stdout",
     "output_type": "stream",
     "text": [
      "(4, 8) rain\n",
      "(22, 26) rain\n"
     ]
    }
   ],
   "source": [
    "final_data = re.finditer(\"rain\", data)\n",
    "\n",
    "for i in final_data:\n",
    "    print(i.span() , i.group())"
   ]
  },
  {
   "cell_type": "code",
   "execution_count": 19,
   "metadata": {},
   "outputs": [],
   "source": [
    "final_data = re.finditer(\"rain$\", data)\n",
    "\n",
    "for i in final_data:\n",
    "    print(i.span() , i.group())"
   ]
  },
  {
   "cell_type": "code",
   "execution_count": 20,
   "metadata": {},
   "outputs": [
    {
     "name": "stdout",
     "output_type": "stream",
     "text": [
      "(30, 35) Spain\n"
     ]
    }
   ],
   "source": [
    "final_data = re.finditer(\"Spain$\", data)\n",
    "\n",
    "for i in final_data:\n",
    "    print(i.span() , i.group())"
   ]
  },
  {
   "cell_type": "code",
   "execution_count": 21,
   "metadata": {},
   "outputs": [],
   "source": [
    "final_data = re.finditer(\"\\d\", data)\n",
    "\n",
    "for i in final_data:\n",
    "    print(i.span() , i.group())"
   ]
  },
  {
   "cell_type": "code",
   "execution_count": 22,
   "metadata": {},
   "outputs": [],
   "source": [
    "data_1 = \"The rain9345 in Spain\""
   ]
  },
  {
   "cell_type": "code",
   "execution_count": 23,
   "metadata": {},
   "outputs": [
    {
     "name": "stdout",
     "output_type": "stream",
     "text": [
      "(8, 9) 9\n",
      "(9, 10) 3\n",
      "(10, 11) 4\n",
      "(11, 12) 5\n"
     ]
    }
   ],
   "source": [
    "final_data = re.finditer(\"\\d\", data_1)\n",
    "\n",
    "for i in final_data:\n",
    "    print(i.span() , i.group())"
   ]
  },
  {
   "cell_type": "code",
   "execution_count": 24,
   "metadata": {},
   "outputs": [
    {
     "name": "stdout",
     "output_type": "stream",
     "text": [
      "(0, 1) T\n",
      "(1, 2) h\n",
      "(2, 3) e\n",
      "(3, 4)  \n",
      "(4, 5) r\n",
      "(5, 6) a\n",
      "(6, 7) i\n",
      "(7, 8) n\n",
      "(12, 13)  \n",
      "(13, 14) i\n",
      "(14, 15) n\n",
      "(15, 16)  \n",
      "(16, 17) S\n",
      "(17, 18) p\n",
      "(18, 19) a\n",
      "(19, 20) i\n",
      "(20, 21) n\n"
     ]
    }
   ],
   "source": [
    "final_data = re.finditer(\"\\D\", data_1)\n",
    "\n",
    "for i in final_data:\n",
    "    print(i.span() , i.group())"
   ]
  },
  {
   "cell_type": "code",
   "execution_count": 25,
   "metadata": {},
   "outputs": [],
   "source": [
    "data_1 = \"The rain9345\\t in \\n Spain\""
   ]
  },
  {
   "cell_type": "code",
   "execution_count": 26,
   "metadata": {},
   "outputs": [
    {
     "name": "stdout",
     "output_type": "stream",
     "text": [
      "(3, 4)  \n",
      "(12, 13) \t\n",
      "(13, 14)  \n",
      "(16, 17)  \n",
      "(17, 18) \n",
      "\n",
      "(18, 19)  \n"
     ]
    }
   ],
   "source": [
    "final_data = re.finditer(\"\\s\", data_1)\n",
    "\n",
    "for i in final_data:\n",
    "    print(i.span() , i.group())"
   ]
  },
  {
   "cell_type": "code",
   "execution_count": 27,
   "metadata": {},
   "outputs": [
    {
     "name": "stdout",
     "output_type": "stream",
     "text": [
      "(0, 1) T\n",
      "(1, 2) h\n",
      "(2, 3) e\n",
      "(4, 5) r\n",
      "(5, 6) a\n",
      "(6, 7) i\n",
      "(7, 8) n\n",
      "(8, 9) 9\n",
      "(9, 10) 3\n",
      "(10, 11) 4\n",
      "(11, 12) 5\n",
      "(14, 15) i\n",
      "(15, 16) n\n",
      "(19, 20) S\n",
      "(20, 21) p\n",
      "(21, 22) a\n",
      "(22, 23) i\n",
      "(23, 24) n\n"
     ]
    }
   ],
   "source": [
    "final_data = re.finditer(\"\\w\", data_1)\n",
    "\n",
    "for i in final_data:\n",
    "    print(i.span() , i.group())"
   ]
  },
  {
   "cell_type": "code",
   "execution_count": null,
   "metadata": {},
   "outputs": [],
   "source": []
  },
  {
   "cell_type": "code",
   "execution_count": 28,
   "metadata": {},
   "outputs": [
    {
     "name": "stdout",
     "output_type": "stream",
     "text": [
      "(0, 1) T\n",
      "(1, 2) h\n",
      "(2, 3) e\n",
      "(4, 5) r\n",
      "(5, 6) a\n",
      "(6, 7) i\n",
      "(7, 8) n\n",
      "(9, 10) i\n",
      "(10, 11) n\n",
      "(12, 13) S\n",
      "(13, 14) p\n",
      "(14, 15) a\n",
      "(15, 16) i\n",
      "(16, 17) n\n",
      "(18, 19) T\n",
      "(19, 20) h\n",
      "(20, 21) e\n",
      "(22, 23) r\n",
      "(23, 24) a\n",
      "(24, 25) i\n",
      "(25, 26) n\n",
      "(27, 28) i\n",
      "(28, 29) n\n",
      "(30, 31) S\n",
      "(31, 32) p\n",
      "(32, 33) a\n",
      "(33, 34) i\n",
      "(34, 35) n\n"
     ]
    }
   ],
   "source": [
    "final_data = re.finditer(\"\\w\", data)\n",
    "\n",
    "for i in final_data:\n",
    "    print(i.span() , i.group())"
   ]
  },
  {
   "cell_type": "code",
   "execution_count": 29,
   "metadata": {},
   "outputs": [
    {
     "name": "stdout",
     "output_type": "stream",
     "text": [
      "(2, 3) e\n",
      "(5, 6) a\n",
      "(6, 7) i\n",
      "(14, 15) i\n",
      "(21, 22) a\n",
      "(22, 23) i\n"
     ]
    }
   ],
   "source": [
    "# Sets \n",
    "\n",
    "data_2 = \"The rain9345\\t in \\n Spain\"\n",
    "\n",
    "\n",
    "final_data = re.finditer(\"[aeiou]\", data_2)\n",
    "\n",
    "for i in final_data:\n",
    "    print(i.span() , i.group())\n"
   ]
  },
  {
   "cell_type": "code",
   "execution_count": 30,
   "metadata": {},
   "outputs": [
    {
     "name": "stdout",
     "output_type": "stream",
     "text": [
      "(0, 1) T\n",
      "(1, 2) h\n",
      "(2, 3) e\n",
      "(4, 5) r\n",
      "(5, 6) a\n",
      "(6, 7) i\n",
      "(7, 8) n\n",
      "(8, 9) 9\n",
      "(9, 10) 3\n",
      "(10, 11) 4\n",
      "(11, 12) 5\n",
      "(14, 15) i\n",
      "(15, 16) n\n",
      "(19, 20) S\n",
      "(20, 21) p\n",
      "(21, 22) a\n",
      "(22, 23) i\n",
      "(23, 24) n\n"
     ]
    }
   ],
   "source": [
    "\n",
    "data_2 = \"The rain9345\\t in \\n Spain\"\n",
    "\n",
    "\n",
    "final_data = re.finditer(\"[a-z0-9A-Z]\", data_2)\n",
    "\n",
    "for i in final_data:\n",
    "    print(i.span() , i.group())\n"
   ]
  },
  {
   "cell_type": "code",
   "execution_count": 31,
   "metadata": {},
   "outputs": [
    {
     "name": "stdout",
     "output_type": "stream",
     "text": [
      "hello \n",
      " welcome\n"
     ]
    }
   ],
   "source": [
    "print(\"hello \\n welcome\")"
   ]
  },
  {
   "cell_type": "code",
   "execution_count": 32,
   "metadata": {},
   "outputs": [
    {
     "name": "stdout",
     "output_type": "stream",
     "text": [
      "hello \\n welcome\n"
     ]
    }
   ],
   "source": [
    "print(\"hello \\\\n welcome\")"
   ]
  },
  {
   "cell_type": "code",
   "execution_count": 12,
   "metadata": {},
   "outputs": [
    {
     "name": "stdout",
     "output_type": "stream",
     "text": [
      "hello \\n welcome\n"
     ]
    }
   ],
   "source": [
    "print(r\"hello \\n welcome\") # r' '  Raw string "
   ]
  },
  {
   "cell_type": "code",
   "execution_count": 34,
   "metadata": {},
   "outputs": [
    {
     "name": "stdout",
     "output_type": "stream",
     "text": [
      "hello \n",
      " welcome\n"
     ]
    }
   ],
   "source": [
    "print(f\"hello \\n welcome\") # r' '  Raw string "
   ]
  },
  {
   "cell_type": "code",
   "execution_count": 10,
   "metadata": {},
   "outputs": [
    {
     "name": "stdout",
     "output_type": "stream",
     "text": [
      "(0, 1) T\n",
      "(1, 2) h\n",
      "(2, 3) e\n",
      "(3, 4)  \n",
      "(4, 5) r\n",
      "(5, 6) a\n",
      "(6, 7) i\n",
      "(7, 8) n\n",
      "(8, 9) 9\n",
      "(9, 10) 3\n",
      "(10, 11) 4\n",
      "(11, 12) 5\n",
      "(12, 13) \t\n",
      "(13, 14)  \n",
      "(14, 15) i\n",
      "(15, 16) n\n",
      "(16, 17)  \n",
      "(18, 19)  \n",
      "(19, 20) S\n",
      "(20, 21) p\n",
      "(21, 22) a\n",
      "(22, 23) i\n",
      "(23, 24) n\n"
     ]
    }
   ],
   "source": [
    "data_2 = \"The rain9345\\t in \\n Spain\"\n",
    "\n",
    "\n",
    "final_data = re.finditer(\".\", data_2)\n",
    "\n",
    "for i in final_data:\n",
    "    print(i.span() , i.group())"
   ]
  },
  {
   "cell_type": "code",
   "execution_count": 72,
   "metadata": {},
   "outputs": [
    {
     "name": "stdout",
     "output_type": "stream",
     "text": [
      "(0, 3) The\n",
      "(3, 6)  ra\n",
      "(6, 9) in9\n",
      "(9, 12) 345\n",
      "(12, 15)  in\n",
      "(15, 18)  Sp\n",
      "(18, 21) ain\n"
     ]
    }
   ],
   "source": [
    "data_2 = \"The rain9345 in Spain\"\n",
    "\n",
    "\n",
    "final_data = re.finditer(\"...\", data_2)\n",
    "\n",
    "for i in final_data:\n",
    "    print(i.span() , i.group())"
   ]
  },
  {
   "cell_type": "code",
   "execution_count": 37,
   "metadata": {},
   "outputs": [
    {
     "name": "stdout",
     "output_type": "stream",
     "text": [
      "(4, 13) rain9345\t\n"
     ]
    }
   ],
   "source": [
    "data_2 = \"The rain9345\\t in \\n Spain\"\n",
    "\n",
    "\n",
    "final_data = re.finditer(\"rain9345.\", data_2)\n",
    "\n",
    "for i in final_data:\n",
    "    print(i.span() , i.group())"
   ]
  },
  {
   "cell_type": "code",
   "execution_count": 73,
   "metadata": {},
   "outputs": [
    {
     "name": "stdout",
     "output_type": "stream",
     "text": [
      "(0, 1) T\n",
      "(1, 2) h\n",
      "(2, 3) e\n",
      "(4, 5) r\n",
      "(5, 6) a\n",
      "(6, 7) i\n",
      "(7, 8) n\n",
      "(8, 9) 9\n",
      "(9, 10) 3\n",
      "(10, 11) 4\n",
      "(11, 12) 5\n",
      "(15, 16) i\n",
      "(16, 17) n\n",
      "(20, 21) S\n",
      "(21, 22) p\n",
      "(22, 23) a\n",
      "(23, 24) i\n",
      "(24, 25) n\n"
     ]
    }
   ],
   "source": [
    "data_2 = \"The rain9345\\t@ in \\n Spain\"\n",
    "\n",
    "\n",
    "final_data = re.finditer(r\"\\w\", data_2)\n",
    "\n",
    "for i in final_data:\n",
    "    print(i.span() , i.group())"
   ]
  },
  {
   "cell_type": "code",
   "execution_count": 39,
   "metadata": {},
   "outputs": [
    {
     "name": "stdout",
     "output_type": "stream",
     "text": [
      "(2, 3) 9\n",
      "(3, 4) 8\n",
      "(4, 5) 2\n",
      "(6, 7) 4\n",
      "(7, 8) 5\n",
      "(8, 9) 6\n",
      "(10, 11) 2\n",
      "(11, 12) 3\n",
      "(12, 13) 4\n",
      "(13, 14) 5\n",
      "(15, 16) 4\n",
      "(16, 17) 5\n",
      "(17, 18) 6\n",
      "(20, 21) 7\n",
      "(21, 22) 8\n",
      "(22, 23) 3\n",
      "(24, 25) 1\n",
      "(25, 26) 2\n",
      "(26, 27) 6\n",
      "(27, 28) 5\n"
     ]
    }
   ],
   "source": [
    "data_3 = ''' \n",
    "982-456-2345\n",
    "456 -783-1265\n",
    "\n",
    "'''\n",
    "\n",
    "final_data = re.finditer(r\"\\d\", data_3)\n",
    "\n",
    "for i in final_data:\n",
    "    print(i.span() , i.group())"
   ]
  },
  {
   "cell_type": "code",
   "execution_count": 40,
   "metadata": {},
   "outputs": [
    {
     "name": "stdout",
     "output_type": "stream",
     "text": [
      "(2, 5) 982\n",
      "(6, 9) 456\n",
      "(10, 13) 234\n",
      "(15, 18) 456\n",
      "(20, 23) 783\n",
      "(24, 27) 126\n",
      "(29, 32) 789\n",
      "(33, 36) 896\n",
      "(37, 40) 456\n",
      "(41, 44) 456\n",
      "(45, 48) 478\n",
      "(49, 52) 789\n"
     ]
    }
   ],
   "source": [
    "data_3 = ''' \n",
    "982-456-2345\n",
    "456 -783-1265\n",
    "789.896.456\n",
    "456-478-789\n",
    "'''\n",
    "\n",
    "final_data = re.finditer(r\"\\d\\d\\d\", data_3)\n",
    "\n",
    "for i in final_data:\n",
    "    print(i.span() , i.group())"
   ]
  },
  {
   "cell_type": "code",
   "execution_count": 41,
   "metadata": {},
   "outputs": [
    {
     "name": "stdout",
     "output_type": "stream",
     "text": [
      "(2, 6) 982-\n",
      "(6, 10) 456-\n",
      "(20, 24) 783-\n",
      "(41, 45) 456-\n",
      "(45, 49) 478-\n"
     ]
    }
   ],
   "source": [
    "data_3 = ''' \n",
    "982-456-2345\n",
    "456 -783-1265\n",
    "789.896.456\n",
    "456-478-789\n",
    "'''\n",
    "\n",
    "final_data = re.finditer(r\"\\d\\d\\d-\", data_3)\n",
    "\n",
    "for i in final_data:\n",
    "    print(i.span() , i.group())"
   ]
  },
  {
   "cell_type": "code",
   "execution_count": 42,
   "metadata": {},
   "outputs": [
    {
     "name": "stdout",
     "output_type": "stream",
     "text": [
      "(15, 24) 456 -783-\n"
     ]
    }
   ],
   "source": [
    "data_3 = ''' \n",
    "982-456-2345\n",
    "456 -783-1265\n",
    "789.896.456\n",
    "456*478*789\n",
    "'''\n",
    "\n",
    "final_data = re.finditer(r\"\\d\\d\\d -\\d\\d\\d-\", data_3)\n",
    "\n",
    "for i in final_data:\n",
    "    print(i.span() , i.group())"
   ]
  },
  {
   "cell_type": "code",
   "execution_count": 74,
   "metadata": {},
   "outputs": [
    {
     "name": "stdout",
     "output_type": "stream",
     "text": [
      "(2, 13) 982-456-234\n",
      "(15, 26) 456-783-126\n",
      "(28, 39) 789.896.456\n",
      "(40, 51) 456*478*789\n"
     ]
    }
   ],
   "source": [
    "data_3 = ''' \n",
    "982-456-2345\n",
    "456-783-1265\n",
    "789.896.456\n",
    "456*478*789\n",
    "'''\n",
    "\n",
    "final_data = re.finditer(r\"\\d\\d\\d(-|.)\\d\\d\\d(-|.)\\d\\d\\d\", data_3)\n",
    "\n",
    "for i in final_data:\n",
    "    print(i.span() , i.group())"
   ]
  },
  {
   "cell_type": "code",
   "execution_count": 44,
   "metadata": {},
   "outputs": [
    {
     "name": "stdout",
     "output_type": "stream",
     "text": [
      "(2, 13) 982-456-234\n",
      "(29, 40) 789.896.456\n",
      "(41, 52) 456*478*789\n"
     ]
    }
   ],
   "source": [
    "data_3 = ''' \n",
    "982-456-2345\n",
    "456 -783-1265\n",
    "789.896.456\n",
    "456*478*789\n",
    "'''\n",
    "\n",
    "final_data = re.finditer(r\"\\d\\d\\d(-|\\.|\\*)\\d\\d\\d(-|.)\\d\\d\\d\", data_3)\n",
    "\n",
    "for i in final_data:\n",
    "    print(i.span() , i.group())"
   ]
  },
  {
   "cell_type": "code",
   "execution_count": 45,
   "metadata": {},
   "outputs": [
    {
     "name": "stdout",
     "output_type": "stream",
     "text": [
      "(2, 13) 982-456-234\n",
      "(15, 26) 456-783-126\n",
      "(28, 39) 789.896.456\n",
      "(40, 51) 456*478*789\n"
     ]
    }
   ],
   "source": [
    "data_3 = ''' \n",
    "982-456-2345\n",
    "456-783-1265\n",
    "789.896.456\n",
    "456*478*789\n",
    "'''\n",
    "\n",
    "final_data = re.finditer(r\"\\d{3}(-|\\.|\\*)\\d{3}(-|.)\\d{3}\", data_3)\n",
    "\n",
    "for i in final_data:\n",
    "    print(i.span() , i.group())"
   ]
  },
  {
   "cell_type": "code",
   "execution_count": 46,
   "metadata": {},
   "outputs": [
    {
     "name": "stdout",
     "output_type": "stream",
     "text": [
      "(2, 13) 982-456-234\n",
      "(15, 26) 456-783-126\n",
      "(30, 41) 789.896.456\n",
      "(42, 53) 456*478*789\n"
     ]
    }
   ],
   "source": [
    "data_3 = ''' \n",
    "982-456-2345\n",
    "456-783-126578\n",
    "789.896.456\n",
    "456*478*789\n",
    "'''\n",
    "\n",
    "final_data = re.finditer(r\"\\d{3}(-|\\.|\\*)\\d{3}(-|\\.|\\*)\\d{3}\", data_3)\n",
    "\n",
    "for i in final_data:\n",
    "    print(i.span() , i.group())"
   ]
  },
  {
   "cell_type": "code",
   "execution_count": 47,
   "metadata": {},
   "outputs": [
    {
     "name": "stdout",
     "output_type": "stream",
     "text": [
      "(2, 14) 982-456-2345\n",
      "(15, 29) 456-783-126578\n",
      "(32, 43) 789.896.456\n",
      "(44, 55) 456*478*789\n"
     ]
    }
   ],
   "source": [
    "data_3 = ''' \n",
    "982-456-2345\n",
    "456-783-12657889\n",
    "789.896.456\n",
    "456*478*789\n",
    "'''\n",
    "\n",
    "final_data = re.finditer(r\"\\d{3}(-|\\.|\\*)\\d{3}(-|\\.|\\*)\\d{3,6}\", data_3)\n",
    "\n",
    "for i in final_data:\n",
    "    print(i.span() , i.group())"
   ]
  },
  {
   "cell_type": "code",
   "execution_count": 48,
   "metadata": {},
   "outputs": [
    {
     "name": "stdout",
     "output_type": "stream",
     "text": [
      "(1, 2) M\n",
      "(10, 11) M\n",
      "(19, 20) M\n",
      "(31, 32) M\n",
      "(38, 39) M\n"
     ]
    }
   ],
   "source": [
    "new_data = \"\"\"\n",
    "Mr.Devin\n",
    "Mr.Smith\n",
    "Mr.Robinson\n",
    "Mr.Bob\n",
    "Mr.P\n",
    "\"\"\"\n",
    "\n",
    "\n",
    "final_data = re.finditer(r\"M\" , new_data)\n",
    "\n",
    "for i in final_data:\n",
    "    print(i.span() , i.group())"
   ]
  },
  {
   "cell_type": "code",
   "execution_count": 49,
   "metadata": {},
   "outputs": [
    {
     "name": "stdout",
     "output_type": "stream",
     "text": [
      "(1, 4) Mr.\n",
      "(32, 35) Mr.\n"
     ]
    }
   ],
   "source": [
    "new_data = \"\"\"\n",
    "Mr.Devin\n",
    "Mr Smith\n",
    "Mrs.Robinson\n",
    "Mr.Bob\n",
    "Mr P\n",
    "\"\"\"\n",
    "\n",
    "\n",
    "final_data = re.finditer(r\"Mr\\.\" , new_data)\n",
    "\n",
    "for i in final_data:\n",
    "    print(i.span() , i.group())"
   ]
  },
  {
   "cell_type": "code",
   "execution_count": 50,
   "metadata": {},
   "outputs": [
    {
     "name": "stdout",
     "output_type": "stream",
     "text": [
      "(1, 4) Mr.\n",
      "(10, 12) Mr\n",
      "(19, 21) Mr\n",
      "(32, 35) Mr.\n",
      "(39, 41) Mr\n"
     ]
    }
   ],
   "source": [
    "new_data = \"\"\"\n",
    "Mr.Devin\n",
    "Mr Smith\n",
    "Mrs.Robinson\n",
    "Mr.Bob\n",
    "Mr P\n",
    "\"\"\"\n",
    "\n",
    "\n",
    "final_data = re.finditer(r\"Mr\\.?\" , new_data)\n",
    "\n",
    "for i in final_data:\n",
    "    print(i.span() , i.group())"
   ]
  },
  {
   "cell_type": "code",
   "execution_count": 51,
   "metadata": {},
   "outputs": [
    {
     "name": "stdout",
     "output_type": "stream",
     "text": [
      "(10, 13) Mr \n",
      "(39, 42) Mr \n"
     ]
    }
   ],
   "source": [
    "new_data = \"\"\"\n",
    "Mr.Devin\n",
    "Mr Smith\n",
    "Mrs.Robinson\n",
    "Mr.Bob\n",
    "Mr P \n",
    "\"\"\"\n",
    "\n",
    "\n",
    "final_data = re.finditer(r\"Mr\\.?\\s\" , new_data)\n",
    "\n",
    "for i in final_data:\n",
    "    print(i.span() , i.group())"
   ]
  },
  {
   "cell_type": "code",
   "execution_count": 3,
   "metadata": {},
   "outputs": [],
   "source": [
    "import re\n",
    "\n",
    "new_data = \"\"\"\n",
    "Mr. Devin\n",
    "Mr Smith\n",
    "Mrs.Robinson\n",
    "Mr.Bob\n",
    "Mr P\n",
    "\"\"\"\n",
    "\n",
    "\n",
    "final_data = re.finditer(r\"Mr\\.?\\s[a-z]\" , new_data)\n",
    "\n",
    "for i in final_data:\n",
    "    print(i.span() , i.group())"
   ]
  },
  {
   "cell_type": "code",
   "execution_count": 53,
   "metadata": {},
   "outputs": [
    {
     "name": "stdout",
     "output_type": "stream",
     "text": [
      "(1, 8) Mr. Dev\n",
      "(11, 17) Mr Smi\n"
     ]
    }
   ],
   "source": [
    "new_data = \"\"\"\n",
    "Mr. Devin\n",
    "Mr Smith\n",
    "Mrs.Robinson\n",
    "Mr.Bob\n",
    "Mr P\n",
    "\"\"\"\n",
    "\n",
    "\n",
    "final_data = re.finditer(r\"Mr\\.?\\s[A-Z]\\w\\w\" , new_data)\n",
    "\n",
    "for i in final_data:\n",
    "    print(i.span() , i.group())"
   ]
  },
  {
   "cell_type": "code",
   "execution_count": 54,
   "metadata": {},
   "outputs": [
    {
     "name": "stdout",
     "output_type": "stream",
     "text": [
      "(1, 10) Mr. Devin\n",
      "(11, 19) Mr Smith\n",
      "(40, 44) Mr P\n"
     ]
    }
   ],
   "source": [
    "new_data = \"\"\"\n",
    "Mr. Devin\n",
    "Mr Smith\n",
    "Mrs.Robinson\n",
    "Mr.Bob\n",
    "Mr P\n",
    "\"\"\"\n",
    "\n",
    "\n",
    "final_data = re.finditer(r\"Mr\\.?\\s[A-Z]\\w{0,6}\" , new_data)\n",
    "\n",
    "for i in final_data:\n",
    "    print(i.span() , i.group())"
   ]
  },
  {
   "cell_type": "code",
   "execution_count": 55,
   "metadata": {},
   "outputs": [
    {
     "name": "stdout",
     "output_type": "stream",
     "text": [
      "(1, 10) Mr. Devin\n",
      "(11, 19) Mr Smith\n"
     ]
    }
   ],
   "source": [
    "new_data = \"\"\"\n",
    "Mr. Devin\n",
    "Mr Smith\n",
    "Mrs.Robinson\n",
    "Mr.Bob\n",
    "Mr P\n",
    "\"\"\"\n",
    "\n",
    "\n",
    "final_data = re.finditer(r\"Mr\\.?\\s[A-Z]\\w+\" , new_data)\n",
    "\n",
    "for i in final_data:\n",
    "    print(i.span() , i.group())"
   ]
  },
  {
   "cell_type": "code",
   "execution_count": 56,
   "metadata": {},
   "outputs": [
    {
     "name": "stdout",
     "output_type": "stream",
     "text": [
      "(1, 10) Mr. Devin\n",
      "(11, 19) Mr Smith\n",
      "(40, 44) Mr P\n"
     ]
    }
   ],
   "source": [
    "new_data = \"\"\"\n",
    "Mr. Devin\n",
    "Mr Smith\n",
    "Mrs.Robinson\n",
    "Ms.Bob\n",
    "Mr P\n",
    "\"\"\"\n",
    "\n",
    "final_data = re.finditer(r\"Mr\\.?\\s[A-Z]\\w*\" , new_data)\n",
    "\n",
    "for i in final_data:\n",
    "    print(i.span() , i.group())"
   ]
  },
  {
   "cell_type": "code",
   "execution_count": 57,
   "metadata": {},
   "outputs": [
    {
     "name": "stdout",
     "output_type": "stream",
     "text": [
      "(1, 10) Mr. Devin\n",
      "(11, 19) Mr Smith\n",
      "(20, 33) Mrs. Robinson\n",
      "(34, 40) Ms Bob\n",
      "(41, 45) Mr P\n"
     ]
    }
   ],
   "source": [
    "new_data = \"\"\"\n",
    "Mr. Devin\n",
    "Mr Smith\n",
    "Mrs. Robinson\n",
    "Ms Bob\n",
    "Mr P\n",
    "\"\"\"\n",
    "\n",
    "final_data = re.finditer(r\"(Mr|Mrs|Ms)\\.?\\s[A-Z]\\w*\" , new_data)\n",
    "\n",
    "for i in final_data:\n",
    "    print(i.span() , i.group())"
   ]
  },
  {
   "cell_type": "code",
   "execution_count": 58,
   "metadata": {},
   "outputs": [
    {
     "name": "stdout",
     "output_type": "stream",
     "text": [
      "(1, 5) http\n",
      "(24, 28) http\n",
      "(42, 46) http\n",
      "(62, 66) http\n"
     ]
    }
   ],
   "source": [
    "webdata = \"\"\"\n",
    "https://www.google.com\n",
    "http://mysite.com\n",
    "https://youtube.com\n",
    "https://www.nasa.gov\n",
    "\"\"\"\n",
    "\n",
    "final_data = re.finditer(r\"http\" , webdata)\n",
    "\n",
    "for i in final_data:\n",
    "    print(i.span() , i.group())"
   ]
  },
  {
   "cell_type": "code",
   "execution_count": 59,
   "metadata": {},
   "outputs": [
    {
     "name": "stdout",
     "output_type": "stream",
     "text": [
      "(1, 9) https://\n",
      "(24, 31) http://\n",
      "(42, 50) https://\n",
      "(62, 70) https://\n"
     ]
    }
   ],
   "source": [
    "webdata = \"\"\"\n",
    "https://www.google.com\n",
    "http://mysite.com\n",
    "https://youtube.com\n",
    "https://www.nasa.gov\n",
    "\"\"\"\n",
    "\n",
    "final_data = re.finditer(r\"https?://\" , webdata)\n",
    "\n",
    "for i in final_data:\n",
    "    print(i.span() , i.group())"
   ]
  },
  {
   "cell_type": "code",
   "execution_count": 60,
   "metadata": {},
   "outputs": [
    {
     "name": "stdout",
     "output_type": "stream",
     "text": [
      "(1, 12) https://www\n",
      "(62, 73) https://www\n"
     ]
    }
   ],
   "source": [
    "webdata = \"\"\"\n",
    "https://www.google.com\n",
    "http://mysite.com\n",
    "https://youtube.com\n",
    "https://www.nasa.gov\n",
    "\"\"\"\n",
    "\n",
    "final_data = re.finditer(r\"https?://w{3}\" , webdata)\n",
    "\n",
    "for i in final_data:\n",
    "    print(i.span() , i.group())"
   ]
  },
  {
   "cell_type": "code",
   "execution_count": 61,
   "metadata": {},
   "outputs": [
    {
     "name": "stdout",
     "output_type": "stream",
     "text": [
      "(1, 13) https://www.\n",
      "(62, 74) https://www.\n"
     ]
    }
   ],
   "source": [
    "webdata = \"\"\"\n",
    "https://www.google.com\n",
    "http://mysite.com\n",
    "https://youtube.com\n",
    "https://www.nasa.gov\n",
    "\"\"\"\n",
    "\n",
    "final_data = re.finditer(r\"https?://www\\.\" , webdata)\n",
    "\n",
    "for i in final_data:\n",
    "    print(i.span() , i.group())"
   ]
  },
  {
   "cell_type": "code",
   "execution_count": null,
   "metadata": {},
   "outputs": [],
   "source": []
  },
  {
   "cell_type": "code",
   "execution_count": 62,
   "metadata": {},
   "outputs": [
    {
     "name": "stdout",
     "output_type": "stream",
     "text": [
      "(1, 23) https://www.google.com\n",
      "(62, 82) https://www.nasa.gov\n"
     ]
    }
   ],
   "source": [
    "webdata = \"\"\"\n",
    "https://www.google.com\n",
    "http://mysite.com\n",
    "https://youtube.com\n",
    "https://www.nasa.gov\n",
    "\"\"\"\n",
    "\n",
    "final_data = re.finditer(r\"https?://www\\.\\w+\\.(com|gov|in)\" , webdata)\n",
    "\n",
    "for i in final_data:\n",
    "    print(i.span() , i.group())"
   ]
  },
  {
   "cell_type": "code",
   "execution_count": 63,
   "metadata": {},
   "outputs": [
    {
     "name": "stdout",
     "output_type": "stream",
     "text": [
      "(1, 23) https://www.google.com\n",
      "(24, 41) http://mysite.com\n",
      "(42, 61) https://youtube.com\n",
      "(62, 82) https://www.nasa.gov\n"
     ]
    }
   ],
   "source": [
    "webdata = \"\"\"\n",
    "https://www.google.com\n",
    "http://mysite.com\n",
    "https://youtube.com\n",
    "https://www.nasa.gov\n",
    "\"\"\"\n",
    "\n",
    "final_data = re.finditer(r\"https?://(www\\.)?\\w+\\.(com|gov)\" , webdata)\n",
    "\n",
    "for i in final_data:\n",
    "    print(i.span() , i.group())"
   ]
  },
  {
   "cell_type": "code",
   "execution_count": 76,
   "metadata": {},
   "outputs": [
    {
     "name": "stdout",
     "output_type": "stream",
     "text": [
      "(1, 9) redwhite\n",
      "(10, 15) gmail\n",
      "(16, 19) com\n",
      "(20, 28) RedWhite\n",
      "(29, 34) gmail\n",
      "(35, 38) com\n",
      "(39, 42) red\n",
      "(43, 48) white\n",
      "(49, 52) uni\n",
      "(53, 56) edu\n",
      "(57, 60) red\n",
      "(65, 70) white\n",
      "(71, 73) my\n",
      "(74, 80) custom\n",
      "(81, 84) net\n"
     ]
    }
   ],
   "source": [
    "email_data = \"\"\"\n",
    "redwhite@gmail.com\n",
    "RedWhite@gmail.com\n",
    "red.white@uni.edu\n",
    "red-756-white@my-custom.net\n",
    "\"\"\"\n",
    "\n",
    "final_data = re.finditer(r\"[a-zA-Z]+\" , email_data)\n",
    "\n",
    "for i in final_data:\n",
    "    print(i.span() , i.group())"
   ]
  },
  {
   "cell_type": "code",
   "execution_count": 7,
   "metadata": {},
   "outputs": [
    {
     "name": "stdout",
     "output_type": "stream",
     "text": [
      "(1, 9) redwhite\n",
      "(10, 19) gmail.com\n",
      "(20, 28) RedWhite\n",
      "(29, 38) gmail.com\n",
      "(39, 48) red.white\n",
      "(49, 56) uni.edu\n",
      "(57, 61) red-\n",
      "(64, 70) -white\n",
      "(71, 84) my-custom.net\n"
     ]
    }
   ],
   "source": [
    "email_data = \"\"\"\n",
    "redwhite@gmail.com\n",
    "RedWhite@gmail.com\n",
    "red.white@uni.edu\n",
    "red-756-white@my-custom.net\n",
    "\"\"\"\n",
    "\n",
    "final_data = re.finditer(r\"[A-Z0a-z-9.]+\" , email_data)\n",
    "\n",
    "for i in final_data:\n",
    "    print(i.span() , i.group())"
   ]
  },
  {
   "cell_type": "code",
   "execution_count": 66,
   "metadata": {},
   "outputs": [
    {
     "name": "stdout",
     "output_type": "stream",
     "text": [
      "(1, 19) redwhite@gmail.com\n",
      "(20, 38) RedWhite@gmail.com\n",
      "(39, 56) red.white@uni.edu\n"
     ]
    }
   ],
   "source": [
    "email_data = \"\"\"\n",
    "redwhite@gmail.com\n",
    "RedWhite@gmail.com\n",
    "red.white@uni.edu\n",
    "red-756-white@my-custom.net\n",
    "\"\"\"\n",
    "\n",
    "final_data = re.finditer(r\"[a-zA-Z0-9.-]+@\\w+.(com|edu)\" , email_data)\n",
    "\n",
    "for i in final_data:\n",
    "    print(i.span() , i.group())"
   ]
  },
  {
   "cell_type": "code",
   "execution_count": 67,
   "metadata": {},
   "outputs": [
    {
     "name": "stdout",
     "output_type": "stream",
     "text": [
      "(1, 19) redwhite@gmail.com\n",
      "(20, 38) RedWhite@gmail.com\n",
      "(39, 56) red.white@uni.edu\n",
      "(57, 84) red-756-white@my-custom.net\n"
     ]
    }
   ],
   "source": [
    "email_data = \"\"\"\n",
    "redwhite@gmail.com\n",
    "RedWhite@gmail.com\n",
    "red.white@uni.edu\n",
    "red-756-white@my-custom.net\n",
    "\"\"\"\n",
    "\n",
    "final_data = re.finditer(r\"[a-zA-Z0-9.-]+@[a-zA-Z0-9.-]+\\.(com|net|edu)\" , email_data)\n",
    "\n",
    "for i in final_data:\n",
    "    print(i.span() , i.group())"
   ]
  },
  {
   "cell_type": "code",
   "execution_count": 68,
   "metadata": {},
   "outputs": [
    {
     "name": "stdout",
     "output_type": "stream",
     "text": [
      "(1, 19) redwhite@gmail.com\n",
      "(20, 38) RedWhite@gmail.com\n",
      "(39, 56) red.white@uni.edu\n",
      "(57, 84) red-756-white@my-custom.net\n"
     ]
    }
   ],
   "source": [
    "email_data = \"\"\"\n",
    "redwhite@gmail.com\n",
    "RedWhite@gmail.com\n",
    "red.white@uni.edu\n",
    "red-756-white@my-custom.net\n",
    "\"\"\"\n",
    "\n",
    "final_data = re.finditer(r\"[a-zA-Z0-9.-]+@[a-zA-Z0-9.-]+\\.\\w+\" , email_data)\n",
    "\n",
    "for i in final_data:\n",
    "    print(i.span() , i.group())"
   ]
  },
  {
   "cell_type": "code",
   "execution_count": 69,
   "metadata": {},
   "outputs": [
    {
     "name": "stdout",
     "output_type": "stream",
     "text": [
      "<re.Match object; span=(0, 13), match='123@gmail.com'>\n",
      "123@gmail.com\n"
     ]
    }
   ],
   "source": [
    "data = input(\"Enter any email:\")\n",
    "\n",
    "pattern  = r\"[a-zA-Z0-9.-]+@[a-zA-Z0-9.-]+\\.\\w+\"\n",
    "\n",
    "ans  = re.search(pattern , data)\n",
    "\n",
    "print(ans)\n",
    "\n",
    "print(ans.group())"
   ]
  },
  {
   "cell_type": "code",
   "execution_count": 70,
   "metadata": {},
   "outputs": [
    {
     "ename": "KeyboardInterrupt",
     "evalue": "Interrupted by user",
     "output_type": "error",
     "traceback": [
      "\u001b[1;31m---------------------------------------------------------------------------\u001b[0m",
      "\u001b[1;31mKeyboardInterrupt\u001b[0m                         Traceback (most recent call last)",
      "Cell \u001b[1;32mIn[70], line 1\u001b[0m\n\u001b[1;32m----> 1\u001b[0m data \u001b[38;5;241m=\u001b[39m \u001b[38;5;28;43minput\u001b[39;49m\u001b[43m(\u001b[49m\u001b[38;5;124;43m\"\u001b[39;49m\u001b[38;5;124;43mEnter any email:\u001b[39;49m\u001b[38;5;124;43m\"\u001b[39;49m\u001b[43m)\u001b[49m   \u001b[38;5;66;03m# #re.sf@dfg.cxv\u001b[39;00m\n\u001b[0;32m      3\u001b[0m pattern  \u001b[38;5;241m=\u001b[39m \u001b[38;5;124mr\u001b[39m\u001b[38;5;124m\"\u001b[39m\u001b[38;5;124m[a-zA-Z0-9.-]+@[a-zA-Z0-9.-]+\u001b[39m\u001b[38;5;124m\\\u001b[39m\u001b[38;5;124m.\u001b[39m\u001b[38;5;124m\\\u001b[39m\u001b[38;5;124mw+\u001b[39m\u001b[38;5;124m\"\u001b[39m\n\u001b[0;32m      5\u001b[0m ans  \u001b[38;5;241m=\u001b[39m re\u001b[38;5;241m.\u001b[39mfindall(pattern , data)\n",
      "File \u001b[1;32me:\\Material\\Python\\rnw\\Lib\\site-packages\\ipykernel\\kernelbase.py:1261\u001b[0m, in \u001b[0;36mKernel.raw_input\u001b[1;34m(self, prompt)\u001b[0m\n\u001b[0;32m   1259\u001b[0m     msg \u001b[38;5;241m=\u001b[39m \u001b[38;5;124m\"\u001b[39m\u001b[38;5;124mraw_input was called, but this frontend does not support input requests.\u001b[39m\u001b[38;5;124m\"\u001b[39m\n\u001b[0;32m   1260\u001b[0m     \u001b[38;5;28;01mraise\u001b[39;00m StdinNotImplementedError(msg)\n\u001b[1;32m-> 1261\u001b[0m \u001b[38;5;28;01mreturn\u001b[39;00m \u001b[38;5;28;43mself\u001b[39;49m\u001b[38;5;241;43m.\u001b[39;49m\u001b[43m_input_request\u001b[49m\u001b[43m(\u001b[49m\n\u001b[0;32m   1262\u001b[0m \u001b[43m    \u001b[49m\u001b[38;5;28;43mstr\u001b[39;49m\u001b[43m(\u001b[49m\u001b[43mprompt\u001b[49m\u001b[43m)\u001b[49m\u001b[43m,\u001b[49m\n\u001b[0;32m   1263\u001b[0m \u001b[43m    \u001b[49m\u001b[38;5;28;43mself\u001b[39;49m\u001b[38;5;241;43m.\u001b[39;49m\u001b[43m_parent_ident\u001b[49m\u001b[43m[\u001b[49m\u001b[38;5;124;43m\"\u001b[39;49m\u001b[38;5;124;43mshell\u001b[39;49m\u001b[38;5;124;43m\"\u001b[39;49m\u001b[43m]\u001b[49m\u001b[43m,\u001b[49m\n\u001b[0;32m   1264\u001b[0m \u001b[43m    \u001b[49m\u001b[38;5;28;43mself\u001b[39;49m\u001b[38;5;241;43m.\u001b[39;49m\u001b[43mget_parent\u001b[49m\u001b[43m(\u001b[49m\u001b[38;5;124;43m\"\u001b[39;49m\u001b[38;5;124;43mshell\u001b[39;49m\u001b[38;5;124;43m\"\u001b[39;49m\u001b[43m)\u001b[49m\u001b[43m,\u001b[49m\n\u001b[0;32m   1265\u001b[0m \u001b[43m    \u001b[49m\u001b[43mpassword\u001b[49m\u001b[38;5;241;43m=\u001b[39;49m\u001b[38;5;28;43;01mFalse\u001b[39;49;00m\u001b[43m,\u001b[49m\n\u001b[0;32m   1266\u001b[0m \u001b[43m\u001b[49m\u001b[43m)\u001b[49m\n",
      "File \u001b[1;32me:\\Material\\Python\\rnw\\Lib\\site-packages\\ipykernel\\kernelbase.py:1304\u001b[0m, in \u001b[0;36mKernel._input_request\u001b[1;34m(self, prompt, ident, parent, password)\u001b[0m\n\u001b[0;32m   1301\u001b[0m \u001b[38;5;28;01mexcept\u001b[39;00m \u001b[38;5;167;01mKeyboardInterrupt\u001b[39;00m:\n\u001b[0;32m   1302\u001b[0m     \u001b[38;5;66;03m# re-raise KeyboardInterrupt, to truncate traceback\u001b[39;00m\n\u001b[0;32m   1303\u001b[0m     msg \u001b[38;5;241m=\u001b[39m \u001b[38;5;124m\"\u001b[39m\u001b[38;5;124mInterrupted by user\u001b[39m\u001b[38;5;124m\"\u001b[39m\n\u001b[1;32m-> 1304\u001b[0m     \u001b[38;5;28;01mraise\u001b[39;00m \u001b[38;5;167;01mKeyboardInterrupt\u001b[39;00m(msg) \u001b[38;5;28;01mfrom\u001b[39;00m \u001b[38;5;28;01mNone\u001b[39;00m\n\u001b[0;32m   1305\u001b[0m \u001b[38;5;28;01mexcept\u001b[39;00m \u001b[38;5;167;01mException\u001b[39;00m:\n\u001b[0;32m   1306\u001b[0m     \u001b[38;5;28mself\u001b[39m\u001b[38;5;241m.\u001b[39mlog\u001b[38;5;241m.\u001b[39mwarning(\u001b[38;5;124m\"\u001b[39m\u001b[38;5;124mInvalid Message:\u001b[39m\u001b[38;5;124m\"\u001b[39m, exc_info\u001b[38;5;241m=\u001b[39m\u001b[38;5;28;01mTrue\u001b[39;00m)\n",
      "\u001b[1;31mKeyboardInterrupt\u001b[0m: Interrupted by user"
     ]
    }
   ],
   "source": [
    "data = input(\"Enter any email:\")   # #re.sf@dfg.cxv\n",
    "\n",
    "pattern  = r\"[a-zA-Z0-9.-]+@[a-zA-Z0-9.-]+\\.\\w+\"\n",
    "\n",
    "ans  = re.findall(pattern , data)\n",
    "\n",
    "print(ans)\n"
   ]
  },
  {
   "cell_type": "code",
   "execution_count": 17,
   "metadata": {},
   "outputs": [
    {
     "name": "stdout",
     "output_type": "stream",
     "text": [
      "[]\n"
     ]
    }
   ],
   "source": [
    "data = input(\"Enter any email:\")   # #re.sf@dfg.cxv\n",
    "\n",
    "pattern  = r\"^[a-zA-Z0-9.-]+@[a-zA-Z0-9.-]+\\.\\w+\"\n",
    "\n",
    "ans  = re.findall(pattern , data)\n",
    "\n",
    "print(ans)"
   ]
  },
  {
   "cell_type": "code",
   "execution_count": 1,
   "metadata": {},
   "outputs": [
    {
     "name": "stdout",
     "output_type": "stream",
     "text": [
      "['__breakpointhook__', '__displayhook__', '__doc__', '__excepthook__', '__interactivehook__', '__loader__', '__name__', '__package__', '__spec__', '__stderr__', '__stdin__', '__stdout__', '__unraisablehook__', '_base_executable', '_clear_type_cache', '_current_exceptions', '_current_frames', '_debugmallocstats', '_enablelegacywindowsfsencoding', '_framework', '_getframe', '_getquickenedcount', '_git', '_home', '_stdlib_dir', '_vpath', '_xoptions', 'addaudithook', 'api_version', 'argv', 'audit', 'base_exec_prefix', 'base_prefix', 'breakpointhook', 'builtin_module_names', 'byteorder', 'call_tracing', 'copyright', 'displayhook', 'dllhandle', 'dont_write_bytecode', 'exc_info', 'excepthook', 'exception', 'exec_prefix', 'executable', 'exit', 'flags', 'float_info', 'float_repr_style', 'get_asyncgen_hooks', 'get_coroutine_origin_tracking_depth', 'get_int_max_str_digits', 'getallocatedblocks', 'getdefaultencoding', 'getfilesystemencodeerrors', 'getfilesystemencoding', 'getprofile', 'getrecursionlimit', 'getrefcount', 'getsizeof', 'getswitchinterval', 'gettrace', 'getwindowsversion', 'hash_info', 'hexversion', 'implementation', 'int_info', 'intern', 'is_finalizing', 'maxsize', 'maxunicode', 'meta_path', 'modules', 'orig_argv', 'path', 'path_hooks', 'path_importer_cache', 'platform', 'platlibdir', 'prefix', 'ps1', 'ps2', 'ps3', 'pycache_prefix', 'set_asyncgen_hooks', 'set_coroutine_origin_tracking_depth', 'set_int_max_str_digits', 'setprofile', 'setrecursionlimit', 'setswitchinterval', 'settrace', 'stderr', 'stdin', 'stdlib_module_names', 'stdout', 'thread_info', 'unraisablehook', 'version', 'version_info', 'warnoptions', 'winver']\n"
     ]
    }
   ],
   "source": [
    "# Command Line Argument (CLA)\n",
    "\n",
    "import sys\n",
    "\n",
    "\n",
    "print(dir(sys))"
   ]
  },
  {
   "cell_type": "code",
   "execution_count": 2,
   "metadata": {},
   "outputs": [
    {
     "data": {
      "text/plain": [
       "'3.11.4 | packaged by Anaconda, Inc. | (main, Jul  5 2023, 13:38:37) [MSC v.1916 64 bit (AMD64)]'"
      ]
     },
     "execution_count": 2,
     "metadata": {},
     "output_type": "execute_result"
    }
   ],
   "source": [
    "sys.version"
   ]
  },
  {
   "cell_type": "code",
   "execution_count": 3,
   "metadata": {},
   "outputs": [
    {
     "data": {
      "text/plain": [
       "sys.version_info(major=3, minor=11, micro=4, releaselevel='final', serial=0)"
      ]
     },
     "execution_count": 3,
     "metadata": {},
     "output_type": "execute_result"
    }
   ],
   "source": [
    "sys.version_info"
   ]
  },
  {
   "cell_type": "code",
   "execution_count": 4,
   "metadata": {},
   "outputs": [
    {
     "data": {
      "text/plain": [
       "['e:\\\\Material\\\\Python\\\\9.Regular Expression (RegEx) and Command Line Argument (CLA)',\n",
       " 'c:\\\\ProgramData\\\\anaconda3\\\\python311.zip',\n",
       " 'c:\\\\ProgramData\\\\anaconda3\\\\DLLs',\n",
       " 'c:\\\\ProgramData\\\\anaconda3\\\\Lib',\n",
       " 'c:\\\\ProgramData\\\\anaconda3',\n",
       " 'e:\\\\Material\\\\Python\\\\rnw',\n",
       " '',\n",
       " 'e:\\\\Material\\\\Python\\\\rnw\\\\Lib\\\\site-packages',\n",
       " 'e:\\\\Material\\\\Python\\\\rnw\\\\Lib\\\\site-packages\\\\win32',\n",
       " 'e:\\\\Material\\\\Python\\\\rnw\\\\Lib\\\\site-packages\\\\win32\\\\lib',\n",
       " 'e:\\\\Material\\\\Python\\\\rnw\\\\Lib\\\\site-packages\\\\Pythonwin']"
      ]
     },
     "execution_count": 4,
     "metadata": {},
     "output_type": "execute_result"
    }
   ],
   "source": [
    "sys.path"
   ]
  },
  {
   "cell_type": "code",
   "execution_count": 5,
   "metadata": {},
   "outputs": [
    {
     "data": {
      "text/plain": [
       "['e:\\\\Material\\\\Python\\\\rnw\\\\Lib\\\\site-packages\\\\ipykernel_launcher.py',\n",
       " '--f=c:\\\\Users\\\\vaish\\\\AppData\\\\Roaming\\\\jupyter\\\\runtime\\\\kernel-v3286534041843f6a5f87f0aada8429e9fe1a71398.json']"
      ]
     },
     "execution_count": 5,
     "metadata": {},
     "output_type": "execute_result"
    }
   ],
   "source": [
    "sys.argv"
   ]
  },
  {
   "cell_type": "code",
   "execution_count": null,
   "metadata": {},
   "outputs": [],
   "source": []
  }
 ],
 "metadata": {
  "kernelspec": {
   "display_name": "MIT_PYTHON",
   "language": "python",
   "name": "python3"
  },
  "language_info": {
   "codemirror_mode": {
    "name": "ipython",
    "version": 3
   },
   "file_extension": ".py",
   "mimetype": "text/x-python",
   "name": "python",
   "nbconvert_exporter": "python",
   "pygments_lexer": "ipython3",
   "version": "3.13.1"
  }
 },
 "nbformat": 4,
 "nbformat_minor": 2
}
