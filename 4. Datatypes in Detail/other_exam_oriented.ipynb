{
 "cells": [
  {
   "cell_type": "code",
   "execution_count": 5,
   "metadata": {},
   "outputs": [
    {
     "name": "stdout",
     "output_type": "stream",
     "text": [
      "34\n"
     ]
    }
   ],
   "source": [
    "#que-1\n",
    "#sum of list\n",
    "\n",
    "slist=[1,2,3,4,5,6,7,1,2,3]\n",
    "\n",
    "print(sum(slist))"
   ]
  },
  {
   "cell_type": "code",
   "execution_count": 6,
   "metadata": {},
   "outputs": [
    {
     "name": "stdout",
     "output_type": "stream",
     "text": [
      "[1, 2, 3, 4, 5, 6, 7, 1, 2, 3]\n",
      "max value: 7\n"
     ]
    }
   ],
   "source": [
    "#que-2\n",
    "#largest number from list\n",
    "\n",
    "print(slist)\n",
    "print(\"max value:\",max(slist))"
   ]
  },
  {
   "cell_type": "code",
   "execution_count": 7,
   "metadata": {},
   "outputs": [
    {
     "name": "stdout",
     "output_type": "stream",
     "text": [
      "[1, 2, 3, 4, 5, 6, 7, 1, 2, 3]\n",
      "unique value: {1, 2, 3, 4, 5, 6, 7}\n"
     ]
    }
   ],
   "source": [
    "#que-3\n",
    "#unique value from list\n",
    "\n",
    "print(slist)\n",
    "print(\"unique value:\",set(slist))"
   ]
  },
  {
   "cell_type": "code",
   "execution_count": 8,
   "metadata": {},
   "outputs": [
    {
     "name": "stdout",
     "output_type": "stream",
     "text": [
      "Original: ['Red', 'Blue']\n",
      "Deepcopy: ['Red', 'Blue', 'Green']\n",
      "Original: ['Red', 'Blue', 'Green']\n",
      "Shallow Copy: ['Red', 'Blue', 'Green']\n"
     ]
    }
   ],
   "source": [
    "#que-4\n",
    "#clone or copy\n",
    "\n",
    "# Python program to illustrate the difference between shallow and deep copy\n",
    "import copy\n",
    "\n",
    "\n",
    "class Car:\n",
    "    def __init__(self, name, colors):\n",
    "        self.name = name\n",
    "        self.colors = colors\n",
    "\n",
    "\n",
    "# Create a Honda car object\n",
    "honda_colors = [\"Red\", \"Blue\"]\n",
    "honda = Car(\"Honda\", honda_colors)\n",
    "\n",
    "# Deepcopy of Honda\n",
    "deepcopy_honda = copy.deepcopy(honda)\n",
    "deepcopy_honda.colors.append(\"Green\")\n",
    "print(\"Original:\", honda.colors)\n",
    "print(\"Deepcopy:\", deepcopy_honda.colors)\n",
    "# print(\"Original:\", honda.colors)\n",
    "\n",
    "# Shallow Copy of Honda\n",
    "copy_honda = copy.copy(honda)\n",
    "copy_honda.colors.append(\"Green\")\n",
    "\n",
    "print(\"Original:\", honda.colors)\n",
    "print(\"Shallow Copy:\", copy_honda.colors)"
   ]
  },
  {
   "cell_type": "code",
   "execution_count": 13,
   "metadata": {},
   "outputs": [
    {
     "name": "stdout",
     "output_type": "stream",
     "text": [
      "Leap year list: [2000, 2004, 2008, 2012, 2016, 2020, 2024, 2028, 2032, 2036, 2040, 2044, 2048, 2052, 2056, 2060, 2064, 2068, 2072, 2076, 2080, 2084, 2088, 2092, 2096, 2100, 2104, 2108, 2112, 2116, 2120, 2124, 2128, 2132, 2136, 2140, 2144, 2148, 2152, 2156, 2160, 2164, 2168, 2172, 2176, 2180, 2184, 2188, 2192, 2196, 2200, 2204, 2208, 2212, 2216, 2220, 2224, 2228, 2232, 2236, 2240, 2244, 2248, 2252, 2256, 2260, 2264, 2268, 2272, 2276, 2280, 2284, 2288, 2292, 2296, 2300, 2304, 2308, 2312, 2316, 2320, 2324, 2328, 2332, 2336, 2340, 2344, 2348, 2352, 2356, 2360, 2364, 2368, 2372, 2376, 2380, 2384, 2388, 2392, 2396, 2400, 2404, 2408, 2412, 2416, 2420, 2424, 2428, 2432, 2436, 2440, 2444, 2448, 2452, 2456, 2460, 2464, 2468, 2472, 2476, 2480, 2484, 2488, 2492, 2496, 2500, 2504, 2508, 2512, 2516, 2520, 2524, 2528, 2532, 2536, 2540, 2544, 2548, 2552, 2556, 2560, 2564, 2568, 2572, 2576, 2580, 2584, 2588, 2592, 2596, 2600, 2604, 2608, 2612, 2616, 2620, 2624, 2628, 2632, 2636, 2640, 2644, 2648, 2652, 2656, 2660, 2664, 2668, 2672, 2676, 2680, 2684, 2688, 2692, 2696, 2700, 2704, 2708, 2712, 2716, 2720, 2724, 2728, 2732, 2736, 2740, 2744, 2748, 2752, 2756, 2760, 2764, 2768, 2772, 2776, 2780, 2784, 2788, 2792, 2796, 2800, 2804, 2808, 2812, 2816, 2820, 2824, 2828, 2832, 2836, 2840, 2844, 2848, 2852, 2856, 2860, 2864, 2868, 2872, 2876, 2880, 2884, 2888, 2892, 2896, 2900, 2904, 2908, 2912, 2916, 2920, 2924, 2928, 2932, 2936, 2940, 2944, 2948, 2952, 2956, 2960, 2964, 2968, 2972, 2976, 2980, 2984, 2988, 2992, 2996]\n"
     ]
    }
   ],
   "source": [
    "#que-5\n",
    "#leap year list\n",
    "\n",
    "leap=[]\n",
    "\n",
    "for i in range(2000,3000):\n",
    "    if (i%400==0 and i%100!=0) or i%4==0:\n",
    "        leap.append(i)\n",
    "\n",
    "print(\"Leap year list:\",leap)"
   ]
  },
  {
   "cell_type": "code",
   "execution_count": null,
   "metadata": {},
   "outputs": [],
   "source": []
  }
 ],
 "metadata": {
  "kernelspec": {
   "display_name": "MIT_PYTHON",
   "language": "python",
   "name": "python3"
  },
  "language_info": {
   "codemirror_mode": {
    "name": "ipython",
    "version": 3
   },
   "file_extension": ".py",
   "mimetype": "text/x-python",
   "name": "python",
   "nbconvert_exporter": "python",
   "pygments_lexer": "ipython3",
   "version": "3.13.1"
  }
 },
 "nbformat": 4,
 "nbformat_minor": 2
}
