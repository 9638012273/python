{
 "cells": [
  {
   "cell_type": "code",
   "execution_count": 58,
   "metadata": {},
   "outputs": [],
   "source": [
    "# labwork-7.1 #\n",
    "#=============#\n",
    "\n",
    "#Question bank link\n",
    "\n",
    "#https://docs.google.com/document/d/1WsLOhWmQyBddDX3Fr63uHmMvjwfKCJZbvetU2Mcd2kM/edit?tab=t.0"
   ]
  },
  {
   "cell_type": "code",
   "execution_count": null,
   "metadata": {},
   "outputs": [],
   "source": [
    "#Que-1\n",
    "# create and write in file\n",
    "\n",
    "f=open(\"sample.txt\",\"+w\")\n",
    "\n",
    "f.write(\"Python is versetile programming lemguage.\")\n",
    "\n",
    "f=open(\"sample.txt\",\"+r\")\n",
    "print(f.read())"
   ]
  },
  {
   "cell_type": "code",
   "execution_count": null,
   "metadata": {},
   "outputs": [],
   "source": [
    "#Que-2\n",
    "# open file and write in file\n",
    "\n",
    "f=open(\"sample.txt\",\"r\")\n",
    "print(f.read())\n",
    "\n",
    "m=open(\"sample.txt\",\"w\")\n",
    "\n",
    "m.write(\"learning file handling in python is fun.\")\n"
   ]
  },
  {
   "cell_type": "code",
   "execution_count": null,
   "metadata": {},
   "outputs": [],
   "source": [
    "#Que-3\n",
    "# open file and print content\n",
    "\n",
    "f=open(\"sample.txt\",\"r\")\n",
    "for i in f:\n",
    "    print(i)"
   ]
  },
  {
   "cell_type": "code",
   "execution_count": 62,
   "metadata": {},
   "outputs": [],
   "source": [
    "#Que-4\n",
    "# open file and write content\n",
    "\n",
    "my_file=open(\"named.txt\",\"w\")\n",
    "\n",
    "my_file.write(\"1. python is easy to learn.\\n2. it has numerious libraries.\\n3. file handling is features of python\")\n",
    "my_file.close()"
   ]
  },
  {
   "cell_type": "code",
   "execution_count": 63,
   "metadata": {},
   "outputs": [],
   "source": [
    "#Que-5\n",
    "# append text in file\n",
    "\n",
    "my_file=open(\"named.txt\",\"+a\")\n",
    "\n",
    "my_file.write(\"\\n4. python supports multiple modes of file handling.\")\n",
    "my_file.close()"
   ]
  },
  {
   "cell_type": "code",
   "execution_count": null,
   "metadata": {},
   "outputs": [],
   "source": [
    "#Que-6\n",
    "# file open in binary mode\n",
    "\n",
    "my_file=open(\"named.txt\",\"rb\")\n",
    "\n",
    "print(my_file.read())\n",
    "my_file.close()"
   ]
  },
  {
   "cell_type": "code",
   "execution_count": null,
   "metadata": {},
   "outputs": [],
   "source": [
    "#Que-7\n",
    "# file open and count words. charecters,and lines\n",
    "\n",
    "my_file=open(\"named.txt\",\"r\")\n",
    "print(my_file.read())\n",
    "\n",
    "my_file.seek(0)\n",
    "\n",
    "line=0\n",
    "char=0\n",
    "word=0\n",
    "\n",
    "for lines in my_file:\n",
    "    line=line+1\n",
    "\n",
    "    total_words=lines.split()\n",
    "    word+=len(total_words)\n",
    "\n",
    "    char+=len(lines)\n",
    "\n",
    "print(f\"Lines:{line}\")\n",
    "print(f\"Words:{word}\")\n",
    "print(f\"Chars:{char}\")\n",
    "\n",
    "my_file.close()\n"
   ]
  },
  {
   "cell_type": "code",
   "execution_count": 73,
   "metadata": {},
   "outputs": [
    {
     "name": "stdout",
     "output_type": "stream",
     "text": [
      "1. python is easy to learn.\n",
      "2. it has numerious libraries.\n",
      "3. file handling is features of python\n",
      "4. python supports multiple modes of file handling.This file was last modified file for file handling in pythonnThis file was last modified file for file handling in pythonnThis file was last modified file for file handling in pythonnThis file was last modified file for file handling in pythonn\n",
      "This file was last modified file for file handling in pythonn\n",
      "This file was last modified file for file handling in pythonn\n"
     ]
    }
   ],
   "source": [
    "#Que-8\n",
    "# file open and read and append some content\n",
    "\n",
    "my_file=open(\"named.txt\",\"r\")\n",
    "print(my_file.read())\n",
    "my_file.close()\n",
    "\n",
    "my_file=open(\"named.txt\",\"a\")\n",
    "my_file.write(\"\\nThis file was last modified file for file handling in pythonn\")\n",
    "my_file.close()\n",
    "\n"
   ]
  },
  {
   "cell_type": "code",
   "execution_count": 80,
   "metadata": {},
   "outputs": [
    {
     "name": "stdout",
     "output_type": "stream",
     "text": [
      "1. python is easy to learn.\n",
      "2. it has numerious libraries.\n",
      "3. file handling is features of python\n",
      "4. python supports multiple modes of file handling.This file was last modified file for file handling in pythonnThis file was last modified file for file handling in pythonnThis file was last modified file for file handling in pythonnThis file was last modified file for file handling in pythonn\n",
      "This file was last modified file for file handling in pythonn\n",
      "This file was last modified file for file handling in pythonn\n",
      "This file was last modified file for file handling in pythonn\n",
      "Word found...\n",
      "Not found....\n",
      "Word found...\n",
      "Word found...\n",
      "Word found...\n",
      "Word found...\n",
      "Word found...\n"
     ]
    }
   ],
   "source": [
    "#Que-9\n",
    "# file open and read and append some content\n",
    "\n",
    "new_file=open(\"named.txt\")\n",
    "print(new_file.read())\n",
    "\n",
    "word=input(\"Search word in named.txt file:\")\n",
    "\n",
    "new_file.seek(0)\n",
    "\n",
    "for line in new_file:\n",
    "    if word in line:\n",
    "        print(\"Word found...\")\n",
    "    else:\n",
    "        print(\"Not found....\")\n"
   ]
  },
  {
   "cell_type": "code",
   "execution_count": null,
   "metadata": {},
   "outputs": [
    {
     "name": "stdout",
     "output_type": "stream",
     "text": [
      "1. python is easy to learn.\n",
      "2. it has numerious libraries.\n",
      "3. file handling is features of python\n",
      "4. python supports multiple modes of file handling.This file was last modified file for file handling in pythonnThis file was last modified file for file handling in pythonnThis file was last modified file for file handling in pythonnThis file was last modified file for file handling in pythonn\n",
      "This file was last modified file for file handling in pythonn\n",
      "This file was last modified file for file handling in pythonn\n",
      "This file was last modified file for file handling in pythonn\n"
     ]
    },
    {
     "ename": "TypeError",
     "evalue": "write() argument must be str, not _io.TextIOWrapper",
     "output_type": "error",
     "traceback": [
      "\u001b[1;31m---------------------------------------------------------------------------\u001b[0m",
      "\u001b[1;31mTypeError\u001b[0m                                 Traceback (most recent call last)",
      "Cell \u001b[1;32mIn[84], line 10\u001b[0m\n\u001b[0;32m      5\u001b[0m \u001b[38;5;28mprint\u001b[39m(new_file\u001b[38;5;241m.\u001b[39mread())\n\u001b[0;32m      7\u001b[0m f\u001b[38;5;241m=\u001b[39m\u001b[38;5;28mopen\u001b[39m(\u001b[38;5;124m\"\u001b[39m\u001b[38;5;124msample.txt\u001b[39m\u001b[38;5;124m\"\u001b[39m,\u001b[38;5;124m\"\u001b[39m\u001b[38;5;124mw\u001b[39m\u001b[38;5;124m\"\u001b[39m)\n\u001b[1;32m---> 10\u001b[0m \u001b[43mf\u001b[49m\u001b[38;5;241;43m.\u001b[39;49m\u001b[43mwrite\u001b[49m\u001b[43m(\u001b[49m\u001b[43mnew_file\u001b[49m\u001b[43m)\u001b[49m\n",
      "\u001b[1;31mTypeError\u001b[0m: write() argument must be str, not _io.TextIOWrapper"
     ]
    }
   ],
   "source": [
    "#Que-10\n",
    "# copy file\n",
    "\n",
    "new_file=open(\"named.txt\",\"r\")\n",
    "print(new_file.read())\n",
    "\n",
    "f=open(\"sample.txt\",\"w\")\n",
    "f.write(new_file)\n",
    "\n"
   ]
  },
  {
   "cell_type": "code",
   "execution_count": 94,
   "metadata": {},
   "outputs": [
    {
     "name": "stdout",
     "output_type": "stream",
     "text": [
      "hello python\n"
     ]
    }
   ],
   "source": [
    "#Que-11\n",
    "# all modes\n",
    "\n",
    "#r\n",
    "\n",
    "new_file=open(\"mode.txt\",\"r\")\n",
    "print(new_file.read())\n",
    "new_file.close()\n",
    "\n"
   ]
  },
  {
   "cell_type": "code",
   "execution_count": 95,
   "metadata": {},
   "outputs": [
    {
     "name": "stdout",
     "output_type": "stream",
     "text": [
      "hello world\n"
     ]
    }
   ],
   "source": [
    "#w\n",
    "\n",
    "new_file=open(\"mode.txt\",\"w\")\n",
    "new_file.write(\"hello world\")\n",
    "new_file=open(\"mode.txt\",\"r\")\n",
    "print(new_file.read())\n",
    "new_file.close()"
   ]
  },
  {
   "cell_type": "code",
   "execution_count": 96,
   "metadata": {},
   "outputs": [
    {
     "name": "stdout",
     "output_type": "stream",
     "text": [
      "hello world\n",
      "hello aiml\n"
     ]
    }
   ],
   "source": [
    "#a\n",
    "\n",
    "new_file=open(\"mode.txt\",\"a\")\n",
    "new_file.write(\"\\nhello aiml\")\n",
    "new_file=open(\"mode.txt\",\"r\")\n",
    "print(new_file.read())\n",
    "new_file.close()\n",
    "\n"
   ]
  },
  {
   "cell_type": "code",
   "execution_count": 99,
   "metadata": {},
   "outputs": [
    {
     "name": "stdout",
     "output_type": "stream",
     "text": [
      "\n"
     ]
    }
   ],
   "source": [
    "#r+\n",
    "\n",
    "new_file=open(\"mode.txt\",\"r+\")\n",
    "\n",
    "new_file.write(\"hello world\")\n",
    "\n",
    "print(new_file.read())\n",
    "new_file.close()\n"
   ]
  },
  {
   "cell_type": "code",
   "execution_count": 2,
   "metadata": {},
   "outputs": [
    {
     "name": "stdout",
     "output_type": "stream",
     "text": [
      "hello world hiii hello\n"
     ]
    }
   ],
   "source": [
    "#w+\n",
    "\n",
    "new_file=open(\"mode.txt\",\"w+\")\n",
    "\n",
    "new_file.write(\"hello world hiii hello\")\n",
    "\n",
    "new_file=open(\"mode.txt\",\"r+\")\n",
    "print(new_file.read())\n",
    "new_file.close()\n"
   ]
  },
  {
   "cell_type": "code",
   "execution_count": 3,
   "metadata": {},
   "outputs": [
    {
     "name": "stdout",
     "output_type": "stream",
     "text": [
      "hello world hiii hello\n",
      "hello world hiii hello\n"
     ]
    }
   ],
   "source": [
    "#a+\n",
    "\n",
    "new_file=open(\"mode.txt\",\"a+\")\n",
    "\n",
    "new_file.write(\"\\nhello world hiii hello\")\n",
    "\n",
    "new_file=open(\"mode.txt\",\"r+\")\n",
    "print(new_file.read())\n",
    "new_file.close()"
   ]
  },
  {
   "cell_type": "code",
   "execution_count": null,
   "metadata": {},
   "outputs": [],
   "source": []
  }
 ],
 "metadata": {
  "kernelspec": {
   "display_name": "MIT_PYTHON",
   "language": "python",
   "name": "python3"
  },
  "language_info": {
   "codemirror_mode": {
    "name": "ipython",
    "version": 3
   },
   "file_extension": ".py",
   "mimetype": "text/x-python",
   "name": "python",
   "nbconvert_exporter": "python",
   "pygments_lexer": "ipython3",
   "version": "3.13.1"
  }
 },
 "nbformat": 4,
 "nbformat_minor": 2
}
