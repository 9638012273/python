{
 "cells": [
  {
   "cell_type": "code",
   "execution_count": null,
   "metadata": {},
   "outputs": [],
   "source": [
    "# labwork-3.2 #\n",
    "#=============#\n",
    "\n",
    "#que-1\n",
    "#skip the devided by 4 value \n",
    "\n",
    "for x in range(1,21):\n",
    "    if (x%4==0):\n",
    "        print(\"skip he\")\n",
    "        continue\n",
    "        \n",
    "    print(x)\n",
    "\n"
   ]
  },
  {
   "cell_type": "code",
   "execution_count": null,
   "metadata": {},
   "outputs": [],
   "source": [
    "#que-2\n",
    "# when i==7 break programm\n",
    "\n",
    "i=1\n",
    "while(i<=10):\n",
    "    if(i==7):\n",
    "        break\n",
    "    print(i)\n",
    "    i+=1"
   ]
  },
  {
   "cell_type": "code",
   "execution_count": null,
   "metadata": {},
   "outputs": [],
   "source": [
    "#que-3\n",
    "#continue viwels from python keyword\n",
    "\n",
    "string=\"PYTHON\"\n",
    "\n",
    "for i in string.lower():\n",
    "    if(i==\"a\" or i==\"e\" or i==\"i\" or i==\"o\" or i==\"u\"):\n",
    "        continue\n",
    "    print(i)\n"
   ]
  },
  {
   "cell_type": "code",
   "execution_count": null,
   "metadata": {},
   "outputs": [],
   "source": [
    "#que-4\n",
    "#list of cube from 1 to 10\n",
    "\n",
    "# for cube (x**2 / x*x are same)\n",
    "\n",
    "list=[ x**2 for x in range(1,11)]\n",
    "list"
   ]
  },
  {
   "cell_type": "code",
   "execution_count": null,
   "metadata": {},
   "outputs": [],
   "source": [
    "#que-5\n",
    "#even list from 1 to 50\n",
    "\n",
    "even_list=[x for x in range(1,50) if x % 2==0]\n",
    "print(even_list)"
   ]
  },
  {
   "cell_type": "code",
   "execution_count": null,
   "metadata": {},
   "outputs": [],
   "source": [
    "#que-6\n",
    "# take user input and check vovels\n",
    "\n",
    "new_list=[]\n",
    "vovel_list=['a','e','i','o','u','A','E','I','O','U']\n",
    "word_list=[]\n",
    "\n",
    "for i in range(10):\n",
    "    new_list.append(input(\"Enter ten string word :\"))\n",
    "    \n",
    "\n",
    "for i in new_list:\n",
    "    if i[0] in vovel_list:\n",
    "         word_list.append(i)\n",
    "        \n",
    "\n",
    "print(\"original list :\",new_list)\n",
    "print(\"vowel word list:\",word_list)"
   ]
  },
  {
   "cell_type": "code",
   "execution_count": null,
   "metadata": {},
   "outputs": [],
   "source": [
    "#que-7\n",
    "#multiplication table from 1 to 5\n",
    "\n",
    "for x in range(1,6):\n",
    "    print(\"\\n\")\n",
    "    print(\"table of \",x)\n",
    "\n",
    "    for i in range(1,11):\n",
    "        print(x,\"x\",i,\"=\",x*i)"
   ]
  },
  {
   "cell_type": "code",
   "execution_count": null,
   "metadata": {},
   "outputs": [],
   "source": []
  }
 ],
 "metadata": {
  "kernelspec": {
   "display_name": "MIT_PYTHON",
   "language": "python",
   "name": "python3"
  },
  "language_info": {
   "codemirror_mode": {
    "name": "ipython",
    "version": 3
   },
   "file_extension": ".py",
   "mimetype": "text/x-python",
   "name": "python",
   "nbconvert_exporter": "python",
   "pygments_lexer": "ipython3",
   "version": "3.13.1"
  }
 },
 "nbformat": 4,
 "nbformat_minor": 2
}
