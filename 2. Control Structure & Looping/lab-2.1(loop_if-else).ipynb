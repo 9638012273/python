{
 "cells": [
  {
   "cell_type": "code",
   "execution_count": null,
   "metadata": {},
   "outputs": [],
   "source": [
    "# labwork - 3.1 #\n",
    "#===============#\n",
    "\n",
    "#que-1\n",
    "#simple if_else\n",
    "\n",
    "num=int(input(\"Enter any number:\"))\n",
    "\n",
    "if num%2==0:\n",
    "    print(\"number\",num,\"is even\")\n",
    "else:\n",
    "    print(\"number\",num,\"is odd\")"
   ]
  },
  {
   "cell_type": "code",
   "execution_count": null,
   "metadata": {},
   "outputs": [],
   "source": [
    "#que-2\n",
    "#nested if_else\n",
    "\n",
    "age=int(input(\"Enter your age:\"))\n",
    "\n",
    "if (age>0):\n",
    "    if (age<=19):\n",
    "        if (age>=12):\n",
    "            print(\"age is:\",age,\"teenager\")\n",
    "        else:\n",
    "            print(\"age is:\",age,\"child\")\n",
    "    else:\n",
    "        if(age<=59):\n",
    "            print(\"age is:\",age,\"adult\")\n",
    "        else:\n",
    "            print(\"age is:\",age,\"senior\")\n",
    "else:\n",
    "    print(\"age is:\",age,\"not any\")\n",
    "\n",
    "    \n"
   ]
  },
  {
   "cell_type": "code",
   "execution_count": null,
   "metadata": {},
   "outputs": [],
   "source": [
    "#que-3\n",
    "#if-elif-else\n",
    "\n",
    "num1=int(input(\"Enter first number:\"))\n",
    "num2=int(input(\"Enter second number:\"))\n",
    "num3=int(input(\"Enter tird number:\"))\n",
    "\n",
    "print(\"number 1:\",num1)\n",
    "print(\"number 2:\",num2)\n",
    "print(\"number 3:\",num3)\n",
    "\n",
    "if(num1>num2):\n",
    "    print(\"number 1:\",num1,\"is bigger \")\n",
    "elif(num2>num3):\n",
    "    print(\"number 2:\",num2,\"is bigger \")\n",
    "else:\n",
    "    print(\"number 3:\",num3,\"is bigger \")"
   ]
  },
  {
   "cell_type": "code",
   "execution_count": null,
   "metadata": {},
   "outputs": [],
   "source": [
    "#que-4\n",
    "#switchcase\n",
    "\n",
    "n1=int(input(\"Enter first value:\"))\n",
    "n2=int(input(\"Enter second value:\"))\n",
    "\n",
    "ch=input(\"Enter your choise(+ , - , * , /):\")\n",
    "\n",
    "match ch:\n",
    "    case \"+\":\n",
    "        print(\"Sum is:\",n1+n2)\n",
    "    case \"-\":\n",
    "        print(\"Sub is:\",n1-n2)\n",
    "    case \"*\":\n",
    "        print(\"MUL is:\",n1*n2)\n",
    "    case \"/\":\n",
    "        print(\"Dev is:\",n1/n2)\n",
    "    case _:\n",
    "        print(\" Chose proper operator....\")\n"
   ]
  },
  {
   "cell_type": "code",
   "execution_count": null,
   "metadata": {},
   "outputs": [],
   "source": [
    "#que-5\n",
    "#while loop\n",
    "\n",
    "num=int(input(\"Enter number:\"))\n",
    "\n",
    "while  num!=0:\n",
    "    num=int(input(\"Enter number (0 for stop):\"))\n",
    "    if(num==0):\n",
    "        print(\"0 (programm finished)\")\n",
    "\n",
    "\n"
   ]
  },
  {
   "cell_type": "code",
   "execution_count": null,
   "metadata": {},
   "outputs": [],
   "source": [
    "#que-6\n",
    "#for loop\n",
    "\n",
    "for i in range(0,11,1):     #range(11) , range(0,11) , range(0,11,1) => same output\n",
    "    print(i,\"-->\",(i*i))"
   ]
  },
  {
   "cell_type": "code",
   "execution_count": null,
   "metadata": {},
   "outputs": [],
   "source": [
    "#que-7\n",
    "#whileloop even number from 1-50\n",
    "\n",
    "i=1\n",
    "\n",
    "while i<=50:\n",
    "    if(i%2==0):\n",
    "        print(i)\n",
    "    i+=1"
   ]
  },
  {
   "cell_type": "code",
   "execution_count": null,
   "metadata": {},
   "outputs": [],
   "source": [
    "#que-8\n",
    "#forloop odd number from 1-20\n",
    "\n",
    "for i in range(1,20,1):\n",
    "    if(i%2==1):\n",
    "        print(i)"
   ]
  },
  {
   "cell_type": "code",
   "execution_count": null,
   "metadata": {},
   "outputs": [],
   "source": [
    "#que-9\n",
    "#forloop 5 steps from 5-50\n",
    "\n",
    "for i in range(5,50,5):\n",
    "    print(i)"
   ]
  },
  {
   "cell_type": "code",
   "execution_count": null,
   "metadata": {},
   "outputs": [],
   "source": [
    "#que-10\n",
    "#reverce range function\n",
    "for i in range(10,0,-1):\n",
    "    print(i)"
   ]
  },
  {
   "cell_type": "code",
   "execution_count": null,
   "metadata": {},
   "outputs": [],
   "source": [
    "#que-11\n",
    "#forloop with if-elif-else\n",
    "\n",
    "for i in range(1,50,1):\n",
    "    if(i%2==0 and i%3==0):\n",
    "        print(i,\": devided by both 2 & 3\\n\" )\n",
    "    elif(i%2==0):\n",
    "        print(i,\": devide by 2\\n\")\n",
    "    elif(i%3==0):\n",
    "        print(i,\": devide by 3\\n\")\n",
    "    else:\n",
    "        print(i,\": Not devided\\n\")"
   ]
  },
  {
   "cell_type": "code",
   "execution_count": null,
   "metadata": {},
   "outputs": [],
   "source": []
  }
 ],
 "metadata": {
  "kernelspec": {
   "display_name": "MIT_PYTHON",
   "language": "python",
   "name": "python3"
  },
  "language_info": {
   "codemirror_mode": {
    "name": "ipython",
    "version": 3
   },
   "file_extension": ".py",
   "mimetype": "text/x-python",
   "name": "python",
   "nbconvert_exporter": "python",
   "pygments_lexer": "ipython3",
   "version": "3.13.1"
  }
 },
 "nbformat": 4,
 "nbformat_minor": 2
}
