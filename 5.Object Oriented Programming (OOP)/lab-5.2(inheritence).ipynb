{
 "cells": [
  {
   "cell_type": "code",
   "execution_count": null,
   "metadata": {},
   "outputs": [],
   "source": [
    "# labwork-5.2 #\n",
    "#=============#\n",
    "\n",
    "#Question bank link\n",
    "\n",
    "#https://docs.google.com/document/d/1g45BoFum1wfRMQFTSj8ddRLKkJc0TLRMGeQR-MrlaFw/edit?tab=t.0"
   ]
  },
  {
   "cell_type": "code",
   "execution_count": 2,
   "metadata": {},
   "outputs": [
    {
     "name": "stdout",
     "output_type": "stream",
     "text": [
      "name: mit\n",
      "age: 18\n"
     ]
    }
   ],
   "source": [
    "#que-1\n",
    "#single inheritence\n",
    "\n",
    "class A:\n",
    "\n",
    "    def display(self):\n",
    "        print(\"name:\",self.name)\n",
    "        print(\"age:\",self.age)\n",
    "\n",
    "class B(A):\n",
    "\n",
    "    def take(self):\n",
    "        self.name=input(\"Enter your name\")\n",
    "        self.age=int(input(\"Enter age:\"))\n",
    "\n",
    "b1=B()\n",
    "\n",
    "b1.take()\n",
    "b1.display()\n"
   ]
  },
  {
   "cell_type": "code",
   "execution_count": 2,
   "metadata": {},
   "outputs": [
    {
     "name": "stdout",
     "output_type": "stream",
     "text": [
      "This is child class....\n",
      "This is first parents class...\n",
      "This is second parents class...\n"
     ]
    }
   ],
   "source": [
    "#que-2\n",
    "#multiple inheritence\n",
    "\n",
    "\n",
    "class Teacher:\n",
    "    def parents_1(self):\n",
    "        print(\"This is first parents class...\")\n",
    "\n",
    "class Administrator:\n",
    "    def parents_2(self):\n",
    "        print(\"This is second parents class...\")\n",
    "\n",
    "class Headmaster(Teacher,Administrator):\n",
    "    def child(self):\n",
    "        print(\"This is child class....\")\n",
    "\n",
    "\n",
    "h1 = Headmaster()\n",
    "\n",
    "h1.child()\n",
    "h1.parents_1()\n",
    "h1.parents_2()\n",
    "\n"
   ]
  },
  {
   "cell_type": "code",
   "execution_count": 4,
   "metadata": {},
   "outputs": [
    {
     "name": "stdout",
     "output_type": "stream",
     "text": [
      "This is child class....with age 5 up...\n",
      "This is parents class....with age 18 up...\n",
      "This is grand parents class....with age 50 up...\n"
     ]
    }
   ],
   "source": [
    "#que-3\n",
    "#multilevel inheritence\n",
    "\n",
    "class Grangparents:\n",
    "    def gp(self):\n",
    "        print(f\"This is grand parents class....with age {self.gage} up...\")\n",
    "\n",
    "class Parents(Grangparents):\n",
    "    def p(self):\n",
    "        print(f\"This is parents class....with age {self.page} up...\")\n",
    "        c1.gp()\n",
    "\n",
    "class Child(Parents):\n",
    "    def child(self):\n",
    "        self.gage=50\n",
    "        self.page=18\n",
    "        self.cage=5\n",
    "        print(f\"This is child class....with age {self.cage} up...\")\n",
    "        c1.p()\n",
    "\n",
    "\n",
    "c1=Child()\n",
    "\n",
    "c1.child()\n"
   ]
  },
  {
   "cell_type": "code",
   "execution_count": 1,
   "metadata": {},
   "outputs": [
    {
     "name": "stdout",
     "output_type": "stream",
     "text": [
      "This is method for Cat class...\n",
      "This is method for Animal class...\n",
      "This is method for Dog class...\n",
      "This is method for Animal class...\n"
     ]
    }
   ],
   "source": [
    "#que-4\n",
    "#herarchical inheritence\n",
    "\n",
    "class Animal():\n",
    "    def method_1(self):\n",
    "        print(\"This is method for Animal class...\")\n",
    "\n",
    "class Cat(Animal):\n",
    "    def method_2(self):\n",
    "        print(\"This is method for Cat class...\")\n",
    "        self.method_1()\n",
    "\n",
    "class Dog(Animal):\n",
    "    def method_3(self):\n",
    "        print(\"This is method for Dog class...\")\n",
    "        self.method_1()\n",
    "\n",
    "c1=Cat()\n",
    "d1=Dog()\n",
    "c1.method_2()\n",
    "d1.method_3()\n"
   ]
  },
  {
   "cell_type": "code",
   "execution_count": null,
   "metadata": {},
   "outputs": [],
   "source": [
    "#que-5\n",
    "#hybrid inheritance"
   ]
  },
  {
   "cell_type": "code",
   "execution_count": 4,
   "metadata": {},
   "outputs": [
    {
     "name": "stdout",
     "output_type": "stream",
     "text": [
      "<class 'int'>\n",
      "<class 'float'>\n",
      "<class 'str'>\n",
      "<class 'bool'>\n",
      "Class : Animal\n",
      "<class '__main__.Animal'>\n"
     ]
    }
   ],
   "source": [
    "#que-6\n",
    "#type function\n",
    "\n",
    "a=5\n",
    "b=5.1\n",
    "c='hello'\n",
    "d=True\n",
    "\n",
    "print(type(a))\n",
    "print(type(b))\n",
    "print(type(c))\n",
    "print(type(d))\n",
    "\n",
    "class Animal:\n",
    "    print(\"Class : Animal\")\n",
    "\n",
    "a1=Animal()\n",
    "\n",
    "print(type(a1))"
   ]
  },
  {
   "cell_type": "code",
   "execution_count": 8,
   "metadata": {},
   "outputs": [
    {
     "name": "stdout",
     "output_type": "stream",
     "text": [
      "140708752065736\n",
      "1761530468368\n",
      "Not Matched....\n"
     ]
    }
   ],
   "source": [
    "#que-7\n",
    "#id() function\n",
    "\n",
    "a=10\n",
    "b=10.0\n",
    "\n",
    "print(id(a))\n",
    "print(id(b))\n",
    "\n",
    "if id(a)==id(b):\n",
    "    print(\"ID Matched...\")\n",
    "else:\n",
    "    print(\"Not Matched....\")"
   ]
  },
  {
   "cell_type": "code",
   "execution_count": 18,
   "metadata": {},
   "outputs": [
    {
     "name": "stdout",
     "output_type": "stream",
     "text": [
      "This is manager class....\n",
      "['__class__', '__delattr__', '__dict__', '__dir__', '__doc__', '__eq__', '__firstlineno__', '__format__', '__ge__', '__getattribute__', '__getstate__', '__gt__', '__hash__', '__init__', '__init_subclass__', '__le__', '__lt__', '__module__', '__ne__', '__new__', '__reduce__', '__reduce_ex__', '__repr__', '__setattr__', '__sizeof__', '__static_attributes__', '__str__', '__subclasshook__', '__weakref__']\n"
     ]
    }
   ],
   "source": [
    "#que-8\n",
    "#dir() function\n",
    "\n",
    "class Manager:\n",
    "    print(\"This is manager class....\")\n",
    "\n",
    "m1=Manager()\n",
    "\n",
    "print(dir(m1))"
   ]
  },
  {
   "cell_type": "code",
   "execution_count": 17,
   "metadata": {},
   "outputs": [
    {
     "name": "stdout",
     "output_type": "stream",
     "text": [
      "This is manager class....\n",
      "True = This object is for manager class\n"
     ]
    }
   ],
   "source": [
    "#que-9\n",
    "#isinstence() function\n",
    "\n",
    "\n",
    "class Manager:\n",
    "    print(\"This is manager class....\")\n",
    "\n",
    "m1=Manager()\n",
    "\n",
    "\n",
    "\n",
    "if isinstance(m1,Manager):\n",
    "    print(isinstance(m1,Manager),\"= This object is for manager class\")\n",
    "\n",
    "else:\n",
    "    print(isinstance(m1,Manager),\"= this object is not for manager class\")\n"
   ]
  },
  {
   "cell_type": "code",
   "execution_count": 19,
   "metadata": {},
   "outputs": [
    {
     "name": "stdout",
     "output_type": "stream",
     "text": [
      "This is manager class....\n",
      "Help on Manager in module __main__ object:\n",
      "\n",
      "class Manager(builtins.object)\n",
      " |  Data descriptors defined here:\n",
      " |\n",
      " |  __dict__\n",
      " |      dictionary for instance variables\n",
      " |\n",
      " |  __weakref__\n",
      " |      list of weak references to the object\n",
      "\n",
      "None\n"
     ]
    }
   ],
   "source": [
    "#que-10\n",
    "#help() function\n",
    "\n",
    "class Manager:\n",
    "    print(\"This is manager class....\")\n",
    "\n",
    "m1=Manager()\n",
    "\n",
    "print(help(m1))"
   ]
  },
  {
   "cell_type": "code",
   "execution_count": 27,
   "metadata": {},
   "outputs": [
    {
     "name": "stdout",
     "output_type": "stream",
     "text": [
      "this is outer function\n",
      "Square: [1, 4, 9, 16, 25, 36, 49, 64, 81, 100]\n",
      "this is inner step_1 function\n",
      "Square: [1, 8, 27, 64, 125, 216, 343, 512, 729, 1000]\n",
      "None\n"
     ]
    }
   ],
   "source": [
    "#que-11\n",
    "#nested function\n",
    "\n",
    "def outer():\n",
    "    print(\"this is outer function\")\n",
    "    llist=[1,2,3,4,5,6,7,8,9,10]\n",
    "    newlist=[]\n",
    "\n",
    "    for i in llist:\n",
    "        newlist.append(i*i)\n",
    "\n",
    "    print(\"Square:\",newlist)\n",
    "\n",
    "\n",
    "    def inner_1():\n",
    "        print(\"this is inner step_1 function\")\n",
    "        innerlist=[]\n",
    "        for i in llist:\n",
    "            innerlist.append(i**3)\n",
    "\n",
    "        print(\"Square:\",innerlist)\n",
    "\n",
    "\n",
    "    inner_1()\n",
    "\n",
    "\n",
    "p2 = outer()\n",
    "\n",
    "print(p2)\n",
    "\n",
    "\n"
   ]
  },
  {
   "cell_type": "code",
   "execution_count": 2,
   "metadata": {},
   "outputs": [
    {
     "name": "stdout",
     "output_type": "stream",
     "text": [
      "hello world!\n",
      "12\n"
     ]
    }
   ],
   "source": [
    "#que-12\n",
    "#nested function\n",
    "\n",
    "def outer():\n",
    "    str=input(\"Enter string:\")\n",
    "    print(str)\n",
    "\n",
    "\n",
    "    def inner_1():\n",
    "        print(len(str))\n",
    "\n",
    "    inner_1()\n",
    "\n",
    "p2 = outer()\n",
    "\n"
   ]
  },
  {
   "cell_type": "code",
   "execution_count": 1,
   "metadata": {},
   "outputs": [
    {
     "name": "stdout",
     "output_type": "stream",
     "text": [
      "calculate area of rectengle \n",
      "Area of Rectengle:200\n",
      "calculate area of cube \n",
      "Area of Rectengle:100\n"
     ]
    }
   ],
   "source": [
    "#que-13\n",
    "#nested function\n",
    "\n",
    "def outer():\n",
    "    print(\"calculate area of rectengle \")\n",
    "    l=int(input(\"Enter length\"))\n",
    "    w=int(input(\"Enter width:\"))\n",
    "\n",
    "    area=l*w\n",
    "\n",
    "    print(f\"Area of Rectengle:{area}\")\n",
    "\n",
    "\n",
    "    def inner_1():\n",
    "        print(\"calculate area of cube \")\n",
    "\n",
    "        cube_area=l*l\n",
    "\n",
    "        print(f\"Area of Rectengle:{cube_area}\")\n",
    "\n",
    "    inner_1()\n",
    "\n",
    "p2 = outer()\n"
   ]
  },
  {
   "cell_type": "code",
   "execution_count": null,
   "metadata": {},
   "outputs": [],
   "source": []
  }
 ],
 "metadata": {
  "kernelspec": {
   "display_name": "MIT_PYTHON",
   "language": "python",
   "name": "python3"
  },
  "language_info": {
   "codemirror_mode": {
    "name": "ipython",
    "version": 3
   },
   "file_extension": ".py",
   "mimetype": "text/x-python",
   "name": "python",
   "nbconvert_exporter": "python",
   "pygments_lexer": "ipython3",
   "version": "3.13.1"
  }
 },
 "nbformat": 4,
 "nbformat_minor": 2
}
