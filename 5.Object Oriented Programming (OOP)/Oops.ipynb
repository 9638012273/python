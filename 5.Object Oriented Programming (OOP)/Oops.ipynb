{
 "cells": [
  {
   "cell_type": "code",
   "execution_count": 1,
   "metadata": {},
   "outputs": [],
   "source": [
    "# Class & object\n",
    "\n",
    "class Car:\n",
    "    pass\n",
    "\n",
    "audi = Car()\n",
    "\n",
    "nissan = Car()\n",
    "\n",
    "volvo = Car()"
   ]
  },
  {
   "cell_type": "code",
   "execution_count": 1,
   "metadata": {},
   "outputs": [
    {
     "name": "stdout",
     "output_type": "stream",
     "text": [
      "Pikachu Electric 85\n",
      "bumblesor Water 90\n"
     ]
    }
   ],
   "source": [
    "class Pokemon:\n",
    "    name = None\n",
    "    ptype = None\n",
    "    health = None\n",
    "\n",
    "pikachu = Pokemon()\n",
    "\n",
    "pikachu.name = \"Pikachu\"\n",
    "pikachu.ptype = \"Electric\"\n",
    "pikachu.health = 85\n",
    "\n",
    "print(pikachu.name,pikachu.ptype,pikachu.health)\n",
    "\n",
    "bumblesor = Pokemon()\n",
    "\n",
    "bumblesor.name = \"bumblesor\"\n",
    "bumblesor.ptype = \"Water\"\n",
    "bumblesor.health = 90\n",
    "\n",
    "print(bumblesor.name,bumblesor.ptype,bumblesor.health)\n",
    "\n"
   ]
  },
  {
   "cell_type": "code",
   "execution_count": 1,
   "metadata": {},
   "outputs": [
    {
     "name": "stdout",
     "output_type": "stream",
     "text": [
      "Id = 5 Name = xyz age = 25\n"
     ]
    }
   ],
   "source": [
    "class Student:\n",
    "    sid = None\n",
    "    name = None\n",
    "    age = None\n",
    "\n",
    "\n",
    "s1 = Student()\n",
    "# s2 = Student()\n",
    "\n",
    "\n",
    "\n",
    "s1.sid = int(input(\"Enter Sid\"))\n",
    "s1.name = input(\"Enter S_name\")\n",
    "s1.age  = int(input(\"Enter your Age\"))\n",
    "\n",
    "print(f\"Id = {s1.sid} Name = {s1.name} age = {s1.age}\")"
   ]
  },
  {
   "cell_type": "code",
   "execution_count": 2,
   "metadata": {},
   "outputs": [
    {
     "name": "stdout",
     "output_type": "stream",
     "text": [
      "1 mayur 56\n",
      "1 mayur 56\n"
     ]
    }
   ],
   "source": [
    "# Encapsulation & Self Keywords\n",
    "\n",
    "\n",
    "\n",
    "class Student:\n",
    "    sid = None\n",
    "    name = None\n",
    "    age = None\n",
    "\n",
    "    def setDate(self):\n",
    "        self.sid = 1\n",
    "        self.name = \"mayur\"\n",
    "        self.age  = 56\n",
    "\n",
    "        # print(self.sid , self.name ,self.age)\n",
    "\n",
    "    def getDate(self):\n",
    "        print(self.sid , self.name ,self.age)\n",
    "        \n",
    "\n",
    "\n",
    "s1 = Student()\n",
    "\n",
    "s2 = Student()\n",
    "\n",
    "s1.setDate()\n",
    "s1.getDate() \n",
    "\n",
    "s2.setDate()\n",
    "s2.getDate() \n"
   ]
  },
  {
   "cell_type": "code",
   "execution_count": 2,
   "metadata": {},
   "outputs": [
    {
     "name": "stdout",
     "output_type": "stream",
     "text": [
      "20 Viren 23\n",
      "22 Viren 23\n"
     ]
    }
   ],
   "source": [
    "\n",
    "\n",
    "class Student:\n",
    "    sid = None\n",
    "    name = None\n",
    "    age = None\n",
    "   \n",
    "    # setter\n",
    "    def setDate(self , i , n , a): # method \n",
    "        self.sid = i\n",
    "        self.name = n\n",
    "        self.age  = a\n",
    "\n",
    "       \n",
    "\n",
    "\n",
    "    # getter\n",
    "    def getDate(self):\n",
    "        print(self.sid , self.name ,self.age)\n",
    "        \n",
    "\n",
    "\n",
    "s1 = Student()\n",
    "s2 = Student()\n",
    "\n",
    "\n",
    "\n",
    "s1.setDate(20 , \"Viren\" , 23)\n",
    "s1.getDate() \n",
    "\n",
    "s2.setDate(22 , \"Viren\" , 23)\n",
    "s2.getDate() \n",
    "\n",
    "\n"
   ]
  },
  {
   "cell_type": "code",
   "execution_count": 3,
   "metadata": {},
   "outputs": [
    {
     "name": "stdout",
     "output_type": "stream",
     "text": [
      "[]\n",
      "[<__main__.Student object at 0x000001B9B8B99150>, <__main__.Student object at 0x000001B9B8D1ED90>]\n"
     ]
    }
   ],
   "source": [
    "# Array of object \n",
    "\n",
    "class Student:\n",
    "\n",
    "    name = None\n",
    "    age = None\n",
    "   \n",
    "    # setter\n",
    "    def set(self):\n",
    "        self.name = input(\"Enter Your Name\")\n",
    "        self.age = int(input(\"Enter Your Age\"))\n",
    "\n",
    "    # getter\n",
    "    def get(self):\n",
    "        print(f\"Name = {self.name}  &  Age = {self.age}\")\n",
    "\n",
    "\n",
    "student_data = []\n",
    "\n",
    "\n",
    "number = int(input(\"How Many Student ?\"))\n",
    "\n",
    "print(student_data)  # 1\n",
    "\n",
    "for object in range(number):\n",
    "    student_data.append(Student())\n",
    "\n",
    "\n",
    "print(student_data) # 2\n",
    "\n",
    "\n",
    "for i in range(number):\n",
    "    student_data[i].set()\n",
    "    # student_data[i].get()\n",
    "\n",
    "for i in range(number):\n",
    "    student_data[i].get()\n",
    "\n"
   ]
  },
  {
   "cell_type": "code",
   "execution_count": 2,
   "metadata": {},
   "outputs": [
    {
     "name": "stdout",
     "output_type": "stream",
     "text": [
      "Wel - Come To Surat\n",
      " Name ==> Mayur \n",
      " Name ==> Mayur \n"
     ]
    }
   ],
   "source": [
    "# Constructor and destructor\n",
    "\n",
    "class City:\n",
    "    \n",
    "    name = None\n",
    "\n",
    "    def __init__(self):\n",
    "        print(\"Wel - Come To Surat\")\n",
    "        self.name = input(\"Enter your Name Please\")\n",
    "        print(f\" Name ==> {self.name} \")\n",
    "\n",
    "\n",
    "    def get(self):\n",
    "        print(f\" Name ==> {self.name} \")\n",
    "\n",
    "\n",
    "c1 = City()\n",
    "\n",
    "c1.get()"
   ]
  },
  {
   "cell_type": "code",
   "execution_count": 5,
   "metadata": {},
   "outputs": [
    {
     "name": "stdout",
     "output_type": "stream",
     "text": [
      "Wel - Come To Surat\n",
      " Name ==> Mayur Vaishnav , Age ==> 45\n"
     ]
    }
   ],
   "source": [
    "# Data Pass With calling Functions\n",
    "\n",
    "class City:\n",
    "    \n",
    "    def __init__(self , name , age):\n",
    "        print(\"Wel - Come To Surat\")\n",
    "        self.name = name\n",
    "        self.age  = age\n",
    "\n",
    "\n",
    "    def get(self):\n",
    "        print(f\" Name ==> {self.name} , Age ==> {self.age}\")\n",
    "\n",
    "\n",
    "c1 = City(\"Mayur Vaishnav\" , 45 )\n",
    "\n",
    "c1.get()"
   ]
  },
  {
   "cell_type": "code",
   "execution_count": 5,
   "metadata": {},
   "outputs": [
    {
     "name": "stdout",
     "output_type": "stream",
     "text": [
      "Wel - Come To Surat\n",
      "object is deleted\n",
      " Name ==> xyz , Age ==> 45\n",
      "object is deleted\n"
     ]
    }
   ],
   "source": [
    "# del keyword  - destructor\n",
    "\n",
    "class City:\n",
    "    \n",
    "    name = None\n",
    "\n",
    "    def __init__(self , name , age):\n",
    "        print(\"Wel - Come To Surat\")\n",
    "        self.name = name\n",
    "        self.age  = age\n",
    "\n",
    "\n",
    "    def get(self):\n",
    "        print(f\" Name ==> {self.name} , Age ==> {self.age}\")\n",
    "\n",
    "    def __del__(self):\n",
    "        print(\"object is deleted\")\n",
    "\n",
    "\n",
    "# c1 = City(\"Mayur Vaishnav\" , 45 )\n",
    "        \n",
    "c1 = City(input() , 45 )\n",
    "\n",
    "c1.get()\n",
    "\n",
    "del c1"
   ]
  },
  {
   "cell_type": "code",
   "execution_count": 9,
   "metadata": {},
   "outputs": [
    {
     "ename": "NameError",
     "evalue": "name 'c1' is not defined",
     "output_type": "error",
     "traceback": [
      "\u001b[1;31m---------------------------------------------------------------------------\u001b[0m",
      "\u001b[1;31mNameError\u001b[0m                                 Traceback (most recent call last)",
      "Cell \u001b[1;32mIn[9], line 1\u001b[0m\n\u001b[1;32m----> 1\u001b[0m \u001b[43mc1\u001b[49m\n",
      "\u001b[1;31mNameError\u001b[0m: name 'c1' is not defined"
     ]
    }
   ],
   "source": [
    "c1"
   ]
  },
  {
   "cell_type": "code",
   "execution_count": 16,
   "metadata": {},
   "outputs": [
    {
     "name": "stdout",
     "output_type": "stream",
     "text": [
      "Wel - Come To Surat\n"
     ]
    }
   ],
   "source": [
    "c1 = City(\"Mayur Vaishnav\" , 45 )"
   ]
  },
  {
   "cell_type": "code",
   "execution_count": 5,
   "metadata": {},
   "outputs": [
    {
     "name": "stdout",
     "output_type": "stream",
     "text": [
      "this is outer function\n",
      "this is inner step_1 function\n",
      "this is inner step_2 function\n",
      "None\n"
     ]
    }
   ],
   "source": [
    "# Nested function\n",
    "\n",
    "\n",
    "def outer():\n",
    "    print(\"this is outer function\")\n",
    "\n",
    "    def inner_1():\n",
    "        print(\"this is inner step_1 function\")\n",
    "\n",
    "        def inner_2():\n",
    "            print(\"this is inner step_2 function\")\n",
    "\n",
    "\n",
    "            \n",
    "\n",
    "        inner_2()\n",
    "    \n",
    "    # Function Calling from local area\n",
    "    inner_1()\n",
    "\n",
    "\n",
    "p2 = outer()\n",
    "\n",
    "print(p2)\n",
    "\n",
    "    "
   ]
  },
  {
   "cell_type": "code",
   "execution_count": 9,
   "metadata": {},
   "outputs": [
    {
     "name": "stdout",
     "output_type": "stream",
     "text": [
      "this is outer function\n",
      " Name ==> mayur 25 45\n",
      " Id ==> 45\n",
      "this is inner step_1 function\n",
      " Age ==> 25\n"
     ]
    }
   ],
   "source": [
    "\n",
    "class student:\n",
    "   \n",
    "    name = None\n",
    "    id = None\n",
    "    age = None\n",
    "\n",
    "\n",
    "    def __init__(self , name , age , id):\n",
    "        self.name = name\n",
    "        self.age  = age\n",
    "        self.id  = id\n",
    "    \n",
    "    # def outer(self):\n",
    "    #     print(\"this is outer function\")\n",
    "    #     print(f\" Name ==> {self.name} {self.age} {self.id}\")\n",
    "\n",
    "\n",
    "    def inner_1(self):\n",
    "        print(f\" Id ==> {self.id}\")\n",
    "\n",
    "    def inner_2(self):\n",
    "        print(\"this is inner step_1 function\")\n",
    "        print(f\" Age ==> {self.age}\")\n",
    "        \n",
    "\n",
    "    def outer(self):\n",
    "        print(\"this is outer function\")\n",
    "        print(f\" Name ==> {self.name} {self.age} {self.id}\")\n",
    "        self.inner_1()\n",
    "        self.inner_2()\n",
    "\n",
    "\n",
    "P1 = student(\"mayur\" , 25 ,45)\n",
    "\n",
    "P1.outer()\n",
    "\n"
   ]
  },
  {
   "cell_type": "code",
   "execution_count": 47,
   "metadata": {},
   "outputs": [
    {
     "name": "stdout",
     "output_type": "stream",
     "text": [
      "<class 'list'>\n",
      "['__add__', '__class__', '__class_getitem__', '__contains__', '__delattr__', '__delitem__', '__dir__', '__doc__', '__eq__', '__format__', '__ge__', '__getattribute__', '__getitem__', '__getstate__', '__gt__', '__hash__', '__iadd__', '__imul__', '__init__', '__init_subclass__', '__iter__', '__le__', '__len__', '__lt__', '__mul__', '__ne__', '__new__', '__reduce__', '__reduce_ex__', '__repr__', '__reversed__', '__rmul__', '__setattr__', '__setitem__', '__sizeof__', '__str__', '__subclasshook__', 'append', 'clear', 'copy', 'count', 'extend', 'index', 'insert', 'pop', 'remove', 'reverse', 'sort']\n"
     ]
    }
   ],
   "source": [
    "# Reflection enabling functions\n",
    "\n",
    "# type()\n",
    "\n",
    "a = [3,5,6,8]\n",
    "\n",
    "print(type(a))\n",
    "\n",
    "# dir()\n",
    "\n",
    "print(dir(a))\n",
    "\n",
    "# print(dir(c1))\n",
    "\n",
    "\n",
    "\n"
   ]
  },
  {
   "cell_type": "code",
   "execution_count": 6,
   "metadata": {},
   "outputs": [
    {
     "name": "stdout",
     "output_type": "stream",
     "text": [
      "True\n",
      "False\n"
     ]
    }
   ],
   "source": [
    "# callable()\n",
    "\n",
    "def hi():\n",
    "    print(\"Hello\")\n",
    "    \n",
    "print(callable(hi))\n",
    "\n",
    "example = \"maan\"\n",
    "\n",
    "print(callable(example))\n"
   ]
  },
  {
   "cell_type": "code",
   "execution_count": 1,
   "metadata": {},
   "outputs": [
    {
     "name": "stdout",
     "output_type": "stream",
     "text": [
      "True\n"
     ]
    }
   ],
   "source": [
    "# isinstance\n",
    "\n",
    "class City:\n",
    "    \n",
    "\n",
    "    def __init__(self):\n",
    "        # print(\"Wel - Come To Surat\")\n",
    "        pass\n",
    "       \n",
    "\n",
    "    def get(self):\n",
    "        pass\n",
    "\n",
    "# object / instance\n",
    "c1 = City()\n",
    "\n",
    "\n",
    "print(isinstance(c1 ,City))"
   ]
  },
  {
   "cell_type": "code",
   "execution_count": 11,
   "metadata": {},
   "outputs": [
    {
     "name": "stdout",
     "output_type": "stream",
     "text": [
      "Mayur\n",
      "26\n"
     ]
    },
    {
     "ename": "AttributeError",
     "evalue": "'Student' object has no attribute 'fname'",
     "output_type": "error",
     "traceback": [
      "\u001b[1;31m---------------------------------------------------------------------------\u001b[0m",
      "\u001b[1;31mAttributeError\u001b[0m                            Traceback (most recent call last)",
      "Cell \u001b[1;32mIn[11], line 25\u001b[0m\n\u001b[0;32m     21\u001b[0m \u001b[38;5;28mprint\u001b[39m(\u001b[38;5;28mgetattr\u001b[39m(s1 , \u001b[38;5;124m\"\u001b[39m\u001b[38;5;124mname\u001b[39m\u001b[38;5;124m\"\u001b[39m))\n\u001b[0;32m     23\u001b[0m \u001b[38;5;28mprint\u001b[39m(\u001b[38;5;28mgetattr\u001b[39m(s1 , \u001b[38;5;124m\"\u001b[39m\u001b[38;5;124mage\u001b[39m\u001b[38;5;124m\"\u001b[39m))\n\u001b[1;32m---> 25\u001b[0m \u001b[38;5;28mprint\u001b[39m(\u001b[38;5;28;43mgetattr\u001b[39;49m\u001b[43m(\u001b[49m\u001b[43ms1\u001b[49m\u001b[43m \u001b[49m\u001b[43m,\u001b[49m\u001b[43m \u001b[49m\u001b[38;5;124;43m\"\u001b[39;49m\u001b[38;5;124;43mfname\u001b[39;49m\u001b[38;5;124;43m\"\u001b[39;49m\u001b[43m)\u001b[49m)\n",
      "\u001b[1;31mAttributeError\u001b[0m: 'Student' object has no attribute 'fname'"
     ]
    }
   ],
   "source": [
    "# getattr\n",
    "\n",
    "class Student:\n",
    "    sid = None\n",
    "    name = None\n",
    "    age = None\n",
    "   \n",
    "    # getter\n",
    "    def getDate(self):\n",
    "        print(self.sid , self.name ,self.age)\n",
    "        \n",
    "\n",
    "s1 = Student()\n",
    "\n",
    "s1.name = \"Mayur\"\n",
    "\n",
    "s1.age  = 26\n",
    "\n",
    "# print(s1.name)\n",
    "\n",
    "print(getattr(s1 , \"name\"))\n",
    "\n",
    "print(getattr(s1 , \"age\"))\n",
    "\n",
    "print(getattr(s1 , \"fname\"))\n",
    "\n"
   ]
  },
  {
   "cell_type": "code",
   "execution_count": 1,
   "metadata": {},
   "outputs": [
    {
     "name": "stdout",
     "output_type": "stream",
     "text": [
      "Mayur J D School 18\n"
     ]
    }
   ],
   "source": [
    "# Types of inheritance\n",
    " \n",
    "# Single / Simple Inheritance\n",
    "\n",
    "class A:\n",
    "    name  = \"Mayur\"\n",
    "    School = \"J D School\"\n",
    "\n",
    "class B(A): \n",
    "    # name\n",
    "    # School\n",
    "    age = 18\n",
    "\n",
    "\n",
    "o1 = B()\n",
    "print(o1.name , o1.School , o1.age)\n",
    "\n"
   ]
  },
  {
   "cell_type": "code",
   "execution_count": 16,
   "metadata": {},
   "outputs": [
    {
     "name": "stdout",
     "output_type": "stream",
     "text": [
      "from class A\n",
      "from class B\n",
      "from class C\n"
     ]
    }
   ],
   "source": [
    "# Multilevel Inheritance\n",
    "\n",
    "class A:\n",
    "    \n",
    "    def hello(self):\n",
    "        print(\"from class A\")\n",
    "\n",
    "class B(A):\n",
    "\n",
    "    def get(self):\n",
    "        print(\"from class B\")\n",
    "\n",
    "class C(B):\n",
    "     \n",
    "    def get_1(self):\n",
    "        print(\"from class C\")\n",
    "\n",
    "\n",
    "o2 = C()\n",
    "\n",
    "o2.hello() # A \n",
    "o2.get()   # B\n",
    "o2.get_1() # C\n",
    "\n"
   ]
  },
  {
   "cell_type": "code",
   "execution_count": 4,
   "metadata": {},
   "outputs": [
    {
     "name": "stdout",
     "output_type": "stream",
     "text": [
      "from class A\n",
      "from class B\n"
     ]
    }
   ],
   "source": [
    "# Multiple Inheritance\n",
    "\n",
    "class A:\n",
    "    \n",
    "    a = 120\n",
    "\n",
    "    def iron_A(self):\n",
    "        print(\"from class A\")\n",
    "\n",
    "class B:\n",
    "\n",
    "    b = 1790\n",
    "\n",
    "    def iron(self):\n",
    "        print(\"from class B\")\n",
    "\n",
    "\n",
    "class C(B , A):\n",
    "    sum_data = A.a + B.b\n",
    "    \n",
    "\n",
    "o1 = C()\n",
    "\n",
    "# print(o1.a , o1.b)\n",
    "# print(o1.sum_data)\n",
    "\n",
    "o1.iron_A()\n",
    "o1.iron_B()\n",
    "\n",
    "     \n"
   ]
  },
  {
   "cell_type": "code",
   "execution_count": 7,
   "metadata": {},
   "outputs": [
    {
     "name": "stdout",
     "output_type": "stream",
     "text": [
      "Call B\n",
      "call A\n",
      "call d\n",
      "call A\n"
     ]
    }
   ],
   "source": [
    "# Hierarchical Inheritance\n",
    "\n",
    "class Movies:\n",
    "    \n",
    "    a  = \"call A\"\n",
    "\n",
    "class Bollywood(Movies):\n",
    "\n",
    "    b =  \"Call B\" \n",
    "\n",
    "class Hollywood(Movies):\n",
    "     \n",
    "    c = \"call c\"  \n",
    "\n",
    "class Tollywood (Movies):\n",
    "     \n",
    "    d = \"call d\"\n",
    "\n",
    "b1  = Bollywood()\n",
    "\n",
    "Don  = Tollywood()\n",
    "\n",
    "\n",
    "\n",
    "print(b1.b)\n",
    "print(b1.a)\n",
    "\n",
    "print(Don.d)\n",
    "print(Don.a)\n",
    "\n"
   ]
  },
  {
   "cell_type": "code",
   "execution_count": 9,
   "metadata": {},
   "outputs": [
    {
     "name": "stdout",
     "output_type": "stream",
     "text": [
      "from class A\n"
     ]
    }
   ],
   "source": [
    "# Hybrid Inheritance\n",
    "\n",
    "class A:\n",
    "    \n",
    "    def hello(self):\n",
    "        print(\"from class A\")\n",
    "\n",
    "class B(A):\n",
    "\n",
    "    def get(self):\n",
    "        print(\"from class B\")\n",
    "\n",
    "class C(A):\n",
    "     \n",
    "    def get_1(self):\n",
    "        print(\"from class C\")\n",
    "\n",
    "\n",
    "class D(B , C):\n",
    "     \n",
    "    def get_2(self):\n",
    "        print(\"from class D\")\n",
    "\n",
    "\n",
    "o1 = D()\n",
    "\n",
    "o1.hello()\n",
    "\n",
    "\n"
   ]
  },
  {
   "cell_type": "code",
   "execution_count": 20,
   "metadata": {},
   "outputs": [
    {
     "name": "stdout",
     "output_type": "stream",
     "text": [
      "from class C\n",
      "from class B\n",
      "from class A\n"
     ]
    }
   ],
   "source": [
    "\n",
    "# issubclass() and super()\n",
    "\n",
    "class A:\n",
    "\n",
    "    def top(self):\n",
    "        print(\"from class A\")\n",
    "\n",
    "class B(A):\n",
    "\n",
    "    def get_B(self):\n",
    "        print(\"from class B\")\n",
    "\n",
    "class C(B):\n",
    "     \n",
    "    def get_C(self):\n",
    "        print(\"from class C\")\n",
    "\n",
    "\n",
    "l1 = C()\n",
    "\n",
    "l1.get_C()\n",
    "\n",
    "l1.get_B()\n",
    "\n",
    "l1.top()\n",
    "\n",
    "\n"
   ]
  },
  {
   "cell_type": "code",
   "execution_count": 4,
   "metadata": {},
   "outputs": [
    {
     "name": "stdout",
     "output_type": "stream",
     "text": [
      "True\n"
     ]
    }
   ],
   "source": [
    "class A:\n",
    "    a = 20\n",
    "    def top(self):\n",
    "        print(\"from class A\")\n",
    "\n",
    "class B(A):\n",
    "\n",
    "    def get_B(self):\n",
    "        print(\"from class B\")\n",
    "        print(super().a)\n",
    "\n",
    "class C(B):\n",
    "    \n",
    "    def get_C(self):\n",
    "        print(\"from class C\")\n",
    "        super().get_B()\n",
    "        super().top()\n",
    "\n",
    "\n",
    "# l1 = C()\n",
    "\n",
    "# l1.get_C()\n",
    "\n",
    "print(issubclass(C, B))"
   ]
  },
  {
   "cell_type": "code",
   "execution_count": 7,
   "metadata": {},
   "outputs": [
    {
     "name": "stdout",
     "output_type": "stream",
     "text": [
      "empty truck is running. 30\n",
      "empty truck is running.\n"
     ]
    }
   ],
   "source": [
    "# polymorphise  \n",
    "\n",
    "# Method Overloding \n",
    "\n",
    "# def truck_gobal(self):\n",
    "#         print(\"empty truck is running.\")\n",
    "\n",
    "class A:\n",
    "\n",
    "    def truck_1(self):  # 1\n",
    "        print(\"empty truck is running.\")\n",
    "    \n",
    "    def truck_2(self , n): # 2\n",
    "        print(\"empty truck is running.\" , n)\n",
    "        self.truck_1()\n",
    "    \n",
    "o1 = A()\n",
    "\n",
    "o1.truck_2(30)\n",
    "     "
   ]
  },
  {
   "cell_type": "code",
   "execution_count": 8,
   "metadata": {},
   "outputs": [
    {
     "name": "stdout",
     "output_type": "stream",
     "text": [
      "My Self Pak\n",
      "I am in Pak.\n",
      "I ' m wearing Pathani coat\n"
     ]
    }
   ],
   "source": [
    "# Method Overiding \n",
    "\n",
    "class India:\n",
    "    def person(self):\n",
    "        print(\"My Self Ind\")\n",
    "        print(\"I am in India.\")\n",
    "        print(\"I ' m wearing dhoti and khadi\")\n",
    "\n",
    "class Pak(India):\n",
    "    def person(self):\n",
    "        print(\"My Self Pak\")\n",
    "        print(\"I am in Pak.\")\n",
    "        print(\"I ' m wearing Pathani coat\")\n",
    "\n",
    "o1 = Pak()\n",
    "\n",
    "# o2 = India()\n",
    "\n",
    "o1.person()\n",
    "\n"
   ]
  },
  {
   "cell_type": "code",
   "execution_count": 12,
   "metadata": {},
   "outputs": [
    {
     "name": "stdout",
     "output_type": "stream",
     "text": [
      "My Self Pak\n",
      "I am in Pak.\n",
      "I ' m wearing Pathani coat\n",
      "My Self Ind\n",
      "I am in India.\n",
      "I ' m wearing dhoti and khadi\n"
     ]
    }
   ],
   "source": [
    "class India:\n",
    "    def person(self):\n",
    "        print(\"My Self Ind\")\n",
    "        print(\"I am in India.\")\n",
    "        print(\"I ' m wearing dhoti and khadi\")\n",
    "\n",
    "class Pak(India):\n",
    "    def person(self):\n",
    "        print(\"My Self Pak\")\n",
    "        print(\"I am in Pak.\")\n",
    "        print(\"I ' m wearing Pathani coat\")\n",
    "        # India.person(self)  # Old Method\n",
    "        super().person()  # New Method\n",
    "\n",
    "\n",
    "o1 = Pak()\n",
    "\n",
    "o1.person()"
   ]
  },
  {
   "cell_type": "code",
   "execution_count": 12,
   "metadata": {},
   "outputs": [
    {
     "name": "stdout",
     "output_type": "stream",
     "text": [
      "Inside Child\n"
     ]
    }
   ],
   "source": [
    "# Python program to demonstrate \n",
    "# method overriding \n",
    "\n",
    "# Defining parent class \n",
    "class Parent(): \n",
    "\t\n",
    "\t# Constructor \n",
    "\tdef __init__(self): \n",
    "\t\tself.value = \"Inside Parent\"\n",
    "\t\t\n",
    "\t# Parent's show method \n",
    "\tdef show(self): \n",
    "\t\tprint(self.value) \n",
    "\t\t\n",
    "# Defining child class \n",
    "class Child(Parent): \n",
    "\t\n",
    "\t# Constructor \n",
    "\tdef __init__(self): \n",
    "\t\tself.value = \"Inside Child\"\n",
    "\t\t\n",
    "\t# Child's show method \n",
    "\tdef show(self): \n",
    "\t\tprint(self.value) \n",
    "\t\t\n",
    "\t\t\n",
    "# Driver's code  \n",
    "obj2 = Child() \n",
    "\n",
    "obj2.show() "
   ]
  },
  {
   "cell_type": "code",
   "execution_count": 13,
   "metadata": {},
   "outputs": [
    {
     "name": "stdout",
     "output_type": "stream",
     "text": [
      "Inside Parent\n",
      "Inside Child\n"
     ]
    }
   ],
   "source": [
    "# Python program to demonstrate \n",
    "# calling the parent's class method \n",
    "# inside the overridden method \n",
    "\n",
    "class Parent(): \n",
    "\t\n",
    "\tdef show(self): \n",
    "\t\tprint(\"Inside Parent\") \n",
    "\t\t\n",
    "class Child(Parent): \n",
    "\t\n",
    "\tdef show(self): \n",
    "\t\t\n",
    "\t\t# Calling the parent's class \n",
    "\t\t# method \n",
    "\t\tParent.show(self) \n",
    "\t\tprint(\"Inside Child\") \n",
    "\t\t\n",
    "# Driver's code \n",
    "obj = Child() \n",
    "obj.show() \n"
   ]
  },
  {
   "cell_type": "code",
   "execution_count": 7,
   "metadata": {},
   "outputs": [
    {
     "name": "stdout",
     "output_type": "stream",
     "text": [
      "Inside Parent\n",
      "Inside Child\n"
     ]
    }
   ],
   "source": [
    "# Python program to demonstrate \n",
    "# calling the parent's class method \n",
    "# inside the overridden method using \n",
    "# super() \n",
    "\n",
    "class Parent(): \n",
    "\t\n",
    "\tdef show(self): \n",
    "\t\tprint(\"Inside Parent\") \n",
    "\t\t\n",
    "class Child(Parent): \n",
    "\t\n",
    "\tdef show(self): \n",
    "\t\t\n",
    "\t\t# Calling the parent's class \n",
    "\t\t# method \n",
    "\t\tsuper().show() \n",
    "\t\tprint(\"Inside Child\") \n",
    "\t\t\n",
    "# Driver's code \n",
    "obj = Child() \n",
    "obj.show() \n"
   ]
  },
  {
   "cell_type": "code",
   "execution_count": 15,
   "metadata": {},
   "outputs": [
    {
     "name": "stdout",
     "output_type": "stream",
     "text": [
      "['__class__', '__delattr__', '__dict__', '__dir__', '__doc__', '__eq__', '__format__', '__ge__', '__getattribute__', '__getstate__', '__gt__', '__hash__', '__init__', '__init_subclass__', '__le__', '__lt__', '__module__', '__ne__', '__new__', '__reduce__', '__reduce_ex__', '__repr__', '__setattr__', '__sizeof__', '__str__', '__subclasshook__', '__weakref__']\n"
     ]
    }
   ],
   "source": [
    "# Built-in dunder methods - (magic methods)\n",
    "\n",
    "class A:\n",
    "    pass\n",
    "\n",
    "o1 = A()\n",
    "\n",
    "print(dir(o1))\n"
   ]
  },
  {
   "cell_type": "code",
   "execution_count": 16,
   "metadata": {},
   "outputs": [
    {
     "name": "stdout",
     "output_type": "stream",
     "text": [
      "['__add__', '__class__', '__class_getitem__', '__contains__', '__delattr__', '__delitem__', '__dir__', '__doc__', '__eq__', '__format__', '__ge__', '__getattribute__', '__getitem__', '__getstate__', '__gt__', '__hash__', '__iadd__', '__imul__', '__init__', '__init_subclass__', '__iter__', '__le__', '__len__', '__lt__', '__mul__', '__ne__', '__new__', '__reduce__', '__reduce_ex__', '__repr__', '__reversed__', '__rmul__', '__setattr__', '__setitem__', '__sizeof__', '__str__', '__subclasshook__', 'append', 'clear', 'copy', 'count', 'extend', 'index', 'insert', 'pop', 'remove', 'reverse', 'sort']\n"
     ]
    }
   ],
   "source": [
    "A = []\n",
    "\n",
    "\n",
    "print(dir(A))"
   ]
  },
  {
   "cell_type": "markdown",
   "metadata": {},
   "source": []
  },
  {
   "cell_type": "code",
   "execution_count": null,
   "metadata": {},
   "outputs": [],
   "source": []
  },
  {
   "cell_type": "code",
   "execution_count": 3,
   "metadata": {},
   "outputs": [
    {
     "name": "stdout",
     "output_type": "stream",
     "text": [
      "<__main__.A object at 0x0000026679B161D0>\n"
     ]
    }
   ],
   "source": [
    "# object is call by repar method  withour __repr__\n",
    "\n",
    "class A:\n",
    "    pass\n",
    "\n",
    "o1 = A()\n",
    "\n",
    "print(o1)"
   ]
  },
  {
   "cell_type": "code",
   "execution_count": 4,
   "metadata": {},
   "outputs": [
    {
     "name": "stdout",
     "output_type": "stream",
     "text": [
      "object is printed\n"
     ]
    },
    {
     "ename": "TypeError",
     "evalue": "__str__ returned non-string (type NoneType)",
     "output_type": "error",
     "traceback": [
      "\u001b[1;31m---------------------------------------------------------------------------\u001b[0m",
      "\u001b[1;31mTypeError\u001b[0m                                 Traceback (most recent call last)",
      "Cell \u001b[1;32mIn[4], line 8\u001b[0m\n\u001b[0;32m      4\u001b[0m         \u001b[38;5;28mprint\u001b[39m(\u001b[38;5;124m\"\u001b[39m\u001b[38;5;124mobject is printed\u001b[39m\u001b[38;5;124m\"\u001b[39m)\n\u001b[0;32m      6\u001b[0m o1 \u001b[38;5;241m=\u001b[39m A()\n\u001b[1;32m----> 8\u001b[0m \u001b[38;5;28;43mprint\u001b[39;49m\u001b[43m(\u001b[49m\u001b[43mo1\u001b[49m\u001b[43m)\u001b[49m\n",
      "\u001b[1;31mTypeError\u001b[0m: __str__ returned non-string (type NoneType)"
     ]
    }
   ],
   "source": [
    "class A:\n",
    "    # pass\n",
    "    def __repr__(self):\n",
    "        print(\"object is printed\")\n",
    "    \n",
    "o1 = A()\n",
    "\n",
    "print(o1)"
   ]
  },
  {
   "cell_type": "code",
   "execution_count": 3,
   "metadata": {},
   "outputs": [
    {
     "data": {
      "text/plain": [
       "object is printed __repr__"
      ]
     },
     "execution_count": 3,
     "metadata": {},
     "output_type": "execute_result"
    }
   ],
   "source": [
    "class A:\n",
    "    # Used for debugging and development purposes to get the complete information of an object\n",
    "    def __repr__(self):\n",
    "        return \"object is printed __repr__\"\n",
    "    \n",
    "#    Used for creating user-friendly output and for displaying the object as a string\n",
    "    \n",
    "    def __str__(self) :\n",
    "        return \"object is printed __str__\"\n",
    "    \n",
    "o1 = A()\n",
    "\n",
    "# print(o1)\n",
    "o1\n"
   ]
  },
  {
   "cell_type": "code",
   "execution_count": 2,
   "metadata": {},
   "outputs": [
    {
     "name": "stdout",
     "output_type": "stream",
     "text": [
      "object is printed __str__\n"
     ]
    }
   ],
   "source": [
    "class A:\n",
    "    def __repr__(self):\n",
    "        return \"object is printed __repr__\"\n",
    "    \n",
    "    def __str__(self) :\n",
    "        return \"object is printed __str__\"\n",
    "    \n",
    "o1 = A()\n",
    "\n",
    "\n",
    "print(o1)"
   ]
  },
  {
   "cell_type": "code",
   "execution_count": 5,
   "metadata": {},
   "outputs": [
    {
     "name": "stdout",
     "output_type": "stream",
     "text": [
      " x = 5 & y = 3\n",
      " x = 1 & y = 6\n"
     ]
    }
   ],
   "source": [
    "# Operator Overloading\n",
    "\n",
    "\n",
    "class Complex:\n",
    "\n",
    "    def __init__(self, n1 , n2):\n",
    "        self.x = n1\n",
    "        self.y = n2\n",
    "\n",
    "    def getdata(self):\n",
    "        print(f\" x = {self.x} & y = {self.y}\")\n",
    "\n",
    "c1 = Complex(5,3)\n",
    "c2 = Complex(1,6)\n",
    "\n",
    "c1.getdata()\n",
    "c2.getdata()\n",
    "\n",
    "\n",
    "# print(c1 + c2)\n",
    "\n",
    "    "
   ]
  },
  {
   "cell_type": "code",
   "execution_count": 8,
   "metadata": {},
   "outputs": [],
   "source": [
    "def __add__(x,y):\n",
    "        p = x + y\n",
    "\n",
    "\n",
    "def __sub__(x,y):\n",
    "        p = x - y\n",
    "\n",
    "def __mul__(x,y):\n",
    "        p = x + y\n",
    "\n",
    "\n",
    "\n",
    "def add_demo(self , n):\n",
    "        p = self.x +  n.x \n",
    "        q = self.y + n.y\n",
    "       \n",
    "\n",
    "    "
   ]
  },
  {
   "cell_type": "code",
   "execution_count": 2,
   "metadata": {},
   "outputs": [
    {
     "name": "stdout",
     "output_type": "stream",
     "text": [
      " x = 5 & y = 3\n",
      " x = 1 & y = 6\n",
      " x = 6 & y = 9\n"
     ]
    }
   ],
   "source": [
    "class Complex:\n",
    "\n",
    "    def __init__(self, n1 , n2):\n",
    "        self.x = n1\n",
    "        self.y = n2\n",
    "\n",
    "    def __add__(self , n):\n",
    "        p = self.x -  n.x \n",
    "        q = self.y - n.y\n",
    "\n",
    "        return Complex(p , q)\n",
    "\n",
    "    def getdata(self):\n",
    "        print(f\" x = {self.x} & y = {self.y}\")\n",
    "\n",
    "c1 = Complex(5,3)\n",
    "\n",
    "c2 = Complex(1,6)\n",
    "\n",
    "\n",
    "c1.getdata()\n",
    "\n",
    "c2.getdata()\n",
    "\n",
    "\n",
    "print( c1 + c2 )  #c1.__add__(c2)\n",
    "\n",
    "c3 = c1 + c2\n",
    "\n",
    "c3.getdata()\n",
    "\n"
   ]
  },
  {
   "cell_type": "code",
   "execution_count": null,
   "metadata": {},
   "outputs": [],
   "source": [
    "# Working on Python Abstract classes \n",
    "\n",
    "# By default, Python does not provide abstract classes. Python comes with a module that provides the base for defining Abstract Base classes(ABC) and that module name is ABC.\n",
    "\n",
    "# ABC works by decorating methods of the base class as an abstract and then registering concrete classes as implementations of the abstract base. A method becomes abstract when decorated with the keyword @abstractmethod.\n",
    "\n",
    "# Example 1:\n",
    "\n",
    "# This code defines an abstract base class called “Polygon” using the ABC (Abstract Base Class) module in Python. The “Polygon” class has an abstract method called “noofsides” that needs to be implemented by its subclasses.\n",
    "\n",
    "# There are four subclasses of “Polygon” defined: “Triangle,” “Pentagon,” “Hexagon,” and “Quadrilateral.” Each of these subclasses overrides the “noofsides” method and provides its own implementation by printing the number of sides it has.\n",
    "\n",
    "# In the driver code, instances of each subclass are created, and the “noofsides” method is called on each instance to display the number of sides specific to that shape."
   ]
  },
  {
   "cell_type": "code",
   "execution_count": 1,
   "metadata": {},
   "outputs": [
    {
     "name": "stdout",
     "output_type": "stream",
     "text": [
      "I have 3 sides\n",
      "I have 4 sides\n",
      "I have 5 sides\n",
      "I have 6 sides\n"
     ]
    }
   ],
   "source": [
    "# Abstract Base Classes in Python\n",
    "\n",
    "# Python program showing \n",
    "# abstract base class work \n",
    "from abc import ABC, abstractmethod \n",
    "\n",
    "\n",
    "class Polygon(ABC): \n",
    "\n",
    "\t@abstractmethod\n",
    "\tdef noofsides(self): \n",
    "\t\tpass\n",
    "\n",
    "\n",
    "class Triangle(Polygon): \n",
    "\n",
    "\t# overriding abstract method \n",
    "\tdef noofsides(self): \n",
    "\t\tprint(\"I have 3 sides\") \n",
    "\n",
    "\n",
    "class Pentagon(Polygon): \n",
    "\n",
    "\t# overriding abstract method \n",
    "\tdef noofsides(self): \n",
    "\t\tprint(\"I have 5 sides\") \n",
    "\n",
    "\n",
    "class Hexagon(Polygon): \n",
    "\n",
    "\t# overriding abstract method \n",
    "\tdef noofsides(self): \n",
    "\t\tprint(\"I have 6 sides\") \n",
    "\n",
    "\n",
    "class Quadrilateral(Polygon): \n",
    "\n",
    "\t# overriding abstract method \n",
    "\tdef noofsides(self): \n",
    "\t\tprint(\"I have 4 sides\") \n",
    "\n",
    "\n",
    "# Driver code \n",
    "R = Triangle() \n",
    "R.noofsides() \n",
    "\n",
    "K = Quadrilateral() \n",
    "K.noofsides() \n",
    "\n",
    "R = Pentagon() \n",
    "R.noofsides() \n",
    "\n",
    "K = Hexagon() \n",
    "K.noofsides() \n"
   ]
  },
  {
   "cell_type": "code",
   "execution_count": 1,
   "metadata": {},
   "outputs": [
    {
     "name": "stdout",
     "output_type": "stream",
     "text": [
      "I can walk and run\n",
      "I can crawl\n",
      "I can bark\n",
      "I can roar\n"
     ]
    }
   ],
   "source": [
    "# Here, This code defines an abstract base class called “Animal” using the ABC (Abstract Base Class) module in Python. The “Animal” class has a non-abstract method called “move” that does not have any implementation. There are four subclasses of “Animal” defined: “Human,” “Snake,” “Dog,” and “Lion.” Each of these subclasses overrides the “move” method and provides its own implementation by printing a specific movement characteristic.\n",
    "\n",
    "# Python program showing \n",
    "# abstract base class work \n",
    "from abc import ABC, abstractmethod \n",
    "\n",
    "\n",
    "class Animal(ABC): \n",
    "\n",
    "\tdef move(self): \n",
    "\t\tpass\n",
    "\n",
    "class Human(Animal): \n",
    "\n",
    "\tdef move(self): \n",
    "\t\tprint(\"I can walk and run\") \n",
    "\n",
    "class Snake(Animal): \n",
    "\n",
    "\tdef move(self): \n",
    "\t\tprint(\"I can crawl\") \n",
    "\n",
    "class Dog(Animal): \n",
    "\n",
    "\tdef move(self): \n",
    "\t\tprint(\"I can bark\") \n",
    "\n",
    "class Lion(Animal): \n",
    "\n",
    "\tdef move(self): \n",
    "\t\tprint(\"I can roar\") \n",
    "\n",
    "# Driver code \n",
    "R = Human() \n",
    "R.move() \n",
    "\n",
    "K = Snake() \n",
    "K.move() \n",
    "\n",
    "R = Dog() \n",
    "R.move() \n",
    "\n",
    "K = Lion() \n",
    "K.move() \n",
    "\n",
    "O = Animal() \n",
    "O.move() \n"
   ]
  },
  {
   "cell_type": "code",
   "execution_count": 13,
   "metadata": {},
   "outputs": [
    {
     "name": "stdout",
     "output_type": "stream",
     "text": [
      "True\n",
      "True\n"
     ]
    }
   ],
   "source": [
    "# Python program showing \n",
    "# implementation of abstract \n",
    "# class through subclassing \n",
    "import abc \n",
    "\n",
    "class parent:\t \n",
    "\tdef geeks(self): \n",
    "\t\tpass\n",
    "\n",
    "class child(parent): \n",
    "\tdef geeks(self): \n",
    "\t\tprint(\"child class\") \n",
    "\n",
    "\n",
    "c1 = child()\n",
    "\n",
    "# Driver code \n",
    "print( issubclass(child, parent)) \n",
    "print( isinstance(c1, child))\n"
   ]
  },
  {
   "cell_type": "code",
   "execution_count": null,
   "metadata": {},
   "outputs": [],
   "source": [
    "# Python program invoking a \n",
    "# method using super() \n",
    "\n",
    "import abc \n",
    "from abc import ABC, abstractmethod \n",
    "\n",
    "class R(ABC): \n",
    "\tdef rk(self): \n",
    "\t\tprint(\"Abstract Base Class\") \n",
    "\n",
    "class K(R): \n",
    "\tdef rk(self): \n",
    "\t\tsuper().rk() \n",
    "\t\tprint(\"subclass \") \n",
    "\n",
    "# Driver code \n",
    "r = K() \n",
    "r.rk() \n"
   ]
  },
  {
   "cell_type": "code",
   "execution_count": 3,
   "metadata": {},
   "outputs": [
    {
     "ename": "TypeError",
     "evalue": "Can't instantiate abstract class Animal with abstract method move",
     "output_type": "error",
     "traceback": [
      "\u001b[1;31m---------------------------------------------------------------------------\u001b[0m",
      "\u001b[1;31mTypeError\u001b[0m                                 Traceback (most recent call last)",
      "Cell \u001b[1;32mIn[3], line 32\u001b[0m\n\u001b[0;32m     29\u001b[0m \t\u001b[38;5;28;01mdef\u001b[39;00m \u001b[38;5;21mmove\u001b[39m(\u001b[38;5;28mself\u001b[39m): \n\u001b[0;32m     30\u001b[0m \t\t\u001b[38;5;28mprint\u001b[39m(\u001b[38;5;124m\"\u001b[39m\u001b[38;5;124mI can roar\u001b[39m\u001b[38;5;124m\"\u001b[39m) \n\u001b[1;32m---> 32\u001b[0m c \u001b[38;5;241m=\u001b[39m \u001b[43mAnimal\u001b[49m\u001b[43m(\u001b[49m\u001b[43m)\u001b[49m\n\u001b[0;32m     34\u001b[0m c\u001b[38;5;241m.\u001b[39mmove()\n",
      "\u001b[1;31mTypeError\u001b[0m: Can't instantiate abstract class Animal with abstract method move"
     ]
    }
   ],
   "source": [
    "# Abstract Class Instantiation\n",
    "# Abstract classes are incomplete because they have methods that have nobody. If Python allows creating an object for abstract classes then using that object if anyone calls the abstract method, but there is no actual implementation to invoke.\n",
    "\n",
    "# So, we use an abstract class as a template and according to the need, we extend it and build on it before we can use it. Due to the fact, an abstract class is not a concrete class, it cannot be instantiated. When we create an object for the abstract class it raises an error.\n",
    "\n",
    "# Python program showing \n",
    "# abstract class cannot \n",
    "# be an instantiation \n",
    "\n",
    "from abc import ABC,abstractmethod \n",
    "\n",
    "class Animal(ABC): \n",
    "\t@abstractmethod\n",
    "\tdef move(self): \n",
    "\t\tpass\n",
    "class Human(Animal): \n",
    "\tdef move(self): \n",
    "\t\tprint(\"I can walk and run\") \n",
    "\n",
    "class Snake(Animal): \n",
    "\tdef move(self): \n",
    "\t\tprint(\"I can crawl\") \n",
    "\n",
    "class Dog(Animal): \n",
    "\tdef move(self): \n",
    "\t\tprint(\"I can bark\") \n",
    "\n",
    "class Lion(Animal): \n",
    "\tdef move(self): \n",
    "\t\tprint(\"I can roar\") \n",
    "\n",
    "c = Animal()\n",
    "\n",
    "c.move()\n",
    " "
   ]
  },
  {
   "cell_type": "code",
   "execution_count": null,
   "metadata": {},
   "outputs": [],
   "source": []
  }
 ],
 "metadata": {
  "kernelspec": {
   "display_name": "MIT_PYTHON",
   "language": "python",
   "name": "python3"
  },
  "language_info": {
   "codemirror_mode": {
    "name": "ipython",
    "version": 3
   },
   "file_extension": ".py",
   "mimetype": "text/x-python",
   "name": "python",
   "nbconvert_exporter": "python",
   "pygments_lexer": "ipython3",
   "version": "3.13.1"
  }
 },
 "nbformat": 4,
 "nbformat_minor": 2
}
