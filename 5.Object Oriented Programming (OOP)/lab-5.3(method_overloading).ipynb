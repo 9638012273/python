{
 "cells": [
  {
   "cell_type": "code",
   "execution_count": null,
   "metadata": {},
   "outputs": [],
   "source": [
    "# labwork-5.3 #\n",
    "#=============#\n",
    "\n",
    "#Question bank link\n",
    "\n",
    "#https://docs.google.com/document/d/13oPPvlNOS2wBytAtVf45d0800gSB-lUh5KN08kRAMzg/edit?tab=t.0"
   ]
  },
  {
   "cell_type": "code",
   "execution_count": 9,
   "metadata": {},
   "outputs": [
    {
     "name": "stdout",
     "output_type": "stream",
     "text": [
      " x = 5 & y = 3\n",
      " x = 1 & y = 6\n",
      "================\n",
      " x = 4 & y = -3\n"
     ]
    }
   ],
   "source": [
    "#que-1\n",
    "#add using polymorphisam\n",
    "\n",
    "class Complex:\n",
    "\n",
    "    def __init__(self, n1 , n2):\n",
    "        self.x = n1\n",
    "        self.y = n2\n",
    "\n",
    "    def __add__(self , n):\n",
    "        p = self.x -  n.x \n",
    "        q = self.y - n.y\n",
    "\n",
    "        return Complex(p , q)\n",
    "\n",
    "    def getdata(self):\n",
    "        print(f\" x = {self.x} & y = {self.y}\")\n",
    "\n",
    "c1 = Complex(5,3)\n",
    "c2 = Complex(1,6)\n",
    "\n",
    "\n",
    "c1.getdata()\n",
    "c2.getdata()\n",
    "\n",
    "print(\"================\")\n",
    "#print( c1 + c2 )  #c1.__add__(c2)\n",
    "c3 = c1 + c2\n",
    "c3.getdata()\n",
    "\n"
   ]
  },
  {
   "cell_type": "code",
   "execution_count": 18,
   "metadata": {},
   "outputs": [
    {
     "name": "stdout",
     "output_type": "stream",
     "text": [
      "Area of circle:78.5\n",
      "Area of rectangle:30\n"
     ]
    }
   ],
   "source": [
    "#que-2\n",
    "#add using polymorphisam an dinheritance\n",
    "\n",
    "class Shape:\n",
    "\n",
    "    def area(self):\n",
    "        pass\n",
    "\n",
    "class Circle(Shape):\n",
    "    def __init__(self,redious):\n",
    "        self.r=redious\n",
    "\n",
    "    def area(self):\n",
    "        ar=3.14 * self.r **2\n",
    "        return ar\n",
    "\n",
    "class Rectangle(Shape):\n",
    "    def __init__(self,length,width):\n",
    "        self.l=length\n",
    "        self.w=width\n",
    "    \n",
    "    def area(self):\n",
    "        \n",
    "        return self.l*self.w\n",
    "    \n",
    "c1=Circle(5)\n",
    "r1=Rectangle(5,6)\n",
    "\n",
    "print(f\"Area of circle:{c1.area()}\")\n",
    "print(f\"Area of rectangle:{r1.area()}\")\n",
    "\n"
   ]
  },
  {
   "cell_type": "code",
   "execution_count": 26,
   "metadata": {},
   "outputs": [
    {
     "name": "stdout",
     "output_type": "stream",
     "text": [
      "String: 12\n",
      "List: 7\n",
      "Dictionary: 3\n"
     ]
    }
   ],
   "source": [
    "#que-3\n",
    "#add using polymorphisam built in function\n",
    "\n",
    "class Hello:\n",
    "    def __init__(self,str):\n",
    "        self.string=str\n",
    "        print(\"String:\",len(self.string))\n",
    "\n",
    "class List:\n",
    "    def __init__(self,list):\n",
    "        self.listt=list\n",
    "        print(\"List:\",len(self.listt))\n",
    "\n",
    "class Dict:\n",
    "    def __init__(self,dct):\n",
    "        self.dictt=dct\n",
    "        print(\"Dictionary:\",len(self.dictt))\n",
    "\n",
    "str=\"hello world!\"\n",
    "h1=Hello(str)\n",
    "\n",
    "llist=[1,2,3,4,'hello',True,34]\n",
    "l1=List(llist)\n",
    "\n",
    "dct={\n",
    "    \"id\":1,\n",
    "    \"name\":\"jil\",\n",
    "    \"work\":\"product\",\n",
    "}\n",
    "d1=Dict(dct)"
   ]
  },
  {
   "cell_type": "code",
   "execution_count": 30,
   "metadata": {},
   "outputs": [
    {
     "name": "stdout",
     "output_type": "stream",
     "text": [
      "This call Train travel\n",
      "This call PLane travel\n"
     ]
    }
   ],
   "source": [
    "#que-4\n",
    "#add using polymorphisam built in function\n",
    "\n",
    "class Train:\n",
    "    def __init__(self):\n",
    "        print(\"This call Train travel\")\n",
    "\n",
    "class Plane(Train):\n",
    "    def __init__(self):\n",
    "        print(\"This call PLane travel\")\n",
    "\n",
    "\n",
    "t1=Train()\n",
    "p1=Plane()\n",
    "\n",
    "\n"
   ]
  },
  {
   "cell_type": "code",
   "execution_count": 41,
   "metadata": {},
   "outputs": [
    {
     "name": "stdout",
     "output_type": "stream",
     "text": [
      "15\n"
     ]
    }
   ],
   "source": [
    "#que-5\n",
    "#add using polymorphisam built in function\n",
    "\n",
    "class Calculate:\n",
    "\n",
    "    def __init__(self, n1 , n2):\n",
    "        self.x = n1\n",
    "        self.y = n2\n",
    "\n",
    "    def multiply(self):\n",
    "        p = self.x * self.y\n",
    "        print(p)\n",
    "\n",
    "c1 = Calculate(5,3)\n",
    "\n",
    "c1.multiply()\n",
    "\n"
   ]
  },
  {
   "cell_type": "code",
   "execution_count": 42,
   "metadata": {},
   "outputs": [
    {
     "name": "stdout",
     "output_type": "stream",
     "text": [
      "cat speak meow\n",
      "dog speah bhow bhow\n"
     ]
    }
   ],
   "source": [
    "#que-6\n",
    "\n",
    "class Animal():\n",
    "    def speak():\n",
    "        pass\n",
    "\n",
    "class Cat(Animal):\n",
    "    def speak():\n",
    "        print(\"cat speak meow\")\n",
    "\n",
    "class Dog(Animal):\n",
    "    def speak():\n",
    "        print(\"dog speah bhow bhow\")\n",
    "\n",
    "c1=Cat\n",
    "c1.speak()\n",
    "\n",
    "d1=Dog\n",
    "d1.speak()\n",
    "    "
   ]
  },
  {
   "cell_type": "code",
   "execution_count": null,
   "metadata": {},
   "outputs": [],
   "source": []
  }
 ],
 "metadata": {
  "kernelspec": {
   "display_name": "MIT_PYTHON",
   "language": "python",
   "name": "python3"
  },
  "language_info": {
   "codemirror_mode": {
    "name": "ipython",
    "version": 3
   },
   "file_extension": ".py",
   "mimetype": "text/x-python",
   "name": "python",
   "nbconvert_exporter": "python",
   "pygments_lexer": "ipython3",
   "version": "3.13.1"
  }
 },
 "nbformat": 4,
 "nbformat_minor": 2
}
