{
 "cells": [
  {
   "cell_type": "code",
   "execution_count": null,
   "metadata": {},
   "outputs": [],
   "source": [
    "%pip install requests\n",
    "%pip install --upgrade pip\n",
    "%pip install html5lib\n",
    "%pip install beautifulsoup4\n",
    "%pip install lxml\n",
    " "
   ]
  },
  {
   "cell_type": "code",
   "execution_count": null,
   "metadata": {},
   "outputs": [],
   "source": [
    "import requests\n",
    "from bs4 import BeautifulSoup\n",
    "import pandas as pd\n",
    "\n",
    "Weather=[]\n",
    "Day=[]\n",
    "\n",
    "url=\"https://weather.com/en-GB/weather/tenday/l/Surat+Gujarat+India?canonicalCityId=75ef1280a5b3c404918862c0d70da9dd41dfa23eece46ce89b8d26e7b8f389e7\"\n",
    "\n",
    "request=requests.get(url)\n",
    "\n",
    "soup=BeautifulSoup(request.text,\"html.parser\")\n",
    "\n",
    "\n",
    "weather=soup.find_all(\"span\",class_=\"DetailsSummary--highTempValue--VHKaO\")\n",
    "\n",
    "for data in weather:\n",
    "    wth=data.text\n",
    "    Weather.append(wth)\n",
    "\n",
    "day=soup.find_all(\"h2\",class_=\"DetailsSummary--daypartName--CcVUz\")\n",
    "\n",
    "for datas in day:\n",
    "    day_data=datas.text\n",
    "    Day.append(day_data)\n",
    "\n",
    "dataframe=pd.DataFrame({\"Date/Day\":Day,\"Tempreture\":Weather})\n",
    "dataframe.to_csv(\"Weather.csv\")"
   ]
  },
  {
   "cell_type": "code",
   "execution_count": null,
   "metadata": {},
   "outputs": [],
   "source": []
  }
 ],
 "metadata": {
  "kernelspec": {
   "display_name": "MIT_PYTHON",
   "language": "python",
   "name": "python3"
  },
  "language_info": {
   "codemirror_mode": {
    "name": "ipython",
    "version": 3
   },
   "file_extension": ".py",
   "mimetype": "text/x-python",
   "name": "python",
   "nbconvert_exporter": "python",
   "pygments_lexer": "ipython3",
   "version": "3.13.1"
  }
 },
 "nbformat": 4,
 "nbformat_minor": 2
}
