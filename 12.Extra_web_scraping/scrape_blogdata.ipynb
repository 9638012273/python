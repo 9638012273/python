{
 "cells": [
  {
   "cell_type": "code",
   "execution_count": null,
   "metadata": {},
   "outputs": [],
   "source": [
    "%pip install requests\n",
    "%pip install --upgrade pip\n",
    "%pip install html5lib\n",
    "%pip install beautifulsoup4\n",
    "%pip install pandas"
   ]
  },
  {
   "cell_type": "code",
   "execution_count": 16,
   "metadata": {},
   "outputs": [
    {
     "name": "stdout",
     "output_type": "stream",
     "text": [
      "How to Scrape Xiaohongshu Data Using Octoparse\n",
      "Four Steps to Build AOL Search Scrapers for Scraping Search Results\n",
      "How To Efficiently Scrape CoinMarketCap Data\n",
      "3 Easy Ways to Scrape Website to Excel\n",
      "Easy Methods To Scrape Deldure Data\n",
      "How to Scrape CNBC Data Without Coding\n",
      "Legal Considerations You Should Know While Scraping Amazon\n",
      "How to Scrape Hotels Data from Agoda Without Coding\n",
      "How to Scrape Real-time Data from Websites\n",
      "Four Steps to Scraping GoodFirms data\n",
      "What Is XPath and How to Use It in Octoparse?\n",
      "Simple Ways to Scrape Target Data\n",
      "https://www.octoparse.com/blog/how-to-scrape-xiaohongshu-data\n",
      "https://www.octoparse.com/blog/how-to-build-aol-search-scrapers-easily\n",
      "https://www.octoparse.com/blog/how-to-scrape-coinmarketcap-data\n",
      "https://www.octoparse.com/blog/scraping-data-from-website-to-excel\n",
      "https://www.octoparse.com/blog/easy-methods-to-scrape-deldure-data\n",
      "https://www.octoparse.com/blog/how-to-scrape-cnbc-data-without-coding\n",
      "https://www.octoparse.com/blog/is-it-legal-to-scrape-amazon-data\n",
      "https://www.octoparse.com/blog/how-to-scrape-agoda-data-without-coding\n",
      "https://www.octoparse.com/blog/get-real-time-data-scraped-from-a-website-via-api\n",
      "https://www.octoparse.com/blog/four-steps-to-scraping-goodfirms-data\n",
      "https://www.octoparse.com/blog/what-is-xpath-and-how-to-use-it-in-octoparse\n",
      "https://www.octoparse.com/blog/simple-ways-to-scrape-target-data\n",
      "12\n",
      "12\n"
     ]
    }
   ],
   "source": [
    "import requests\n",
    "from bs4 import BeautifulSoup\n",
    "import pandas as pd\n",
    "\n",
    "Title=[]\n",
    "Link=[]\n",
    "\n",
    "url=\"https://www.octoparse.com/blog\"\n",
    "\n",
    "re=requests.get(url)\n",
    "\n",
    "soup=BeautifulSoup(re.text,\"html.parser\")\n",
    "\n",
    "title=soup.find_all(\"div\",class_=\"posts_card__aP9rp\")\n",
    "\n",
    "for i in title:\n",
    "    tt=i.h2.text\n",
    "    Title.append(tt)\n",
    "\n",
    "for i in Title:\n",
    "    print(i)\n",
    "\n",
    "links=soup.find_all(\"h2\",class_=\"title\")\n",
    "\n",
    "n_url=\"https://www.octoparse.com\"\n",
    "for i in links:\n",
    "    \n",
    "    tt=n_url+i.a['href']\n",
    "    Link.append(tt)\n",
    "\n",
    "for i in Link:\n",
    "    print(i)\n",
    "\n",
    "print(len(Title))\n",
    "print(len(Link))"
   ]
  },
  {
   "cell_type": "code",
   "execution_count": null,
   "metadata": {},
   "outputs": [],
   "source": []
  }
 ],
 "metadata": {
  "kernelspec": {
   "display_name": "MIT_PYTHON",
   "language": "python",
   "name": "python3"
  },
  "language_info": {
   "codemirror_mode": {
    "name": "ipython",
    "version": 3
   },
   "file_extension": ".py",
   "mimetype": "text/x-python",
   "name": "python",
   "nbconvert_exporter": "python",
   "pygments_lexer": "ipython3",
   "version": "3.13.1"
  }
 },
 "nbformat": 4,
 "nbformat_minor": 2
}
