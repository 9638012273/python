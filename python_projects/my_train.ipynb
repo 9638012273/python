{
 "cells": [
  {
   "cell_type": "code",
   "execution_count": 3,
   "metadata": {},
   "outputs": [
    {
     "name": "stdout",
     "output_type": "stream",
     "text": [
      "3.3333333333333335\n",
      "12.333333333333334\n"
     ]
    }
   ],
   "source": [
    "time1=7\n",
    "speed1=50\n",
    "\n",
    "time2=9\n",
    "speed2=80\n",
    "\n",
    "if time1<time2:\n",
    "    distance=speed1*(time2-time1)\n",
    "    diffrent=speed2-speed1\n",
    "\n",
    "    time=distance/diffrent\n",
    "\n",
    "    print(time)\n",
    "\n",
    "    total_time=time2+time\n",
    "    print(total_time)\n",
    "\n",
    "else:\n",
    "    distance=speed2*(time1-time2)\n",
    "    diffrent=speed1-speed2\n",
    "\n",
    "    time=distance/diffrent\n",
    "\n",
    "    total_time=time1+time\n",
    "    print(\"else part\")\n",
    "    print(total_time)\n",
    "\n"
   ]
  },
  {
   "cell_type": "code",
   "execution_count": null,
   "metadata": {},
   "outputs": [],
   "source": []
  }
 ],
 "metadata": {
  "kernelspec": {
   "display_name": "Python 3",
   "language": "python",
   "name": "python3"
  },
  "language_info": {
   "codemirror_mode": {
    "name": "ipython",
    "version": 3
   },
   "file_extension": ".py",
   "mimetype": "text/x-python",
   "name": "python",
   "nbconvert_exporter": "python",
   "pygments_lexer": "ipython3",
   "version": "3.13.1"
  }
 },
 "nbformat": 4,
 "nbformat_minor": 2
}
