{
 "cells": [
  {
   "cell_type": "code",
   "execution_count": null,
   "metadata": {},
   "outputs": [],
   "source": [
    "first_time=int(input(\"Enter First Train Time\"))\n",
    "first_speed=int(input(\"Enter First Train Speed(in 0-99 km):\"))\n",
    "\n",
    "second_time=int(input(\"Enter Second Train Time:\"))\n",
    "second_speed=int(input(\"Enter Second Train Speed(in 0-99 km):\"))\n",
    "\n",
    "# time_sum=first_train+second_train\n",
    "\n",
    "# total_speed=(first_speed*second_speed)/10\n",
    "\n",
    "# total_time=(total_speed/time_sum)/10\n",
    "\n",
    "# print(f\"time is:{total_time} When Total KM is:{total_speed}\")\n",
    "\n",
    "test = True\n",
    "while test:\n",
    "    first_train_hour = first_time * first_speed\n",
    "    second_train_hour = second_time * second_speed\n",
    "    if first_train_hour == second_train_hour:\n",
    "        print(f\"time is:{first_time} When Total KM is:{first_train_hour}\")\n",
    "        test = False\n",
    "    first_time += 1\n",
    "    second_time += 1\n",
    "\n",
    "\n",
    "\n",
    "\n",
    "\n"
   ]
  }
 ],
 "metadata": {
  "kernelspec": {
   "display_name": "MIT_PYTHON",
   "language": "python",
   "name": "python3"
  },
  "language_info": {
   "codemirror_mode": {
    "name": "ipython",
    "version": 3
   },
   "file_extension": ".py",
   "mimetype": "text/x-python",
   "name": "python",
   "nbconvert_exporter": "python",
   "pygments_lexer": "ipython3",
   "version": "3.13.1"
  }
 },
 "nbformat": 4,
 "nbformat_minor": 2
}
